{
 "cells": [
  {
   "cell_type": "code",
   "execution_count": null,
   "metadata": {},
   "outputs": [],
   "source": [
    "from zenq.clvmodels import modeling"
   ]
  },
  {
   "cell_type": "code",
   "execution_count": null,
   "metadata": {},
   "outputs": [],
   "source": [
    "from zenq.api import endpoints"
   ]
  },
  {
   "cell_type": "code",
   "execution_count": null,
   "metadata": {},
   "outputs": [],
   "source": [
    "from zenq.api import prepare_db"
   ]
  },
  {
   "cell_type": "code",
   "execution_count": 1,
   "metadata": {},
   "outputs": [],
   "source": [
    "from zenq.visualizations import plot"
   ]
  },
  {
   "cell_type": "code",
   "execution_count": 2,
   "metadata": {},
   "outputs": [],
   "source": [
    "from zenq import utils"
   ]
  },
  {
   "cell_type": "code",
   "execution_count": 3,
   "metadata": {},
   "outputs": [
    {
     "name": "stdout",
     "output_type": "stream",
     "text": [
      "ok\n",
      "None\n"
     ]
    }
   ],
   "source": [
    "plot.PlotUtils.pu()"
   ]
  },
  {
   "cell_type": "code",
   "execution_count": 7,
   "metadata": {},
   "outputs": [
    {
     "ename": "NameError",
     "evalue": "name 'prepare_db' is not defined",
     "output_type": "error",
     "traceback": [
      "\u001b[0;31m---------------------------------------------------------------------------\u001b[0m",
      "\u001b[0;31mNameError\u001b[0m                                 Traceback (most recent call last)",
      "Cell \u001b[0;32mIn[7], line 1\u001b[0m\n\u001b[0;32m----> 1\u001b[0m prepare_db\u001b[39m.\u001b[39mdb\u001b[39m.\u001b[39mmain()\n",
      "\u001b[0;31mNameError\u001b[0m: name 'prepare_db' is not defined"
     ]
    }
   ],
   "source": [
    "\n",
    "prepare_db.db.main()"
   ]
  },
  {
   "cell_type": "code",
   "execution_count": 1,
   "metadata": {},
   "outputs": [
    {
     "name": "stdout",
     "output_type": "stream",
     "text": [
      "        Customer        Date  Product weight  Product price Gender  \\\n",
      "0      RXZ350571  2022-09-01            4.40        24200.0      M   \n",
      "1      ZFZ316415  2022-09-01            5.86        35160.0      M   \n",
      "2      KPR936365  2022-09-01            3.76        30080.0      M   \n",
      "3      PBI351070  2022-09-01            2.74        21920.0      F   \n",
      "4      RFI100548  2022-09-01            5.99        35940.0      M   \n",
      "...          ...         ...             ...            ...    ...   \n",
      "21995  QAC630422  2023-04-08            4.09        22495.0      F   \n",
      "21996  MUN988629  2023-04-08            4.34        26040.0      F   \n",
      "21997  QRO989642  2023-04-08            5.16        10320.0      M   \n",
      "21998  NTW716871  2023-04-08            1.39         8340.0      F   \n",
      "21999  FYN433456  2023-04-08            1.93        10615.0      F   \n",
      "\n",
      "      Branch/Locker Location InvoiceId  \n",
      "0      G-Location 1  Yerevan     INV-1  \n",
      "1      G-Location 2  Yerevan     INV-2  \n",
      "2      G-Location 2  Yerevan     INV-3  \n",
      "3      G-Location 3  Yerevan     INV-4  \n",
      "4      G-Location 2  Yerevan     INV-5  \n",
      "...             ...      ...       ...  \n",
      "21995  G-Location 5  Yerevan    INV-96  \n",
      "21996  G-Location 5  Yerevan    INV-97  \n",
      "21997  G-Location 2  Yerevan    INV-98  \n",
      "21998  G-Location 1  Yerevan    INV-99  \n",
      "21999  G-Location 3  Yerevan   INV-100  \n",
      "\n",
      "[22000 rows x 8 columns]\n"
     ]
    }
   ],
   "source": [
    "from zenq.api.endpoints import points\n",
    "\n",
    "# create an instance of the points class\n",
    "p = points()\n",
    "\n",
    "# call the read_csv method on the points instance\n",
    "p.read_csv('globbing.csv')\n",
    "print(p.df)\n"
   ]
  },
  {
   "cell_type": "code",
   "execution_count": 2,
   "metadata": {},
   "outputs": [
    {
     "data": {
      "application/vnd.jupyter.widget-view+json": {
       "model_id": "628cba6518bd4ba68d18f620cd97ba03",
       "version_major": 2,
       "version_minor": 0
      },
      "text/plain": [
       "Dropdown(description='Choose column', options=('Customer', 'Date', 'Product weight', 'Product price', 'Gender'…"
      ]
     },
     "metadata": {},
     "output_type": "display_data"
    },
    {
     "data": {
      "application/vnd.jupyter.widget-view+json": {
       "model_id": "9156a1331841453a9a4fa37d8f167dca",
       "version_major": 2,
       "version_minor": 0
      },
      "text/plain": [
       "Button(description='Submit', style=ButtonStyle())"
      ]
     },
     "metadata": {},
     "output_type": "display_data"
    },
    {
     "data": {
      "application/vnd.jupyter.widget-view+json": {
       "model_id": "7b18cc009d6c4768ba75ab3c1833b678",
       "version_major": 2,
       "version_minor": 0
      },
      "text/plain": [
       "Output()"
      ]
     },
     "metadata": {},
     "output_type": "display_data"
    }
   ],
   "source": [
    "from zenq.api.endpoints import points \n",
    "# create an instance of the Points class\n",
    "p=points()\n",
    "p.insert_location_name('globbing.csv')"
   ]
  },
  {
   "cell_type": "code",
   "execution_count": 3,
   "metadata": {},
   "outputs": [
    {
     "ename": "KeyError",
     "evalue": "\"None of [Index(['customer_id', 'gender'], dtype='object')] are in the [columns]\"",
     "output_type": "error",
     "traceback": [
      "\u001b[0;31m---------------------------------------------------------------------------\u001b[0m",
      "\u001b[0;31mKeyError\u001b[0m                                  Traceback (most recent call last)",
      "Cell \u001b[0;32mIn[3], line 4\u001b[0m\n\u001b[1;32m      2\u001b[0m \u001b[39m# create an instance of the Points class\u001b[39;00m\n\u001b[1;32m      3\u001b[0m p\u001b[39m=\u001b[39mpoints()\n\u001b[0;32m----> 4\u001b[0m p\u001b[39m.\u001b[39;49minsert_customer(\u001b[39m'\u001b[39;49m\u001b[39mglobbing.csv\u001b[39;49m\u001b[39m'\u001b[39;49m)\n",
      "File \u001b[0;32m~/Desktop/zenq/zenq/api/endpoints.py:72\u001b[0m, in \u001b[0;36mpoints.insert_customer\u001b[0;34m(self, filename)\u001b[0m\n\u001b[1;32m     69\u001b[0m \u001b[39mself\u001b[39m\u001b[39m.\u001b[39mread_csv(filename)\n\u001b[1;32m     71\u001b[0m \u001b[39m# Insert the data into the Customer table\u001b[39;00m\n\u001b[0;32m---> 72\u001b[0m \u001b[39mself\u001b[39;49m\u001b[39m.\u001b[39;49mdf[[\u001b[39m'\u001b[39;49m\u001b[39mcustomer_id\u001b[39;49m\u001b[39m'\u001b[39;49m, \u001b[39m'\u001b[39;49m\u001b[39mgender\u001b[39;49m\u001b[39m'\u001b[39;49m]]\u001b[39m.\u001b[39mdrop_duplicates()\u001b[39m.\u001b[39mapply(\n\u001b[1;32m     73\u001b[0m \u001b[39mlambda\u001b[39;00m x: Customer(customer_id\u001b[39m=\u001b[39mx[\u001b[39m'\u001b[39m\u001b[39mcustomer_id\u001b[39m\u001b[39m'\u001b[39m], gender\u001b[39m=\u001b[39mx[\u001b[39m'\u001b[39m\u001b[39mgender\u001b[39m\u001b[39m'\u001b[39m]), axis\u001b[39m=\u001b[39m\u001b[39m1\u001b[39m\n\u001b[1;32m     74\u001b[0m )\u001b[39m.\u001b[39mto_sql(\u001b[39m'\u001b[39m\u001b[39mCustomer\u001b[39m\u001b[39m'\u001b[39m, \u001b[39mself\u001b[39m\u001b[39m.\u001b[39mengine, schema\u001b[39m=\u001b[39m\u001b[39m'\u001b[39m\u001b[39minitial\u001b[39m\u001b[39m'\u001b[39m, if_exists\u001b[39m=\u001b[39m\u001b[39m'\u001b[39m\u001b[39mappend\u001b[39m\u001b[39m'\u001b[39m, index\u001b[39m=\u001b[39m\u001b[39mFalse\u001b[39;00m)\n",
      "File \u001b[0;32m/opt/anaconda3/lib/python3.8/site-packages/pandas/core/frame.py:3030\u001b[0m, in \u001b[0;36mDataFrame.__getitem__\u001b[0;34m(self, key)\u001b[0m\n\u001b[1;32m   3028\u001b[0m     \u001b[39mif\u001b[39;00m is_iterator(key):\n\u001b[1;32m   3029\u001b[0m         key \u001b[39m=\u001b[39m \u001b[39mlist\u001b[39m(key)\n\u001b[0;32m-> 3030\u001b[0m     indexer \u001b[39m=\u001b[39m \u001b[39mself\u001b[39;49m\u001b[39m.\u001b[39;49mloc\u001b[39m.\u001b[39;49m_get_listlike_indexer(key, axis\u001b[39m=\u001b[39;49m\u001b[39m1\u001b[39;49m, raise_missing\u001b[39m=\u001b[39;49m\u001b[39mTrue\u001b[39;49;00m)[\u001b[39m1\u001b[39m]\n\u001b[1;32m   3032\u001b[0m \u001b[39m# take() does not accept boolean indexers\u001b[39;00m\n\u001b[1;32m   3033\u001b[0m \u001b[39mif\u001b[39;00m \u001b[39mgetattr\u001b[39m(indexer, \u001b[39m\"\u001b[39m\u001b[39mdtype\u001b[39m\u001b[39m\"\u001b[39m, \u001b[39mNone\u001b[39;00m) \u001b[39m==\u001b[39m \u001b[39mbool\u001b[39m:\n",
      "File \u001b[0;32m/opt/anaconda3/lib/python3.8/site-packages/pandas/core/indexing.py:1266\u001b[0m, in \u001b[0;36m_LocIndexer._get_listlike_indexer\u001b[0;34m(self, key, axis, raise_missing)\u001b[0m\n\u001b[1;32m   1263\u001b[0m \u001b[39melse\u001b[39;00m:\n\u001b[1;32m   1264\u001b[0m     keyarr, indexer, new_indexer \u001b[39m=\u001b[39m ax\u001b[39m.\u001b[39m_reindex_non_unique(keyarr)\n\u001b[0;32m-> 1266\u001b[0m \u001b[39mself\u001b[39;49m\u001b[39m.\u001b[39;49m_validate_read_indexer(keyarr, indexer, axis, raise_missing\u001b[39m=\u001b[39;49mraise_missing)\n\u001b[1;32m   1267\u001b[0m \u001b[39mreturn\u001b[39;00m keyarr, indexer\n",
      "File \u001b[0;32m/opt/anaconda3/lib/python3.8/site-packages/pandas/core/indexing.py:1308\u001b[0m, in \u001b[0;36m_LocIndexer._validate_read_indexer\u001b[0;34m(self, key, indexer, axis, raise_missing)\u001b[0m\n\u001b[1;32m   1306\u001b[0m \u001b[39mif\u001b[39;00m missing \u001b[39m==\u001b[39m \u001b[39mlen\u001b[39m(indexer):\n\u001b[1;32m   1307\u001b[0m     axis_name \u001b[39m=\u001b[39m \u001b[39mself\u001b[39m\u001b[39m.\u001b[39mobj\u001b[39m.\u001b[39m_get_axis_name(axis)\n\u001b[0;32m-> 1308\u001b[0m     \u001b[39mraise\u001b[39;00m \u001b[39mKeyError\u001b[39;00m(\u001b[39mf\u001b[39m\u001b[39m\"\u001b[39m\u001b[39mNone of [\u001b[39m\u001b[39m{\u001b[39;00mkey\u001b[39m}\u001b[39;00m\u001b[39m] are in the [\u001b[39m\u001b[39m{\u001b[39;00maxis_name\u001b[39m}\u001b[39;00m\u001b[39m]\u001b[39m\u001b[39m\"\u001b[39m)\n\u001b[1;32m   1310\u001b[0m ax \u001b[39m=\u001b[39m \u001b[39mself\u001b[39m\u001b[39m.\u001b[39mobj\u001b[39m.\u001b[39m_get_axis(axis)\n\u001b[1;32m   1312\u001b[0m \u001b[39m# We (temporarily) allow for some missing keys with .loc, except in\u001b[39;00m\n\u001b[1;32m   1313\u001b[0m \u001b[39m# some cases (e.g. setting) in which \"raise_missing\" will be False\u001b[39;00m\n",
      "\u001b[0;31mKeyError\u001b[0m: \"None of [Index(['customer_id', 'gender'], dtype='object')] are in the [columns]\""
     ]
    }
   ],
   "source": [
    "from zenq.api.endpoints import points \n",
    "# create an instance of the Points class\n",
    "p=points()\n",
    "p.insert_customer('globbing.csv')"
   ]
  },
  {
   "cell_type": "code",
   "execution_count": null,
   "metadata": {},
   "outputs": [],
   "source": [
    "print(self.df.columns)\n"
   ]
  }
 ],
 "metadata": {
  "kernelspec": {
   "display_name": "base",
   "language": "python",
   "name": "python3"
  },
  "language_info": {
   "codemirror_mode": {
    "name": "ipython",
    "version": 3
   },
   "file_extension": ".py",
   "mimetype": "text/x-python",
   "name": "python",
   "nbconvert_exporter": "python",
   "pygments_lexer": "ipython3",
   "version": "3.8.8"
  },
  "orig_nbformat": 4,
  "vscode": {
   "interpreter": {
    "hash": "40d3a090f54c6569ab1632332b64b2c03c39dcf918b08424e98f38b5ae0af88f"
   }
  }
 },
 "nbformat": 4,
 "nbformat_minor": 2
}
