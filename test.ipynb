{
 "cells": [
  {
   "cell_type": "markdown",
   "metadata": {},
   "source": [
    "### RUN IN TERMINAL FOR DATABASE CREATION\n",
    "\n",
    "docker ps (to see the running containers)\n",
    "\n",
    "docker stop id (write instead of id what you want to delete)\n",
    "\n",
    "docker rm -f $(docker ps -aq) (delete every running container)\n",
    "\n",
    "docker run --name my-postgres-db -e POSTGRES_USER=master -e POSTGRES_PASSWORD=pass -e POSTGRES_DB=GLOBBING -p 5432:5432 -d postgres"
   ]
  },
  {
   "cell_type": "markdown",
   "metadata": {},
   "source": [
    "# Initialize the database by creating the tables"
   ]
  },
  {
   "cell_type": "code",
   "execution_count": 1,
   "metadata": {},
   "outputs": [
    {
     "name": "stderr",
     "output_type": "stream",
     "text": [
      "\u001b[38;20m2023-05-01 20:51:22,685 - prepare_db.py - INFO - db (prepare_db.py:37)\u001b[0m\n",
      "2023-05-01 20:51:22,685 main db\n"
     ]
    },
    {
     "name": "stdout",
     "output_type": "stream",
     "text": [
      "Initializing the database.. done\n"
     ]
    }
   ],
   "source": [
    "from zenq.api.prepare_db import db\n",
    "m=db()\n",
    "m.main()"
   ]
  },
  {
   "cell_type": "markdown",
   "metadata": {},
   "source": [
    "# Insert Facts into database"
   ]
  },
  {
   "cell_type": "code",
   "execution_count": 2,
   "metadata": {},
   "outputs": [
    {
     "name": "stdout",
     "output_type": "stream",
     "text": [
      "Inserting facts for Customer from file globbing.csv\n"
     ]
    },
    {
     "name": "stderr",
     "output_type": "stream",
     "text": [
      "\u001b[31;20m2023-05-01 20:53:08,492 - endpoints.py - ERROR - insert_facts (endpoints.py:123)\u001b[0m\n",
      "2023-05-01 20:53:08,492 insert_facts insert_facts\n",
      "\u001b[33;20m2023-05-01 20:53:08,494 - endpoints.py - WARNING - insert_facts (endpoints.py:124)\u001b[0m\n",
      "2023-05-01 20:53:08,494 insert_facts insert_facts\n",
      "\u001b[38;20m2023-05-01 20:53:08,495 - endpoints.py - INFO - insert_facts (endpoints.py:125)\u001b[0m\n",
      "2023-05-01 20:53:08,495 insert_facts insert_facts\n"
     ]
    },
    {
     "name": "stdout",
     "output_type": "stream",
     "text": [
      "Finished inserting facts\n"
     ]
    }
   ],
   "source": [
    "from zenq.api.endpoints import insert_facts\n",
    "insert_facts('globbing.csv', 'Customer', 'Gender', 'InvoiceId', 'Date', 'Product_weight', 'Product_weight')"
   ]
  },
  {
   "cell_type": "markdown",
   "metadata": {},
   "source": [
    "# Define the Model and input data in result schema of database"
   ]
  },
  {
   "cell_type": "code",
   "execution_count": 3,
   "metadata": {},
   "outputs": [],
   "source": [
    "from zenq.clvmodels.pareto import Model\n",
    "model = Model()"
   ]
  },
  {
   "cell_type": "markdown",
   "metadata": {},
   "source": [
    "## Compute key metrics for CLV"
   ]
  },
  {
   "cell_type": "code",
   "execution_count": 4,
   "metadata": {},
   "outputs": [
    {
     "name": "stderr",
     "output_type": "stream",
     "text": [
      "2023-05-01 20:55:45,826 _init_num_threads NumExpr defaulting to 8 threads.\n",
      "\u001b[38;20m2023-05-01 20:55:45,992 - pareto.py - INFO - cltv_df (pareto.py:61)\u001b[0m\n",
      "2023-05-01 20:55:45,992 cltv_df cltv_df\n"
     ]
    },
    {
     "data": {
      "text/html": [
       "<div>\n",
       "<style scoped>\n",
       "    .dataframe tbody tr th:only-of-type {\n",
       "        vertical-align: middle;\n",
       "    }\n",
       "\n",
       "    .dataframe tbody tr th {\n",
       "        vertical-align: top;\n",
       "    }\n",
       "\n",
       "    .dataframe thead th {\n",
       "        text-align: right;\n",
       "    }\n",
       "</style>\n",
       "<table border=\"1\" class=\"dataframe\">\n",
       "  <thead>\n",
       "    <tr style=\"text-align: right;\">\n",
       "      <th></th>\n",
       "      <th>customer_id</th>\n",
       "      <th>min_date</th>\n",
       "      <th>recency</th>\n",
       "      <th>T</th>\n",
       "      <th>frequency</th>\n",
       "      <th>monetary</th>\n",
       "    </tr>\n",
       "  </thead>\n",
       "  <tbody>\n",
       "    <tr>\n",
       "      <th>0</th>\n",
       "      <td>KVO444312</td>\n",
       "      <td>2022-09-13</td>\n",
       "      <td>163</td>\n",
       "      <td>230</td>\n",
       "      <td>14</td>\n",
       "      <td>62.43</td>\n",
       "    </tr>\n",
       "    <tr>\n",
       "      <th>1</th>\n",
       "      <td>VBV804469</td>\n",
       "      <td>2022-09-04</td>\n",
       "      <td>200</td>\n",
       "      <td>239</td>\n",
       "      <td>14</td>\n",
       "      <td>58.16</td>\n",
       "    </tr>\n",
       "    <tr>\n",
       "      <th>2</th>\n",
       "      <td>BAE240832</td>\n",
       "      <td>2022-09-13</td>\n",
       "      <td>196</td>\n",
       "      <td>230</td>\n",
       "      <td>3</td>\n",
       "      <td>8.97</td>\n",
       "    </tr>\n",
       "    <tr>\n",
       "      <th>3</th>\n",
       "      <td>AOK457989</td>\n",
       "      <td>2022-09-14</td>\n",
       "      <td>189</td>\n",
       "      <td>229</td>\n",
       "      <td>5</td>\n",
       "      <td>25.09</td>\n",
       "    </tr>\n",
       "    <tr>\n",
       "      <th>4</th>\n",
       "      <td>XZF813575</td>\n",
       "      <td>2022-09-05</td>\n",
       "      <td>179</td>\n",
       "      <td>238</td>\n",
       "      <td>11</td>\n",
       "      <td>42.98</td>\n",
       "    </tr>\n",
       "    <tr>\n",
       "      <th>...</th>\n",
       "      <td>...</td>\n",
       "      <td>...</td>\n",
       "      <td>...</td>\n",
       "      <td>...</td>\n",
       "      <td>...</td>\n",
       "      <td>...</td>\n",
       "    </tr>\n",
       "    <tr>\n",
       "      <th>1956</th>\n",
       "      <td>DXT747575</td>\n",
       "      <td>2022-09-12</td>\n",
       "      <td>206</td>\n",
       "      <td>231</td>\n",
       "      <td>7</td>\n",
       "      <td>28.18</td>\n",
       "    </tr>\n",
       "    <tr>\n",
       "      <th>1957</th>\n",
       "      <td>VOZ592840</td>\n",
       "      <td>2023-01-14</td>\n",
       "      <td>52</td>\n",
       "      <td>107</td>\n",
       "      <td>2</td>\n",
       "      <td>9.99</td>\n",
       "    </tr>\n",
       "    <tr>\n",
       "      <th>1958</th>\n",
       "      <td>ZCQ782298</td>\n",
       "      <td>2022-09-13</td>\n",
       "      <td>207</td>\n",
       "      <td>230</td>\n",
       "      <td>20</td>\n",
       "      <td>79.30</td>\n",
       "    </tr>\n",
       "    <tr>\n",
       "      <th>1959</th>\n",
       "      <td>YNW866090</td>\n",
       "      <td>2022-09-02</td>\n",
       "      <td>143</td>\n",
       "      <td>241</td>\n",
       "      <td>11</td>\n",
       "      <td>47.75</td>\n",
       "    </tr>\n",
       "    <tr>\n",
       "      <th>1960</th>\n",
       "      <td>IFC198488</td>\n",
       "      <td>2022-09-17</td>\n",
       "      <td>189</td>\n",
       "      <td>226</td>\n",
       "      <td>6</td>\n",
       "      <td>32.53</td>\n",
       "    </tr>\n",
       "  </tbody>\n",
       "</table>\n",
       "<p>1960 rows × 6 columns</p>\n",
       "</div>"
      ],
      "text/plain": [
       "     customer_id   min_date  recency    T  frequency  monetary\n",
       "0      KVO444312 2022-09-13      163  230         14     62.43\n",
       "1      VBV804469 2022-09-04      200  239         14     58.16\n",
       "2      BAE240832 2022-09-13      196  230          3      8.97\n",
       "3      AOK457989 2022-09-14      189  229          5     25.09\n",
       "4      XZF813575 2022-09-05      179  238         11     42.98\n",
       "...          ...        ...      ...  ...        ...       ...\n",
       "1956   DXT747575 2022-09-12      206  231          7     28.18\n",
       "1957   VOZ592840 2023-01-14       52  107          2      9.99\n",
       "1958   ZCQ782298 2022-09-13      207  230         20     79.30\n",
       "1959   YNW866090 2022-09-02      143  241         11     47.75\n",
       "1960   IFC198488 2022-09-17      189  226          6     32.53\n",
       "\n",
       "[1960 rows x 6 columns]"
      ]
     },
     "execution_count": 4,
     "metadata": {},
     "output_type": "execute_result"
    }
   ],
   "source": [
    "cltv = model.cltv_df()\n",
    "cltv"
   ]
  },
  {
   "cell_type": "markdown",
   "metadata": {},
   "source": [
    "## Categorization of customers based on RFM scores"
   ]
  },
  {
   "cell_type": "code",
   "execution_count": 5,
   "metadata": {},
   "outputs": [
    {
     "name": "stderr",
     "output_type": "stream",
     "text": [
      "\u001b[38;20m2023-05-01 20:56:08,597 - pareto.py - INFO - cltv_df (pareto.py:61)\u001b[0m\n",
      "2023-05-01 20:56:08,597 cltv_df cltv_df\n",
      "\u001b[38;20m2023-05-01 20:56:08,775 - pareto.py - INFO - rfm_score (pareto.py:87)\u001b[0m\n",
      "2023-05-01 20:56:08,775 rfm_score rfm_score\n"
     ]
    },
    {
     "data": {
      "text/html": [
       "<div>\n",
       "<style scoped>\n",
       "    .dataframe tbody tr th:only-of-type {\n",
       "        vertical-align: middle;\n",
       "    }\n",
       "\n",
       "    .dataframe tbody tr th {\n",
       "        vertical-align: top;\n",
       "    }\n",
       "\n",
       "    .dataframe thead th {\n",
       "        text-align: right;\n",
       "    }\n",
       "</style>\n",
       "<table border=\"1\" class=\"dataframe\">\n",
       "  <thead>\n",
       "    <tr style=\"text-align: right;\">\n",
       "      <th></th>\n",
       "      <th>customer_id</th>\n",
       "      <th>recency_score</th>\n",
       "      <th>frequency_score</th>\n",
       "      <th>monetary_score</th>\n",
       "      <th>RFM_SCORE</th>\n",
       "      <th>segment</th>\n",
       "    </tr>\n",
       "  </thead>\n",
       "  <tbody>\n",
       "    <tr>\n",
       "      <th>0</th>\n",
       "      <td>KVO444312</td>\n",
       "      <td>4</td>\n",
       "      <td>4</td>\n",
       "      <td>4</td>\n",
       "      <td>44</td>\n",
       "      <td>LOYAL CUSTOMER</td>\n",
       "    </tr>\n",
       "    <tr>\n",
       "      <th>1</th>\n",
       "      <td>VBV804469</td>\n",
       "      <td>2</td>\n",
       "      <td>4</td>\n",
       "      <td>4</td>\n",
       "      <td>24</td>\n",
       "      <td>AT RISK</td>\n",
       "    </tr>\n",
       "    <tr>\n",
       "      <th>2</th>\n",
       "      <td>BAE240832</td>\n",
       "      <td>2</td>\n",
       "      <td>1</td>\n",
       "      <td>1</td>\n",
       "      <td>21</td>\n",
       "      <td>HIBERNATING</td>\n",
       "    </tr>\n",
       "    <tr>\n",
       "      <th>3</th>\n",
       "      <td>AOK457989</td>\n",
       "      <td>3</td>\n",
       "      <td>1</td>\n",
       "      <td>2</td>\n",
       "      <td>31</td>\n",
       "      <td>ABOUT TO SLEEP</td>\n",
       "    </tr>\n",
       "    <tr>\n",
       "      <th>4</th>\n",
       "      <td>XZF813575</td>\n",
       "      <td>3</td>\n",
       "      <td>3</td>\n",
       "      <td>3</td>\n",
       "      <td>33</td>\n",
       "      <td>NEED ATTENTION</td>\n",
       "    </tr>\n",
       "    <tr>\n",
       "      <th>...</th>\n",
       "      <td>...</td>\n",
       "      <td>...</td>\n",
       "      <td>...</td>\n",
       "      <td>...</td>\n",
       "      <td>...</td>\n",
       "      <td>...</td>\n",
       "    </tr>\n",
       "    <tr>\n",
       "      <th>1956</th>\n",
       "      <td>DXT747575</td>\n",
       "      <td>1</td>\n",
       "      <td>2</td>\n",
       "      <td>2</td>\n",
       "      <td>12</td>\n",
       "      <td>HIBERNATING</td>\n",
       "    </tr>\n",
       "    <tr>\n",
       "      <th>1957</th>\n",
       "      <td>VOZ592840</td>\n",
       "      <td>5</td>\n",
       "      <td>1</td>\n",
       "      <td>1</td>\n",
       "      <td>51</td>\n",
       "      <td>NEW CUSTOMERS</td>\n",
       "    </tr>\n",
       "    <tr>\n",
       "      <th>1958</th>\n",
       "      <td>ZCQ782298</td>\n",
       "      <td>1</td>\n",
       "      <td>5</td>\n",
       "      <td>5</td>\n",
       "      <td>15</td>\n",
       "      <td>CANT LOSE</td>\n",
       "    </tr>\n",
       "    <tr>\n",
       "      <th>1959</th>\n",
       "      <td>YNW866090</td>\n",
       "      <td>4</td>\n",
       "      <td>3</td>\n",
       "      <td>3</td>\n",
       "      <td>43</td>\n",
       "      <td>POTENTIAL LOYALIST</td>\n",
       "    </tr>\n",
       "    <tr>\n",
       "      <th>1960</th>\n",
       "      <td>IFC198488</td>\n",
       "      <td>3</td>\n",
       "      <td>2</td>\n",
       "      <td>2</td>\n",
       "      <td>32</td>\n",
       "      <td>ABOUT TO SLEEP</td>\n",
       "    </tr>\n",
       "  </tbody>\n",
       "</table>\n",
       "<p>1960 rows × 6 columns</p>\n",
       "</div>"
      ],
      "text/plain": [
       "     customer_id recency_score frequency_score monetary_score RFM_SCORE  \\\n",
       "0      KVO444312             4               4              4        44   \n",
       "1      VBV804469             2               4              4        24   \n",
       "2      BAE240832             2               1              1        21   \n",
       "3      AOK457989             3               1              2        31   \n",
       "4      XZF813575             3               3              3        33   \n",
       "...          ...           ...             ...            ...       ...   \n",
       "1956   DXT747575             1               2              2        12   \n",
       "1957   VOZ592840             5               1              1        51   \n",
       "1958   ZCQ782298             1               5              5        15   \n",
       "1959   YNW866090             4               3              3        43   \n",
       "1960   IFC198488             3               2              2        32   \n",
       "\n",
       "                 segment  \n",
       "0         LOYAL CUSTOMER  \n",
       "1                AT RISK  \n",
       "2            HIBERNATING  \n",
       "3         ABOUT TO SLEEP  \n",
       "4         NEED ATTENTION  \n",
       "...                  ...  \n",
       "1956         HIBERNATING  \n",
       "1957       NEW CUSTOMERS  \n",
       "1958           CANT LOSE  \n",
       "1959  POTENTIAL LOYALIST  \n",
       "1960      ABOUT TO SLEEP  \n",
       "\n",
       "[1960 rows x 6 columns]"
      ]
     },
     "execution_count": 5,
     "metadata": {},
     "output_type": "execute_result"
    }
   ],
   "source": [
    "rfm = model.rfm_score()\n",
    "rfm"
   ]
  },
  {
   "cell_type": "markdown",
   "metadata": {},
   "source": [
    "## Fit into Pareto model"
   ]
  },
  {
   "cell_type": "code",
   "execution_count": 6,
   "metadata": {},
   "outputs": [
    {
     "name": "stderr",
     "output_type": "stream",
     "text": [
      "\u001b[38;20m2023-05-01 20:56:26,924 - pareto.py - INFO - cltv_df (pareto.py:61)\u001b[0m\n",
      "2023-05-01 20:56:26,924 cltv_df cltv_df\n",
      "/opt/anaconda3/lib/python3.8/site-packages/scipy/special/_logsumexp.py:108: RuntimeWarning: overflow encountered in exp\n",
      "  tmp = b * np.exp(a - a_max)\n"
     ]
    },
    {
     "data": {
      "text/plain": [
       "<lifetimes.ParetoNBDFitter: fitted with 1960 subjects, alpha: 132.27, beta: 358911.87, r: 7.18, s: 368.55>"
      ]
     },
     "execution_count": 6,
     "metadata": {},
     "output_type": "execute_result"
    }
   ],
   "source": [
    "fit = model.fit_paretonbd()\n",
    "fit"
   ]
  },
  {
   "cell_type": "markdown",
   "metadata": {},
   "source": [
    "## Model parameters"
   ]
  },
  {
   "cell_type": "code",
   "execution_count": 7,
   "metadata": {},
   "outputs": [
    {
     "name": "stderr",
     "output_type": "stream",
     "text": [
      "\u001b[38;20m2023-05-01 20:56:59,454 - pareto.py - INFO - cltv_df (pareto.py:61)\u001b[0m\n",
      "2023-05-01 20:56:59,454 cltv_df cltv_df\n",
      "/opt/anaconda3/lib/python3.8/site-packages/scipy/special/_logsumexp.py:108: RuntimeWarning: overflow encountered in exp\n",
      "  tmp = b * np.exp(a - a_max)\n",
      "\u001b[38;20m2023-05-01 20:57:20,061 - pareto.py - INFO - model_params (pareto.py:114)\u001b[0m\n",
      "2023-05-01 20:57:20,061 model_params model_params\n",
      "\u001b[31;20m2023-05-01 20:57:20,063 - pareto.py - ERROR - model_params (pareto.py:115)\u001b[0m\n",
      "2023-05-01 20:57:20,063 model_params model_params\n"
     ]
    },
    {
     "data": {
      "text/html": [
       "<div>\n",
       "<style scoped>\n",
       "    .dataframe tbody tr th:only-of-type {\n",
       "        vertical-align: middle;\n",
       "    }\n",
       "\n",
       "    .dataframe tbody tr th {\n",
       "        vertical-align: top;\n",
       "    }\n",
       "\n",
       "    .dataframe thead th {\n",
       "        text-align: right;\n",
       "    }\n",
       "</style>\n",
       "<table border=\"1\" class=\"dataframe\">\n",
       "  <thead>\n",
       "    <tr style=\"text-align: right;\">\n",
       "      <th></th>\n",
       "      <th>r</th>\n",
       "      <th>alpha</th>\n",
       "      <th>s</th>\n",
       "      <th>beta</th>\n",
       "    </tr>\n",
       "  </thead>\n",
       "  <tbody>\n",
       "    <tr>\n",
       "      <th>0</th>\n",
       "      <td>7.176766</td>\n",
       "      <td>132.266166</td>\n",
       "      <td>368.556939</td>\n",
       "      <td>358912.773048</td>\n",
       "    </tr>\n",
       "  </tbody>\n",
       "</table>\n",
       "</div>"
      ],
      "text/plain": [
       "          r       alpha           s           beta\n",
       "0  7.176766  132.266166  368.556939  358912.773048"
      ]
     },
     "execution_count": 7,
     "metadata": {},
     "output_type": "execute_result"
    }
   ],
   "source": [
    "parameters = model.model_params()\n",
    "parameters"
   ]
  },
  {
   "cell_type": "markdown",
   "metadata": {},
   "source": [
    "## Predictions for 30,90,180,360 days"
   ]
  },
  {
   "cell_type": "code",
   "execution_count": 8,
   "metadata": {},
   "outputs": [
    {
     "name": "stderr",
     "output_type": "stream",
     "text": [
      "\u001b[38;20m2023-05-01 20:57:51,522 - pareto.py - INFO - cltv_df (pareto.py:61)\u001b[0m\n",
      "2023-05-01 20:57:51,522 cltv_df cltv_df\n",
      "/opt/anaconda3/lib/python3.8/site-packages/scipy/special/_logsumexp.py:108: RuntimeWarning: overflow encountered in exp\n",
      "  tmp = b * np.exp(a - a_max)\n",
      "\u001b[38;20m2023-05-01 20:58:05,173 - pareto.py - INFO - cltv_df (pareto.py:61)\u001b[0m\n",
      "2023-05-01 20:58:05,173 cltv_df cltv_df\n",
      "\u001b[38;20m2023-05-01 20:58:05,631 - pareto.py - INFO - predict_paretonbd (pareto.py:134)\u001b[0m\n",
      "2023-05-01 20:58:05,631 predict_paretonbd predict_paretonbd\n"
     ]
    },
    {
     "data": {
      "text/html": [
       "<div>\n",
       "<style scoped>\n",
       "    .dataframe tbody tr th:only-of-type {\n",
       "        vertical-align: middle;\n",
       "    }\n",
       "\n",
       "    .dataframe tbody tr th {\n",
       "        vertical-align: top;\n",
       "    }\n",
       "\n",
       "    .dataframe thead th {\n",
       "        text-align: right;\n",
       "    }\n",
       "</style>\n",
       "<table border=\"1\" class=\"dataframe\">\n",
       "  <thead>\n",
       "    <tr style=\"text-align: right;\">\n",
       "      <th></th>\n",
       "      <th>Customer</th>\n",
       "      <th>Expected_Purchases_30</th>\n",
       "      <th>Expected_Purchases_90</th>\n",
       "      <th>Expected_Purchases_180</th>\n",
       "      <th>Expected_Purchases_360</th>\n",
       "    </tr>\n",
       "  </thead>\n",
       "  <tbody>\n",
       "    <tr>\n",
       "      <th>0</th>\n",
       "      <td>KVO444312</td>\n",
       "      <td>0.790104</td>\n",
       "      <td>2.299177</td>\n",
       "      <td>4.395544</td>\n",
       "      <td>8.049990</td>\n",
       "    </tr>\n",
       "    <tr>\n",
       "      <th>1</th>\n",
       "      <td>VBV804469</td>\n",
       "      <td>1.449216</td>\n",
       "      <td>4.217176</td>\n",
       "      <td>8.062362</td>\n",
       "      <td>14.765427</td>\n",
       "    </tr>\n",
       "    <tr>\n",
       "      <th>2</th>\n",
       "      <td>BAE240832</td>\n",
       "      <td>0.782368</td>\n",
       "      <td>2.276666</td>\n",
       "      <td>4.352508</td>\n",
       "      <td>7.971175</td>\n",
       "    </tr>\n",
       "    <tr>\n",
       "      <th>3</th>\n",
       "      <td>AOK457989</td>\n",
       "      <td>0.911659</td>\n",
       "      <td>2.652899</td>\n",
       "      <td>5.071785</td>\n",
       "      <td>9.288455</td>\n",
       "    </tr>\n",
       "    <tr>\n",
       "      <th>4</th>\n",
       "      <td>XZF813575</td>\n",
       "      <td>1.012153</td>\n",
       "      <td>2.945335</td>\n",
       "      <td>5.630868</td>\n",
       "      <td>10.312380</td>\n",
       "    </tr>\n",
       "    <tr>\n",
       "      <th>...</th>\n",
       "      <td>...</td>\n",
       "      <td>...</td>\n",
       "      <td>...</td>\n",
       "      <td>...</td>\n",
       "      <td>...</td>\n",
       "    </tr>\n",
       "    <tr>\n",
       "      <th>1956</th>\n",
       "      <td>DXT747575</td>\n",
       "      <td>1.103544</td>\n",
       "      <td>3.211277</td>\n",
       "      <td>6.139288</td>\n",
       "      <td>11.243484</td>\n",
       "    </tr>\n",
       "    <tr>\n",
       "      <th>1957</th>\n",
       "      <td>VOZ592840</td>\n",
       "      <td>0.918889</td>\n",
       "      <td>2.673911</td>\n",
       "      <td>5.111879</td>\n",
       "      <td>9.361616</td>\n",
       "    </tr>\n",
       "    <tr>\n",
       "      <th>1958</th>\n",
       "      <td>ZCQ782298</td>\n",
       "      <td>2.079288</td>\n",
       "      <td>6.050661</td>\n",
       "      <td>11.567593</td>\n",
       "      <td>21.184868</td>\n",
       "    </tr>\n",
       "    <tr>\n",
       "      <th>1959</th>\n",
       "      <td>YNW866090</td>\n",
       "      <td>0.260971</td>\n",
       "      <td>0.759417</td>\n",
       "      <td>1.451848</td>\n",
       "      <td>2.658918</td>\n",
       "    </tr>\n",
       "    <tr>\n",
       "      <th>1960</th>\n",
       "      <td>IFC198488</td>\n",
       "      <td>1.000844</td>\n",
       "      <td>2.912421</td>\n",
       "      <td>5.567935</td>\n",
       "      <td>10.197096</td>\n",
       "    </tr>\n",
       "  </tbody>\n",
       "</table>\n",
       "<p>1960 rows × 5 columns</p>\n",
       "</div>"
      ],
      "text/plain": [
       "       Customer  Expected_Purchases_30  Expected_Purchases_90  \\\n",
       "0     KVO444312               0.790104               2.299177   \n",
       "1     VBV804469               1.449216               4.217176   \n",
       "2     BAE240832               0.782368               2.276666   \n",
       "3     AOK457989               0.911659               2.652899   \n",
       "4     XZF813575               1.012153               2.945335   \n",
       "...         ...                    ...                    ...   \n",
       "1956  DXT747575               1.103544               3.211277   \n",
       "1957  VOZ592840               0.918889               2.673911   \n",
       "1958  ZCQ782298               2.079288               6.050661   \n",
       "1959  YNW866090               0.260971               0.759417   \n",
       "1960  IFC198488               1.000844               2.912421   \n",
       "\n",
       "      Expected_Purchases_180  Expected_Purchases_360  \n",
       "0                   4.395544                8.049990  \n",
       "1                   8.062362               14.765427  \n",
       "2                   4.352508                7.971175  \n",
       "3                   5.071785                9.288455  \n",
       "4                   5.630868               10.312380  \n",
       "...                      ...                     ...  \n",
       "1956                6.139288               11.243484  \n",
       "1957                5.111879                9.361616  \n",
       "1958               11.567593               21.184868  \n",
       "1959                1.451848                2.658918  \n",
       "1960                5.567935               10.197096  \n",
       "\n",
       "[1960 rows x 5 columns]"
      ]
     },
     "execution_count": 8,
     "metadata": {},
     "output_type": "execute_result"
    }
   ],
   "source": [
    "pareto = model.predict_paretonbd()\n",
    "pareto"
   ]
  },
  {
   "cell_type": "markdown",
   "metadata": {},
   "source": [
    "## Customer aliveness"
   ]
  },
  {
   "cell_type": "code",
   "execution_count": 9,
   "metadata": {},
   "outputs": [
    {
     "name": "stderr",
     "output_type": "stream",
     "text": [
      "\u001b[38;20m2023-05-01 20:58:20,509 - pareto.py - INFO - cltv_df (pareto.py:61)\u001b[0m\n",
      "2023-05-01 20:58:20,509 cltv_df cltv_df\n",
      "/opt/anaconda3/lib/python3.8/site-packages/scipy/special/_logsumexp.py:108: RuntimeWarning: overflow encountered in exp\n",
      "  tmp = b * np.exp(a - a_max)\n",
      "\u001b[38;20m2023-05-01 20:58:42,683 - pareto.py - INFO - cltv_df (pareto.py:61)\u001b[0m\n",
      "2023-05-01 20:58:42,683 cltv_df cltv_df\n",
      "\u001b[38;20m2023-05-01 20:58:42,791 - pareto.py - INFO - customer_is_alive (pareto.py:148)\u001b[0m\n",
      "2023-05-01 20:58:42,791 customer_is_alive customer_is_alive\n"
     ]
    },
    {
     "data": {
      "text/html": [
       "<div>\n",
       "<style scoped>\n",
       "    .dataframe tbody tr th:only-of-type {\n",
       "        vertical-align: middle;\n",
       "    }\n",
       "\n",
       "    .dataframe tbody tr th {\n",
       "        vertical-align: top;\n",
       "    }\n",
       "\n",
       "    .dataframe thead th {\n",
       "        text-align: right;\n",
       "    }\n",
       "</style>\n",
       "<table border=\"1\" class=\"dataframe\">\n",
       "  <thead>\n",
       "    <tr style=\"text-align: right;\">\n",
       "      <th></th>\n",
       "      <th>Customer</th>\n",
       "      <th>Probability_of_being_Alive</th>\n",
       "    </tr>\n",
       "  </thead>\n",
       "  <tbody>\n",
       "    <tr>\n",
       "      <th>0</th>\n",
       "      <td>KVO444312</td>\n",
       "      <td>0.457540</td>\n",
       "    </tr>\n",
       "    <tr>\n",
       "      <th>1</th>\n",
       "      <td>VBV804469</td>\n",
       "      <td>0.860028</td>\n",
       "    </tr>\n",
       "    <tr>\n",
       "      <th>2</th>\n",
       "      <td>BAE240832</td>\n",
       "      <td>0.942686</td>\n",
       "    </tr>\n",
       "    <tr>\n",
       "      <th>3</th>\n",
       "      <td>AOK457989</td>\n",
       "      <td>0.915527</td>\n",
       "    </tr>\n",
       "    <tr>\n",
       "      <th>4</th>\n",
       "      <td>XZF813575</td>\n",
       "      <td>0.697921</td>\n",
       "    </tr>\n",
       "    <tr>\n",
       "      <th>...</th>\n",
       "      <td>...</td>\n",
       "      <td>...</td>\n",
       "    </tr>\n",
       "    <tr>\n",
       "      <th>1956</th>\n",
       "      <td>DXT747575</td>\n",
       "      <td>0.957151</td>\n",
       "    </tr>\n",
       "    <tr>\n",
       "      <th>1957</th>\n",
       "      <td>VOZ592840</td>\n",
       "      <td>0.810974</td>\n",
       "    </tr>\n",
       "    <tr>\n",
       "      <th>1958</th>\n",
       "      <td>ZCQ782298</td>\n",
       "      <td>0.938202</td>\n",
       "    </tr>\n",
       "    <tr>\n",
       "      <th>1959</th>\n",
       "      <td>YNW866090</td>\n",
       "      <td>0.181423</td>\n",
       "    </tr>\n",
       "    <tr>\n",
       "      <th>1960</th>\n",
       "      <td>IFC198488</td>\n",
       "      <td>0.921102</td>\n",
       "    </tr>\n",
       "  </tbody>\n",
       "</table>\n",
       "<p>1960 rows × 2 columns</p>\n",
       "</div>"
      ],
      "text/plain": [
       "       Customer  Probability_of_being_Alive\n",
       "0     KVO444312                    0.457540\n",
       "1     VBV804469                    0.860028\n",
       "2     BAE240832                    0.942686\n",
       "3     AOK457989                    0.915527\n",
       "4     XZF813575                    0.697921\n",
       "...         ...                         ...\n",
       "1956  DXT747575                    0.957151\n",
       "1957  VOZ592840                    0.810974\n",
       "1958  ZCQ782298                    0.938202\n",
       "1959  YNW866090                    0.181423\n",
       "1960  IFC198488                    0.921102\n",
       "\n",
       "[1960 rows x 2 columns]"
      ]
     },
     "execution_count": 9,
     "metadata": {},
     "output_type": "execute_result"
    }
   ],
   "source": [
    "alive = model.customer_is_alive()\n",
    "alive\n"
   ]
  },
  {
   "cell_type": "code",
   "execution_count": 1,
   "metadata": {},
   "outputs": [
    {
     "name": "stdout",
     "output_type": "stream",
     "text": [
      "           InvoiceId\n",
      "Customer            \n",
      "AAR366684          1\n",
      "ATB262249          1\n",
      "BRS840990          1\n",
      "BSF439593          1\n",
      "CKI107410          1\n",
      "DAX787715          1\n",
      "DFZ837701          1\n",
      "DSE737276          1\n",
      "EUF556994          1\n",
      "GGL431742          1\n",
      "GXL480310          1\n",
      "HAH608808          1\n",
      "IAY208308          1\n",
      "IQN294014          1\n",
      "IWU303142          1\n",
      "JZG281834          1\n",
      "KFT548996          1\n",
      "KPO670477          1\n",
      "KXH974893          1\n",
      "LFG253534          1\n",
      "NJM647149          1\n",
      "OLY631292          1\n",
      "RWD468759          1\n",
      "SJZ770260          1\n",
      "TNU309606          1\n",
      "UCA347124          1\n",
      "UYP958102          1\n",
      "VXJ691842          1\n",
      "XHB937113          1\n",
      "XVA214225          1\n"
     ]
    }
   ],
   "source": [
    "import pandas as pd\n",
    "\n",
    "# Read the CSV file into a pandas dataframe\n",
    "df = pd.read_csv('globbing.csv')\n",
    "\n",
    "# Group the data by customer and count the number of invoices\n",
    "grouped = df.groupby('Customer').agg({'InvoiceId': 'count'})\n",
    "\n",
    "# Select only the customers with one invoice\n",
    "result = grouped[grouped['InvoiceId'] == 1]\n",
    "\n",
    "# Print the result\n",
    "print(result)\n"
   ]
  }
 ],
 "metadata": {
  "kernelspec": {
   "display_name": "Python 3 (ipykernel)",
   "language": "python",
   "name": "python3"
  },
  "language_info": {
   "codemirror_mode": {
    "name": "ipython",
    "version": 3
   },
   "file_extension": ".py",
   "mimetype": "text/x-python",
   "name": "python",
   "nbconvert_exporter": "python",
   "pygments_lexer": "ipython3",
   "version": "3.8.8"
  },
  "vscode": {
   "interpreter": {
    "hash": "8a5edab282632443219e051e4ade2d1d5bbc671c781051bf1437897cbdfea0f1"
   }
  }
 },
 "nbformat": 4,
 "nbformat_minor": 2
}
