{
 "cells": [
  {
   "cell_type": "code",
   "execution_count": 2,
   "metadata": {},
   "outputs": [],
   "source": [
    "from lifetimes import BetaGeoFitter, ParetoNBDFitter"
   ]
  },
  {
   "cell_type": "code",
   "execution_count": 3,
   "metadata": {},
   "outputs": [
    {
     "data": {
      "text/plain": [
       "Customer\n",
       "AAR366684    1.0\n",
       "ABA698150    1.0\n",
       "ABF381333    1.0\n",
       "ABK932885    1.0\n",
       "ABN926423    1.0\n",
       "            ... \n",
       "ZXR743103    1.0\n",
       "ZYG138944    1.0\n",
       "ZYH255892    1.0\n",
       "ZYV898429    1.0\n",
       "ZYY880092    1.0\n",
       "Length: 1991, dtype: float64"
      ]
     },
     "execution_count": 3,
     "metadata": {},
     "output_type": "execute_result"
    }
   ],
   "source": [
    "import lifetimes\n",
    "from lifetimes.fitters import pareto_nbd_fitter \n",
    "from lifetimes.utils import calibration_and_holdout_data\n",
    "from lifetimes.utils import expected_cumulative_transactions\n",
    "\n",
    "import pandas as pd \n",
    "df = pd.read_csv(\"globbing.csv\")\n",
    "summary = lifetimes.utils.summary_data_from_transaction_data(df, 'Customer', 'Date')\n",
    "summary['frequency'], summary['recency'], summary['T']\n",
    "# model = ParetoNBDFitter(penalizer_coef=0.0)\n",
    "# model.fit(summary['frequency'],  summary['recency'],summary['T'])\n",
    "# conditional_probability_alive = model.conditional_probability_alive(summary['frequency'], summary['recency'], summary['T'])\n",
    " \n",
    "summary_cal_holdout = calibration_and_holdout_data(\n",
    "    df,'Customer', 'Date',\n",
    "    calibration_period_end=pd.to_datetime('2022-11-11'),\n",
    "    observation_period_end=df['Date'].max()\n",
    ")\n",
    "summary_cal_holdout\n",
    "model = lifetimes.ParetoNBDFitter(penalizer_coef=0.01)\n",
    "model.fit(summary_cal_holdout['frequency_cal'], summary_cal_holdout['recency_cal'], summary_cal_holdout['T_cal'])\n",
    " \n",
    "freq = 'D' # days\n",
    "number_of_days = 14\n",
    "a = model.conditional_probability_alive(\n",
    "        \n",
    "        summary['frequency'], summary['recency'], summary['T'])\n",
    "a\n",
    "\n"
   ]
  },
  {
   "cell_type": "code",
   "execution_count": 33,
   "metadata": {},
   "outputs": [
    {
     "data": {
      "text/plain": [
       "array([0.46617723, 1.21950798, 0.54805192, ..., 0.49994046, 0.36499105,\n",
       "       1.1790496 ])"
      ]
     },
     "execution_count": 33,
     "metadata": {},
     "output_type": "execute_result"
    }
   ],
   "source": [
    "from lifetimes import ParetoNBDFitter \n",
    "from lifetimes.utils import calibration_and_holdout_data\n",
    "from lifetimes.utils import expected_cumulative_transactions\n",
    "import pandas as pd \n",
    "\n",
    "df = pd.read_csv(\"globbing.csv\")\n",
    "summary = lifetimes.utils.summary_data_from_transaction_data(df, 'Customer', 'Date')\n",
    "summary['frequency'], summary['recency'], summary['T']\n",
    "\n",
    "model = ParetoNBDFitter(penalizer_coef=0.0)\n",
    "model.fit(summary['frequency'], summary['recency'], summary['T'])\n",
    "\n",
    "freq = 'D' # days\n",
    "number_of_days = 14\n",
    "\n",
    "a = model.conditional_expected_number_of_purchases_up_to_time(\n",
    "    number_of_days, \n",
    "    summary['frequency'].values, \n",
    "    summary['recency'].values, \n",
    "    summary['T'].values\n",
    ")\n",
    "a\n"
   ]
  },
  {
   "cell_type": "code",
   "execution_count": 38,
   "metadata": {},
   "outputs": [
    {
     "data": {
      "text/html": [
       "<div>\n",
       "<style scoped>\n",
       "    .dataframe tbody tr th:only-of-type {\n",
       "        vertical-align: middle;\n",
       "    }\n",
       "\n",
       "    .dataframe tbody tr th {\n",
       "        vertical-align: top;\n",
       "    }\n",
       "\n",
       "    .dataframe thead th {\n",
       "        text-align: right;\n",
       "    }\n",
       "</style>\n",
       "<table border=\"1\" class=\"dataframe\">\n",
       "  <thead>\n",
       "    <tr style=\"text-align: right;\">\n",
       "      <th></th>\n",
       "      <th>Customer</th>\n",
       "      <th>Expected_Purchases</th>\n",
       "    </tr>\n",
       "    <tr>\n",
       "      <th>Customer</th>\n",
       "      <th></th>\n",
       "      <th></th>\n",
       "    </tr>\n",
       "  </thead>\n",
       "  <tbody>\n",
       "    <tr>\n",
       "      <th>AAR366684</th>\n",
       "      <td>AAR366684</td>\n",
       "      <td>0.395132</td>\n",
       "    </tr>\n",
       "    <tr>\n",
       "      <th>ABA698150</th>\n",
       "      <td>ABA698150</td>\n",
       "      <td>1.291208</td>\n",
       "    </tr>\n",
       "    <tr>\n",
       "      <th>ABF381333</th>\n",
       "      <td>ABF381333</td>\n",
       "      <td>0.528769</td>\n",
       "    </tr>\n",
       "    <tr>\n",
       "      <th>ABK932885</th>\n",
       "      <td>ABK932885</td>\n",
       "      <td>1.259369</td>\n",
       "    </tr>\n",
       "    <tr>\n",
       "      <th>ABN926423</th>\n",
       "      <td>ABN926423</td>\n",
       "      <td>0.791545</td>\n",
       "    </tr>\n",
       "    <tr>\n",
       "      <th>...</th>\n",
       "      <td>...</td>\n",
       "      <td>...</td>\n",
       "    </tr>\n",
       "    <tr>\n",
       "      <th>ZXR743103</th>\n",
       "      <td>ZXR743103</td>\n",
       "      <td>0.603091</td>\n",
       "    </tr>\n",
       "    <tr>\n",
       "      <th>ZYG138944</th>\n",
       "      <td>ZYG138944</td>\n",
       "      <td>1.233807</td>\n",
       "    </tr>\n",
       "    <tr>\n",
       "      <th>ZYH255892</th>\n",
       "      <td>ZYH255892</td>\n",
       "      <td>0.473298</td>\n",
       "    </tr>\n",
       "    <tr>\n",
       "      <th>ZYV898429</th>\n",
       "      <td>ZYV898429</td>\n",
       "      <td>0.316337</td>\n",
       "    </tr>\n",
       "    <tr>\n",
       "      <th>ZYY880092</th>\n",
       "      <td>ZYY880092</td>\n",
       "      <td>1.237162</td>\n",
       "    </tr>\n",
       "  </tbody>\n",
       "</table>\n",
       "<p>1991 rows × 2 columns</p>\n",
       "</div>"
      ],
      "text/plain": [
       "            Customer  Expected_Purchases\n",
       "Customer                                \n",
       "AAR366684  AAR366684            0.395132\n",
       "ABA698150  ABA698150            1.291208\n",
       "ABF381333  ABF381333            0.528769\n",
       "ABK932885  ABK932885            1.259369\n",
       "ABN926423  ABN926423            0.791545\n",
       "...              ...                 ...\n",
       "ZXR743103  ZXR743103            0.603091\n",
       "ZYG138944  ZYG138944            1.233807\n",
       "ZYH255892  ZYH255892            0.473298\n",
       "ZYV898429  ZYV898429            0.316337\n",
       "ZYY880092  ZYY880092            1.237162\n",
       "\n",
       "[1991 rows x 2 columns]"
      ]
     },
     "execution_count": 38,
     "metadata": {},
     "output_type": "execute_result"
    }
   ],
   "source": [
    "from lifetimes import ParetoNBDFitter \n",
    "from lifetimes.utils import summary_data_from_transaction_data\n",
    "import pandas as pd \n",
    "\n",
    "df = pd.read_csv(\"globbing.csv\")\n",
    "summary = summary_data_from_transaction_data(df, 'Customer', 'Date')\n",
    "summary['frequency'], summary['recency'], summary['T']\n",
    "\n",
    "model = ParetoNBDFitter(penalizer_coef=0.0)\n",
    "model.fit(summary['frequency'], summary['recency'], summary['T'])\n",
    "\n",
    "freq = 'D' # days\n",
    "number_of_days = 14\n",
    "\n",
    "summary['expected_purchases'] = model.conditional_expected_number_of_purchases_up_to_time(\n",
    "    number_of_days, \n",
    "    summary['frequency'].values, \n",
    "    summary['recency'].values, \n",
    "    summary['T'].values\n",
    ")\n",
    "\n",
    "# create a new dataframe with the customer column and expected purchases\n",
    "result_df = pd.DataFrame({\n",
    "    'Customer': summary.index,\n",
    "    'Expected_Purchases': summary['expected_purchases']\n",
    "})\n",
    "result_df"
   ]
  },
  {
   "cell_type": "code",
   "execution_count": 8,
   "metadata": {},
   "outputs": [
    {
     "ename": "TypeError",
     "evalue": "unsupported operand type(s) for -: 'str' and 'str'",
     "output_type": "error",
     "traceback": [
      "\u001b[0;31m---------------------------------------------------------------------------\u001b[0m",
      "\u001b[0;31mTypeError\u001b[0m                                 Traceback (most recent call last)",
      "Cell \u001b[0;32mIn[8], line 21\u001b[0m\n\u001b[1;32m     18\u001b[0m df \u001b[38;5;241m=\u001b[39m pd\u001b[38;5;241m.\u001b[39mread_csv(\u001b[38;5;124m\"\u001b[39m\u001b[38;5;124mglobbing.csv\u001b[39m\u001b[38;5;124m\"\u001b[39m)\n\u001b[1;32m     20\u001b[0m today_date \u001b[38;5;241m=\u001b[39m datetime\u001b[38;5;241m.\u001b[39mtoday()\n\u001b[0;32m---> 21\u001b[0m cltv_df \u001b[38;5;241m=\u001b[39m \u001b[43mdf\u001b[49m\u001b[38;5;241;43m.\u001b[39;49m\u001b[43mgroupby\u001b[49m\u001b[43m(\u001b[49m\u001b[38;5;124;43m'\u001b[39;49m\u001b[38;5;124;43mCustomer\u001b[39;49m\u001b[38;5;124;43m'\u001b[39;49m\u001b[43m)\u001b[49m\u001b[38;5;241;43m.\u001b[39;49m\u001b[43magg\u001b[49m\u001b[43m(\u001b[49m\u001b[43m{\u001b[49m\u001b[38;5;124;43m'\u001b[39;49m\u001b[38;5;124;43mDate\u001b[39;49m\u001b[38;5;124;43m'\u001b[39;49m\u001b[43m:\u001b[49m\u001b[43m \u001b[49m\u001b[43m[\u001b[49m\u001b[38;5;28;43;01mlambda\u001b[39;49;00m\u001b[43m \u001b[49m\u001b[43mdate\u001b[49m\u001b[43m:\u001b[49m\u001b[43m \u001b[49m\u001b[43m(\u001b[49m\u001b[43mdate\u001b[49m\u001b[38;5;241;43m.\u001b[39;49m\u001b[43mmax\u001b[49m\u001b[43m(\u001b[49m\u001b[43m)\u001b[49m\u001b[43m \u001b[49m\u001b[38;5;241;43m-\u001b[39;49m\u001b[43m \u001b[49m\u001b[43mdate\u001b[49m\u001b[38;5;241;43m.\u001b[39;49m\u001b[43mmin\u001b[49m\u001b[43m(\u001b[49m\u001b[43m)\u001b[49m\u001b[43m)\u001b[49m\u001b[38;5;241;43m.\u001b[39;49m\u001b[43mdays\u001b[49m\u001b[43m,\u001b[49m\n\u001b[1;32m     22\u001b[0m \u001b[43m                                                     \u001b[49m\u001b[38;5;28;43;01mlambda\u001b[39;49;00m\u001b[43m \u001b[49m\u001b[43mdate\u001b[49m\u001b[43m:\u001b[49m\u001b[43m \u001b[49m\u001b[43m(\u001b[49m\u001b[43mtoday_date\u001b[49m\u001b[43m \u001b[49m\u001b[38;5;241;43m-\u001b[39;49m\u001b[43m \u001b[49m\u001b[43mdate\u001b[49m\u001b[38;5;241;43m.\u001b[39;49m\u001b[43mmin\u001b[49m\u001b[43m(\u001b[49m\u001b[43m)\u001b[49m\u001b[43m)\u001b[49m\u001b[38;5;241;43m.\u001b[39;49m\u001b[43mdays\u001b[49m\u001b[43m]\u001b[49m\u001b[43m,\u001b[49m\n\u001b[1;32m     23\u001b[0m \u001b[43m                                           \u001b[49m\u001b[38;5;124;43m'\u001b[39;49m\u001b[38;5;124;43mInvoiceId\u001b[39;49m\u001b[38;5;124;43m'\u001b[39;49m\u001b[43m:\u001b[49m\u001b[43m      \u001b[49m\u001b[38;5;28;43;01mlambda\u001b[39;49;00m\u001b[43m \u001b[49m\u001b[43mnum\u001b[49m\u001b[43m:\u001b[49m\u001b[43m \u001b[49m\u001b[43mnum\u001b[49m\u001b[38;5;241;43m.\u001b[39;49m\u001b[43mnunique\u001b[49m\u001b[43m(\u001b[49m\u001b[43m)\u001b[49m\u001b[43m,\u001b[49m\n\u001b[1;32m     24\u001b[0m \u001b[43m                                           \u001b[49m\u001b[38;5;124;43m'\u001b[39;49m\u001b[38;5;124;43mProduct price\u001b[39;49m\u001b[38;5;124;43m'\u001b[39;49m\u001b[43m:\u001b[49m\u001b[43m   \u001b[49m\u001b[38;5;28;43;01mlambda\u001b[39;49;00m\u001b[43m \u001b[49m\u001b[43mTotalPrice\u001b[49m\u001b[43m:\u001b[49m\u001b[43m \u001b[49m\u001b[43mTotalPrice\u001b[49m\u001b[38;5;241;43m.\u001b[39;49m\u001b[43msum\u001b[49m\u001b[43m(\u001b[49m\u001b[43m)\u001b[49m\u001b[43m}\u001b[49m\u001b[43m)\u001b[49m\n",
      "File \u001b[0;32m/opt/anaconda3/lib/python3.8/site-packages/pandas/core/groupby/generic.py:945\u001b[0m, in \u001b[0;36mDataFrameGroupBy.aggregate\u001b[0;34m(self, func, engine, engine_kwargs, *args, **kwargs)\u001b[0m\n\u001b[1;32m    942\u001b[0m relabeling, func, columns, order \u001b[38;5;241m=\u001b[39m reconstruct_func(func, \u001b[38;5;241m*\u001b[39m\u001b[38;5;241m*\u001b[39mkwargs)\n\u001b[1;32m    943\u001b[0m func \u001b[38;5;241m=\u001b[39m maybe_mangle_lambdas(func)\n\u001b[0;32m--> 945\u001b[0m result, how \u001b[38;5;241m=\u001b[39m \u001b[43maggregate\u001b[49m\u001b[43m(\u001b[49m\u001b[38;5;28;43mself\u001b[39;49m\u001b[43m,\u001b[49m\u001b[43m \u001b[49m\u001b[43mfunc\u001b[49m\u001b[43m,\u001b[49m\u001b[43m \u001b[49m\u001b[38;5;241;43m*\u001b[39;49m\u001b[43margs\u001b[49m\u001b[43m,\u001b[49m\u001b[43m \u001b[49m\u001b[38;5;241;43m*\u001b[39;49m\u001b[38;5;241;43m*\u001b[39;49m\u001b[43mkwargs\u001b[49m\u001b[43m)\u001b[49m\n\u001b[1;32m    946\u001b[0m \u001b[38;5;28;01mif\u001b[39;00m how \u001b[38;5;129;01mis\u001b[39;00m \u001b[38;5;28;01mNone\u001b[39;00m:\n\u001b[1;32m    947\u001b[0m     \u001b[38;5;28;01mreturn\u001b[39;00m result\n",
      "File \u001b[0;32m/opt/anaconda3/lib/python3.8/site-packages/pandas/core/aggregation.py:582\u001b[0m, in \u001b[0;36maggregate\u001b[0;34m(obj, arg, *args, **kwargs)\u001b[0m\n\u001b[1;32m    580\u001b[0m \u001b[38;5;28;01melif\u001b[39;00m is_dict_like(arg):\n\u001b[1;32m    581\u001b[0m     arg \u001b[38;5;241m=\u001b[39m cast(AggFuncTypeDict, arg)\n\u001b[0;32m--> 582\u001b[0m     \u001b[38;5;28;01mreturn\u001b[39;00m \u001b[43magg_dict_like\u001b[49m\u001b[43m(\u001b[49m\u001b[43mobj\u001b[49m\u001b[43m,\u001b[49m\u001b[43m \u001b[49m\u001b[43marg\u001b[49m\u001b[43m,\u001b[49m\u001b[43m \u001b[49m\u001b[43m_axis\u001b[49m\u001b[43m)\u001b[49m, \u001b[38;5;28;01mTrue\u001b[39;00m\n\u001b[1;32m    583\u001b[0m \u001b[38;5;28;01melif\u001b[39;00m is_list_like(arg):\n\u001b[1;32m    584\u001b[0m     \u001b[38;5;66;03m# we require a list, but not an 'str'\u001b[39;00m\n\u001b[1;32m    585\u001b[0m     arg \u001b[38;5;241m=\u001b[39m cast(List[AggFuncTypeBase], arg)\n",
      "File \u001b[0;32m/opt/anaconda3/lib/python3.8/site-packages/pandas/core/aggregation.py:768\u001b[0m, in \u001b[0;36magg_dict_like\u001b[0;34m(obj, arg, _axis)\u001b[0m\n\u001b[1;32m    765\u001b[0m     results \u001b[38;5;241m=\u001b[39m {key: colg\u001b[38;5;241m.\u001b[39magg(how) \u001b[38;5;28;01mfor\u001b[39;00m key, how \u001b[38;5;129;01min\u001b[39;00m arg\u001b[38;5;241m.\u001b[39mitems()}\n\u001b[1;32m    766\u001b[0m \u001b[38;5;28;01melse\u001b[39;00m:\n\u001b[1;32m    767\u001b[0m     \u001b[38;5;66;03m# key used for column selection and output\u001b[39;00m\n\u001b[0;32m--> 768\u001b[0m     results \u001b[38;5;241m=\u001b[39m {key: obj\u001b[38;5;241m.\u001b[39m_gotitem(key, ndim\u001b[38;5;241m=\u001b[39m\u001b[38;5;241m1\u001b[39m)\u001b[38;5;241m.\u001b[39magg(how) \u001b[38;5;28;01mfor\u001b[39;00m key, how \u001b[38;5;129;01min\u001b[39;00m arg\u001b[38;5;241m.\u001b[39mitems()}\n\u001b[1;32m    770\u001b[0m \u001b[38;5;66;03m# set the final keys\u001b[39;00m\n\u001b[1;32m    771\u001b[0m keys \u001b[38;5;241m=\u001b[39m \u001b[38;5;28mlist\u001b[39m(arg\u001b[38;5;241m.\u001b[39mkeys())\n",
      "File \u001b[0;32m/opt/anaconda3/lib/python3.8/site-packages/pandas/core/aggregation.py:768\u001b[0m, in \u001b[0;36m<dictcomp>\u001b[0;34m(.0)\u001b[0m\n\u001b[1;32m    765\u001b[0m     results \u001b[38;5;241m=\u001b[39m {key: colg\u001b[38;5;241m.\u001b[39magg(how) \u001b[38;5;28;01mfor\u001b[39;00m key, how \u001b[38;5;129;01min\u001b[39;00m arg\u001b[38;5;241m.\u001b[39mitems()}\n\u001b[1;32m    766\u001b[0m \u001b[38;5;28;01melse\u001b[39;00m:\n\u001b[1;32m    767\u001b[0m     \u001b[38;5;66;03m# key used for column selection and output\u001b[39;00m\n\u001b[0;32m--> 768\u001b[0m     results \u001b[38;5;241m=\u001b[39m {key: \u001b[43mobj\u001b[49m\u001b[38;5;241;43m.\u001b[39;49m\u001b[43m_gotitem\u001b[49m\u001b[43m(\u001b[49m\u001b[43mkey\u001b[49m\u001b[43m,\u001b[49m\u001b[43m \u001b[49m\u001b[43mndim\u001b[49m\u001b[38;5;241;43m=\u001b[39;49m\u001b[38;5;241;43m1\u001b[39;49m\u001b[43m)\u001b[49m\u001b[38;5;241;43m.\u001b[39;49m\u001b[43magg\u001b[49m\u001b[43m(\u001b[49m\u001b[43mhow\u001b[49m\u001b[43m)\u001b[49m \u001b[38;5;28;01mfor\u001b[39;00m key, how \u001b[38;5;129;01min\u001b[39;00m arg\u001b[38;5;241m.\u001b[39mitems()}\n\u001b[1;32m    770\u001b[0m \u001b[38;5;66;03m# set the final keys\u001b[39;00m\n\u001b[1;32m    771\u001b[0m keys \u001b[38;5;241m=\u001b[39m \u001b[38;5;28mlist\u001b[39m(arg\u001b[38;5;241m.\u001b[39mkeys())\n",
      "File \u001b[0;32m/opt/anaconda3/lib/python3.8/site-packages/pandas/core/groupby/generic.py:247\u001b[0m, in \u001b[0;36mSeriesGroupBy.aggregate\u001b[0;34m(self, func, engine, engine_kwargs, *args, **kwargs)\u001b[0m\n\u001b[1;32m    243\u001b[0m \u001b[38;5;28;01melif\u001b[39;00m \u001b[38;5;28misinstance\u001b[39m(func, abc\u001b[38;5;241m.\u001b[39mIterable):\n\u001b[1;32m    244\u001b[0m     \u001b[38;5;66;03m# Catch instances of lists / tuples\u001b[39;00m\n\u001b[1;32m    245\u001b[0m     \u001b[38;5;66;03m# but not the class list / tuple itself.\u001b[39;00m\n\u001b[1;32m    246\u001b[0m     func \u001b[38;5;241m=\u001b[39m maybe_mangle_lambdas(func)\n\u001b[0;32m--> 247\u001b[0m     ret \u001b[38;5;241m=\u001b[39m \u001b[38;5;28;43mself\u001b[39;49m\u001b[38;5;241;43m.\u001b[39;49m\u001b[43m_aggregate_multiple_funcs\u001b[49m\u001b[43m(\u001b[49m\u001b[43mfunc\u001b[49m\u001b[43m)\u001b[49m\n\u001b[1;32m    248\u001b[0m     \u001b[38;5;28;01mif\u001b[39;00m relabeling:\n\u001b[1;32m    249\u001b[0m         ret\u001b[38;5;241m.\u001b[39mcolumns \u001b[38;5;241m=\u001b[39m columns\n",
      "File \u001b[0;32m/opt/anaconda3/lib/python3.8/site-packages/pandas/core/groupby/generic.py:315\u001b[0m, in \u001b[0;36mSeriesGroupBy._aggregate_multiple_funcs\u001b[0;34m(self, arg)\u001b[0m\n\u001b[1;32m    313\u001b[0m         obj\u001b[38;5;241m.\u001b[39m_reset_cache()\n\u001b[1;32m    314\u001b[0m         obj\u001b[38;5;241m.\u001b[39m_selection \u001b[38;5;241m=\u001b[39m name\n\u001b[0;32m--> 315\u001b[0m     results[base\u001b[38;5;241m.\u001b[39mOutputKey(label\u001b[38;5;241m=\u001b[39mname, position\u001b[38;5;241m=\u001b[39midx)] \u001b[38;5;241m=\u001b[39m \u001b[43mobj\u001b[49m\u001b[38;5;241;43m.\u001b[39;49m\u001b[43maggregate\u001b[49m\u001b[43m(\u001b[49m\u001b[43mfunc\u001b[49m\u001b[43m)\u001b[49m\n\u001b[1;32m    317\u001b[0m \u001b[38;5;28;01mif\u001b[39;00m \u001b[38;5;28many\u001b[39m(\u001b[38;5;28misinstance\u001b[39m(x, DataFrame) \u001b[38;5;28;01mfor\u001b[39;00m x \u001b[38;5;129;01min\u001b[39;00m results\u001b[38;5;241m.\u001b[39mvalues()):\n\u001b[1;32m    318\u001b[0m     \u001b[38;5;66;03m# let higher level handle\u001b[39;00m\n\u001b[1;32m    319\u001b[0m     \u001b[38;5;28;01mreturn\u001b[39;00m results\n",
      "File \u001b[0;32m/opt/anaconda3/lib/python3.8/site-packages/pandas/core/groupby/generic.py:259\u001b[0m, in \u001b[0;36mSeriesGroupBy.aggregate\u001b[0;34m(self, func, engine, engine_kwargs, *args, **kwargs)\u001b[0m\n\u001b[1;32m    256\u001b[0m     \u001b[38;5;28;01mreturn\u001b[39;00m \u001b[38;5;28mself\u001b[39m\u001b[38;5;241m.\u001b[39m_python_agg_general(func, \u001b[38;5;241m*\u001b[39margs, \u001b[38;5;241m*\u001b[39m\u001b[38;5;241m*\u001b[39mkwargs)\n\u001b[1;32m    258\u001b[0m \u001b[38;5;28;01mtry\u001b[39;00m:\n\u001b[0;32m--> 259\u001b[0m     \u001b[38;5;28;01mreturn\u001b[39;00m \u001b[38;5;28;43mself\u001b[39;49m\u001b[38;5;241;43m.\u001b[39;49m\u001b[43m_python_agg_general\u001b[49m\u001b[43m(\u001b[49m\u001b[43mfunc\u001b[49m\u001b[43m,\u001b[49m\u001b[43m \u001b[49m\u001b[38;5;241;43m*\u001b[39;49m\u001b[43margs\u001b[49m\u001b[43m,\u001b[49m\u001b[43m \u001b[49m\u001b[38;5;241;43m*\u001b[39;49m\u001b[38;5;241;43m*\u001b[39;49m\u001b[43mkwargs\u001b[49m\u001b[43m)\u001b[49m\n\u001b[1;32m    260\u001b[0m \u001b[38;5;28;01mexcept\u001b[39;00m (\u001b[38;5;167;01mValueError\u001b[39;00m, \u001b[38;5;167;01mKeyError\u001b[39;00m):\n\u001b[1;32m    261\u001b[0m     \u001b[38;5;66;03m# TODO: KeyError is raised in _python_agg_general,\u001b[39;00m\n\u001b[1;32m    262\u001b[0m     \u001b[38;5;66;03m#  see test_groupby.test_basic\u001b[39;00m\n\u001b[1;32m    263\u001b[0m     result \u001b[38;5;241m=\u001b[39m \u001b[38;5;28mself\u001b[39m\u001b[38;5;241m.\u001b[39m_aggregate_named(func, \u001b[38;5;241m*\u001b[39margs, \u001b[38;5;241m*\u001b[39m\u001b[38;5;241m*\u001b[39mkwargs)\n",
      "File \u001b[0;32m/opt/anaconda3/lib/python3.8/site-packages/pandas/core/groupby/groupby.py:1196\u001b[0m, in \u001b[0;36mBaseGroupBy._python_agg_general\u001b[0;34m(self, func, *args, **kwargs)\u001b[0m\n\u001b[1;32m   1193\u001b[0m     output[key] \u001b[38;5;241m=\u001b[39m result\n\u001b[1;32m   1195\u001b[0m \u001b[38;5;28;01mif\u001b[39;00m \u001b[38;5;129;01mnot\u001b[39;00m output:\n\u001b[0;32m-> 1196\u001b[0m     \u001b[38;5;28;01mreturn\u001b[39;00m \u001b[38;5;28;43mself\u001b[39;49m\u001b[38;5;241;43m.\u001b[39;49m\u001b[43m_python_apply_general\u001b[49m\u001b[43m(\u001b[49m\u001b[43mf\u001b[49m\u001b[43m,\u001b[49m\u001b[43m \u001b[49m\u001b[38;5;28;43mself\u001b[39;49m\u001b[38;5;241;43m.\u001b[39;49m\u001b[43m_selected_obj\u001b[49m\u001b[43m)\u001b[49m\n\u001b[1;32m   1198\u001b[0m \u001b[38;5;28;01mreturn\u001b[39;00m \u001b[38;5;28mself\u001b[39m\u001b[38;5;241m.\u001b[39m_wrap_aggregated_output(output, index\u001b[38;5;241m=\u001b[39m\u001b[38;5;28mself\u001b[39m\u001b[38;5;241m.\u001b[39mgrouper\u001b[38;5;241m.\u001b[39mresult_index)\n",
      "File \u001b[0;32m/opt/anaconda3/lib/python3.8/site-packages/pandas/core/groupby/groupby.py:928\u001b[0m, in \u001b[0;36mBaseGroupBy._python_apply_general\u001b[0;34m(self, f, data)\u001b[0m\n\u001b[1;32m    909\u001b[0m \u001b[38;5;129m@final\u001b[39m\n\u001b[1;32m    910\u001b[0m \u001b[38;5;28;01mdef\u001b[39;00m \u001b[38;5;21m_python_apply_general\u001b[39m(\n\u001b[1;32m    911\u001b[0m     \u001b[38;5;28mself\u001b[39m, f: F, data: FrameOrSeriesUnion\n\u001b[1;32m    912\u001b[0m ) \u001b[38;5;241m-\u001b[39m\u001b[38;5;241m>\u001b[39m FrameOrSeriesUnion:\n\u001b[1;32m    913\u001b[0m     \u001b[38;5;124;03m\"\"\"\u001b[39;00m\n\u001b[1;32m    914\u001b[0m \u001b[38;5;124;03m    Apply function f in python space\u001b[39;00m\n\u001b[1;32m    915\u001b[0m \n\u001b[0;32m   (...)\u001b[0m\n\u001b[1;32m    926\u001b[0m \u001b[38;5;124;03m        data after applying f\u001b[39;00m\n\u001b[1;32m    927\u001b[0m \u001b[38;5;124;03m    \"\"\"\u001b[39;00m\n\u001b[0;32m--> 928\u001b[0m     keys, values, mutated \u001b[38;5;241m=\u001b[39m \u001b[38;5;28;43mself\u001b[39;49m\u001b[38;5;241;43m.\u001b[39;49m\u001b[43mgrouper\u001b[49m\u001b[38;5;241;43m.\u001b[39;49m\u001b[43mapply\u001b[49m\u001b[43m(\u001b[49m\u001b[43mf\u001b[49m\u001b[43m,\u001b[49m\u001b[43m \u001b[49m\u001b[43mdata\u001b[49m\u001b[43m,\u001b[49m\u001b[43m \u001b[49m\u001b[38;5;28;43mself\u001b[39;49m\u001b[38;5;241;43m.\u001b[39;49m\u001b[43maxis\u001b[49m\u001b[43m)\u001b[49m\n\u001b[1;32m    930\u001b[0m     \u001b[38;5;28;01mreturn\u001b[39;00m \u001b[38;5;28mself\u001b[39m\u001b[38;5;241m.\u001b[39m_wrap_applied_output(\n\u001b[1;32m    931\u001b[0m         keys, values, not_indexed_same\u001b[38;5;241m=\u001b[39mmutated \u001b[38;5;129;01mor\u001b[39;00m \u001b[38;5;28mself\u001b[39m\u001b[38;5;241m.\u001b[39mmutated\n\u001b[1;32m    932\u001b[0m     )\n",
      "File \u001b[0;32m/opt/anaconda3/lib/python3.8/site-packages/pandas/core/groupby/ops.py:238\u001b[0m, in \u001b[0;36mBaseGrouper.apply\u001b[0;34m(self, f, data, axis)\u001b[0m\n\u001b[1;32m    236\u001b[0m \u001b[38;5;66;03m# group might be modified\u001b[39;00m\n\u001b[1;32m    237\u001b[0m group_axes \u001b[38;5;241m=\u001b[39m group\u001b[38;5;241m.\u001b[39maxes\n\u001b[0;32m--> 238\u001b[0m res \u001b[38;5;241m=\u001b[39m \u001b[43mf\u001b[49m\u001b[43m(\u001b[49m\u001b[43mgroup\u001b[49m\u001b[43m)\u001b[49m\n\u001b[1;32m    239\u001b[0m \u001b[38;5;28;01mif\u001b[39;00m \u001b[38;5;129;01mnot\u001b[39;00m _is_indexed_like(res, group_axes, axis):\n\u001b[1;32m    240\u001b[0m     mutated \u001b[38;5;241m=\u001b[39m \u001b[38;5;28;01mTrue\u001b[39;00m\n",
      "File \u001b[0;32m/opt/anaconda3/lib/python3.8/site-packages/pandas/core/groupby/groupby.py:1160\u001b[0m, in \u001b[0;36mBaseGroupBy._python_agg_general.<locals>.<lambda>\u001b[0;34m(x)\u001b[0m\n\u001b[1;32m   1157\u001b[0m \u001b[38;5;129m@final\u001b[39m\n\u001b[1;32m   1158\u001b[0m \u001b[38;5;28;01mdef\u001b[39;00m \u001b[38;5;21m_python_agg_general\u001b[39m(\u001b[38;5;28mself\u001b[39m, func, \u001b[38;5;241m*\u001b[39margs, \u001b[38;5;241m*\u001b[39m\u001b[38;5;241m*\u001b[39mkwargs):\n\u001b[1;32m   1159\u001b[0m     func \u001b[38;5;241m=\u001b[39m \u001b[38;5;28mself\u001b[39m\u001b[38;5;241m.\u001b[39m_is_builtin_func(func)\n\u001b[0;32m-> 1160\u001b[0m     f \u001b[38;5;241m=\u001b[39m \u001b[38;5;28;01mlambda\u001b[39;00m x: \u001b[43mfunc\u001b[49m\u001b[43m(\u001b[49m\u001b[43mx\u001b[49m\u001b[43m,\u001b[49m\u001b[43m \u001b[49m\u001b[38;5;241;43m*\u001b[39;49m\u001b[43margs\u001b[49m\u001b[43m,\u001b[49m\u001b[43m \u001b[49m\u001b[38;5;241;43m*\u001b[39;49m\u001b[38;5;241;43m*\u001b[39;49m\u001b[43mkwargs\u001b[49m\u001b[43m)\u001b[49m\n\u001b[1;32m   1162\u001b[0m     \u001b[38;5;66;03m# iterate through \"columns\" ex exclusions to populate output dict\u001b[39;00m\n\u001b[1;32m   1163\u001b[0m     output: Dict[base\u001b[38;5;241m.\u001b[39mOutputKey, np\u001b[38;5;241m.\u001b[39mndarray] \u001b[38;5;241m=\u001b[39m {}\n",
      "Cell \u001b[0;32mIn[8], line 21\u001b[0m, in \u001b[0;36m<lambda>\u001b[0;34m(date)\u001b[0m\n\u001b[1;32m     18\u001b[0m df \u001b[38;5;241m=\u001b[39m pd\u001b[38;5;241m.\u001b[39mread_csv(\u001b[38;5;124m\"\u001b[39m\u001b[38;5;124mglobbing.csv\u001b[39m\u001b[38;5;124m\"\u001b[39m)\n\u001b[1;32m     20\u001b[0m today_date \u001b[38;5;241m=\u001b[39m datetime\u001b[38;5;241m.\u001b[39mtoday()\n\u001b[0;32m---> 21\u001b[0m cltv_df \u001b[38;5;241m=\u001b[39m df\u001b[38;5;241m.\u001b[39mgroupby(\u001b[38;5;124m'\u001b[39m\u001b[38;5;124mCustomer\u001b[39m\u001b[38;5;124m'\u001b[39m)\u001b[38;5;241m.\u001b[39magg({\u001b[38;5;124m'\u001b[39m\u001b[38;5;124mDate\u001b[39m\u001b[38;5;124m'\u001b[39m: [\u001b[38;5;28;01mlambda\u001b[39;00m date: (\u001b[43mdate\u001b[49m\u001b[38;5;241;43m.\u001b[39;49m\u001b[43mmax\u001b[49m\u001b[43m(\u001b[49m\u001b[43m)\u001b[49m\u001b[43m \u001b[49m\u001b[38;5;241;43m-\u001b[39;49m\u001b[43m \u001b[49m\u001b[43mdate\u001b[49m\u001b[38;5;241;43m.\u001b[39;49m\u001b[43mmin\u001b[49m\u001b[43m(\u001b[49m\u001b[43m)\u001b[49m)\u001b[38;5;241m.\u001b[39mdays,\n\u001b[1;32m     22\u001b[0m                                                      \u001b[38;5;28;01mlambda\u001b[39;00m date: (today_date \u001b[38;5;241m-\u001b[39m date\u001b[38;5;241m.\u001b[39mmin())\u001b[38;5;241m.\u001b[39mdays],\n\u001b[1;32m     23\u001b[0m                                            \u001b[38;5;124m'\u001b[39m\u001b[38;5;124mInvoiceId\u001b[39m\u001b[38;5;124m'\u001b[39m:      \u001b[38;5;28;01mlambda\u001b[39;00m num: num\u001b[38;5;241m.\u001b[39mnunique(),\n\u001b[1;32m     24\u001b[0m                                            \u001b[38;5;124m'\u001b[39m\u001b[38;5;124mProduct price\u001b[39m\u001b[38;5;124m'\u001b[39m:   \u001b[38;5;28;01mlambda\u001b[39;00m TotalPrice: TotalPrice\u001b[38;5;241m.\u001b[39msum()})\n",
      "\u001b[0;31mTypeError\u001b[0m: unsupported operand type(s) for -: 'str' and 'str'"
     ]
    }
   ],
   "source": [
    "from datetime import datetime\n",
    "import pandas as pd\n",
    "import pandas as pd\n",
    "import numpy as np\n",
    "from lifetimes import GammaGammaFitter\n",
    "from lifetimes import BetaGeoFitter\n",
    "import datetime as dt\n",
    "from lifetimes.plotting import plot_probability_alive_matrix\n",
    "from lifetimes.plotting import plot_frequency_recency_matrix\n",
    "import matplotlib.pyplot as plt\n",
    "from matplotlib import rcParams\n",
    "import seaborn as sns\n",
    "import plotly.express as px\n",
    "import plotly.graph_objects as go\n",
    "import plotly.express as px\n",
    "from datetime import datetime\n",
    "\n",
    "df = pd.read_csv(\"globbing.csv\")\n",
    "\n",
    "today_date = datetime.today()\n",
    "cltv_df = df.groupby('Customer').agg({'Date': [lambda date: (date.max() - date.min()).days,\n",
    "                                                     lambda date: (today_date - date.min()).days],\n",
    "                                           'InvoiceId':      lambda num: num.nunique(),\n",
    "                                           'Product price':   lambda TotalPrice: TotalPrice.sum()})"
   ]
  },
  {
   "cell_type": "code",
   "execution_count": 1,
   "metadata": {},
   "outputs": [
    {
     "name": "stdout",
     "output_type": "stream",
     "text": [
      "Enter your database credentials\n",
      "Username: aua\n",
      "Password: mysecretpassword\n",
      "Database name: GLOBBING\n"
     ]
    }
   ],
   "source": [
    "from zenq.api import endpoints"
   ]
  },
  {
   "cell_type": "code",
   "execution_count": 1,
   "metadata": {},
   "outputs": [
    {
     "name": "stdout",
     "output_type": "stream",
     "text": [
      "           InvoiceId\n",
      "Customer            \n",
      "AAR366684          1\n",
      "ATB262249          1\n",
      "BRS840990          1\n",
      "BSF439593          1\n",
      "CKI107410          1\n",
      "DAX787715          1\n",
      "DFZ837701          1\n",
      "DSE737276          1\n",
      "EUF556994          1\n",
      "GGL431742          1\n",
      "GXL480310          1\n",
      "HAH608808          1\n",
      "IAY208308          1\n",
      "IQN294014          1\n",
      "IWU303142          1\n",
      "JZG281834          1\n",
      "KFT548996          1\n",
      "KPO670477          1\n",
      "KXH974893          1\n",
      "LFG253534          1\n",
      "NJM647149          1\n",
      "OLY631292          1\n",
      "RWD468759          1\n",
      "SJZ770260          1\n",
      "TNU309606          1\n",
      "UCA347124          1\n",
      "UYP958102          1\n",
      "VXJ691842          1\n",
      "XHB937113          1\n",
      "XVA214225          1\n"
     ]
    }
   ],
   "source": [
    "import pandas as pd\n",
    "\n",
    "# Read the CSV file into a pandas dataframe\n",
    "df = pd.read_csv('globbing.csv')\n",
    "\n",
    "# Group the data by customer and count the number of invoices\n",
    "grouped = df.groupby('Customer').agg({'InvoiceId': 'count'})\n",
    "\n",
    "# Select only the customers with one invoice\n",
    "result = grouped[grouped['InvoiceId'] == 1]\n",
    "\n",
    "# Print the result\n",
    "print(result)\n"
   ]
  },
  {
   "cell_type": "code",
   "execution_count": 1,
   "metadata": {},
   "outputs": [],
   "source": [
    "from zenq.api import prepare_db"
   ]
  },
  {
   "cell_type": "code",
   "execution_count": 5,
   "metadata": {},
   "outputs": [],
   "source": [
    "from zenq.visualizations import plot"
   ]
  },
  {
   "cell_type": "code",
   "execution_count": 6,
   "metadata": {},
   "outputs": [],
   "source": [
    "from zenq import utils"
   ]
  },
  {
   "cell_type": "code",
   "execution_count": 7,
   "metadata": {},
   "outputs": [
    {
     "name": "stdout",
     "output_type": "stream",
     "text": [
      "ok\n",
      "None\n"
     ]
    }
   ],
   "source": [
    "plot.PlotUtils.pu()"
   ]
  },
  {
   "cell_type": "code",
   "execution_count": 1,
   "metadata": {},
   "outputs": [
    {
     "name": "stdout",
     "output_type": "stream",
     "text": [
      "Enter your database credentials\n",
      "Username: aua\n",
      "Password: mysecretpassword\n",
      "Database name: GLOBBING\n",
      "Initializing the database.. done\n"
     ]
    }
   ],
   "source": [
    "from zenq.api.prepare_db import db\n",
    "m=db()\n",
    "m.main()"
   ]
  },
  {
   "cell_type": "markdown",
   "metadata": {},
   "source": [
    "# Database"
   ]
  },
  {
   "cell_type": "markdown",
   "metadata": {},
   "source": [
    " "
   ]
  },
  {
   "cell_type": "code",
   "execution_count": 9,
   "metadata": {},
   "outputs": [],
   "source": [
    "from zenq.logger import CustomFormatter, bcolors\n",
    "import logging "
   ]
  },
  {
   "cell_type": "code",
   "execution_count": 10,
   "metadata": {
    "scrolled": true
   },
   "outputs": [
    {
     "name": "stderr",
     "output_type": "stream",
     "text": [
      "\u001b[38;20m2023-04-21 20:19:38,503 - __main__ - DEBUG - debug message (789279774.py:10)\u001b[0m\n",
      "\u001b[38;20m2023-04-21 20:19:38,505 - __main__ - INFO - \u001b[92m Warning: Email has not been sent......\u001b[92m (789279774.py:11)\u001b[0m\n",
      "\u001b[33;20m2023-04-21 20:19:38,506 - __main__ - WARNING - warning message (789279774.py:12)\u001b[0m\n",
      "\u001b[31;20m2023-04-21 20:19:38,507 - __main__ - ERROR - error message (789279774.py:13)\u001b[0m\n",
      "\u001b[31;1m2023-04-21 20:19:38,508 - __main__ - CRITICAL - critical message (789279774.py:14)\u001b[0m\n"
     ]
    },
    {
     "name": "stdout",
     "output_type": "stream",
     "text": [
      "__main__\n"
     ]
    }
   ],
   "source": [
    "import os \n",
    "print(__name__)\n",
    "logger = logging.getLogger(__name__)\n",
    "logger.setLevel(logging.DEBUG)\n",
    "ch = logging.StreamHandler()\n",
    "ch.setLevel(logging.DEBUG)\n",
    "ch.setFormatter(CustomFormatter())\n",
    "logger.addHandler(ch)\n",
    "\n",
    "logger.debug(\"debug message\")\n",
    "logger.info(f\"{bcolors.OKGREEN} Warning: Email has not been sent......{bcolors.OKGREEN}\")\n",
    "logger.warning(\"warning message\")\n",
    "logger.error(\"error message\")\n",
    "logger.critical(\"critical message\")"
   ]
  },
  {
   "cell_type": "code",
   "execution_count": 1,
   "metadata": {
    "scrolled": false
   },
   "outputs": [
    {
     "name": "stdout",
     "output_type": "stream",
     "text": [
      "Enter your database credentials\n",
      "Username: aua\n",
      "Password: mysecretpassword\n",
      "Database name: GLOBBING\n"
     ]
    },
    {
     "data": {
      "text/html": [
       "<div>\n",
       "<style scoped>\n",
       "    .dataframe tbody tr th:only-of-type {\n",
       "        vertical-align: middle;\n",
       "    }\n",
       "\n",
       "    .dataframe tbody tr th {\n",
       "        vertical-align: top;\n",
       "    }\n",
       "\n",
       "    .dataframe thead th {\n",
       "        text-align: right;\n",
       "    }\n",
       "</style>\n",
       "<table border=\"1\" class=\"dataframe\">\n",
       "  <thead>\n",
       "    <tr style=\"text-align: right;\">\n",
       "      <th></th>\n",
       "      <th>customer_id</th>\n",
       "      <th>expected_purchase</th>\n",
       "    </tr>\n",
       "  </thead>\n",
       "  <tbody>\n",
       "    <tr>\n",
       "      <th>0</th>\n",
       "      <td>ALN161735</td>\n",
       "      <td>3.230200</td>\n",
       "    </tr>\n",
       "    <tr>\n",
       "      <th>1</th>\n",
       "      <td>RFS781349</td>\n",
       "      <td>2.781714</td>\n",
       "    </tr>\n",
       "    <tr>\n",
       "      <th>2</th>\n",
       "      <td>QYV196131</td>\n",
       "      <td>2.689526</td>\n",
       "    </tr>\n",
       "    <tr>\n",
       "      <th>3</th>\n",
       "      <td>AZP596115</td>\n",
       "      <td>2.662708</td>\n",
       "    </tr>\n",
       "    <tr>\n",
       "      <th>4</th>\n",
       "      <td>SCK314236</td>\n",
       "      <td>2.659689</td>\n",
       "    </tr>\n",
       "    <tr>\n",
       "      <th>5</th>\n",
       "      <td>ZGV934805</td>\n",
       "      <td>2.657912</td>\n",
       "    </tr>\n",
       "    <tr>\n",
       "      <th>6</th>\n",
       "      <td>ZFZ316415</td>\n",
       "      <td>2.648490</td>\n",
       "    </tr>\n",
       "    <tr>\n",
       "      <th>7</th>\n",
       "      <td>LPQ959075</td>\n",
       "      <td>2.647007</td>\n",
       "    </tr>\n",
       "    <tr>\n",
       "      <th>8</th>\n",
       "      <td>HPI478895</td>\n",
       "      <td>2.614142</td>\n",
       "    </tr>\n",
       "    <tr>\n",
       "      <th>9</th>\n",
       "      <td>ZJF744789</td>\n",
       "      <td>2.612179</td>\n",
       "    </tr>\n",
       "  </tbody>\n",
       "</table>\n",
       "</div>"
      ],
      "text/plain": [
       "  customer_id  expected_purchase\n",
       "0   ALN161735           3.230200\n",
       "1   RFS781349           2.781714\n",
       "2   QYV196131           2.689526\n",
       "3   AZP596115           2.662708\n",
       "4   SCK314236           2.659689\n",
       "5   ZGV934805           2.657912\n",
       "6   ZFZ316415           2.648490\n",
       "7   LPQ959075           2.647007\n",
       "8   HPI478895           2.614142\n",
       "9   ZJF744789           2.612179"
      ]
     },
     "execution_count": 1,
     "metadata": {},
     "output_type": "execute_result"
    }
   ],
   "source": [
    "from zenq.api.endpoints import points\n",
    "points_instance = points('globbing.csv')\n",
    "# points_instance.insert_facts()\n",
    "\n",
    "points_instance.top_10_customer_expected_purchase_in_30_days()\n",
    "\n"
   ]
  },
  {
   "cell_type": "code",
   "execution_count": 2,
   "metadata": {
    "scrolled": true
   },
   "outputs": [
    {
     "name": "stdout",
     "output_type": "stream",
     "text": [
      "Percentage of customers that only bought once 0.0 %\n",
      "Percentage of customers that only bought once 0.0 %\n",
      "     customer_id   min_date  recency    T  frequency  monetary\n",
      "0      KVO444312 2022-09-13      163  227         14  255590.0\n",
      "1      VBV804469 2022-09-04      200  236         14  310880.0\n",
      "2      BAE240832 2022-09-13      196  227          3   39005.0\n",
      "3      AOK457989 2022-09-14      189  226          5  111895.0\n",
      "4      XZF813575 2022-09-05      179  235         11  223440.0\n",
      "...          ...        ...      ...  ...        ...       ...\n",
      "1956   DXT747575 2022-09-12      206  228          7  114810.0\n",
      "1957   VOZ592840 2023-01-14       52  104          2   51295.0\n",
      "1958   ZCQ782298 2022-09-13      207  227         20  465100.0\n",
      "1959   YNW866090 2022-09-02      143  238         11  238605.0\n",
      "1960   IFC198488 2022-09-17      189  223          6  174255.0\n",
      "\n",
      "[1960 rows x 6 columns]\n"
     ]
    },
    {
     "name": "stderr",
     "output_type": "stream",
     "text": [
      "/opt/anaconda3/lib/python3.8/site-packages/scipy/special/_logsumexp.py:108: RuntimeWarning: overflow encountered in exp\n",
      "  tmp = b * np.exp(a - a_max)\n"
     ]
    },
    {
     "name": "stdout",
     "output_type": "stream",
     "text": [
      "Percentage of customers that only bought once 0.0 %\n",
      "Percentage of customers that only bought once 0.0 %\n",
      "     customer_id   min_date  recency    T  frequency  monetary\n",
      "0      KVO444312 2022-09-13      163  227         14  255590.0\n",
      "1      VBV804469 2022-09-04      200  236         14  310880.0\n",
      "2      BAE240832 2022-09-13      196  227          3   39005.0\n",
      "3      AOK457989 2022-09-14      189  226          5  111895.0\n",
      "4      XZF813575 2022-09-05      179  235         11  223440.0\n",
      "...          ...        ...      ...  ...        ...       ...\n",
      "1956   DXT747575 2022-09-12      206  228          7  114810.0\n",
      "1957   VOZ592840 2023-01-14       52  104          2   51295.0\n",
      "1958   ZCQ782298 2022-09-13      207  227         20  465100.0\n",
      "1959   YNW866090 2022-09-02      143  238         11  238605.0\n",
      "1960   IFC198488 2022-09-17      189  223          6  174255.0\n",
      "\n",
      "[1960 rows x 6 columns]\n"
     ]
    },
    {
     "name": "stderr",
     "output_type": "stream",
     "text": [
      "/opt/anaconda3/lib/python3.8/site-packages/scipy/special/_logsumexp.py:108: RuntimeWarning: overflow encountered in exp\n",
      "  tmp = b * np.exp(a - a_max)\n"
     ]
    },
    {
     "name": "stdout",
     "output_type": "stream",
     "text": [
      "Percentage of customers that only bought once 0.0 %\n",
      "Percentage of customers that only bought once 0.0 %\n",
      "     customer_id   min_date  recency    T  frequency  monetary\n",
      "0      KVO444312 2022-09-13      163  227         14  255590.0\n",
      "1      VBV804469 2022-09-04      200  236         14  310880.0\n",
      "2      BAE240832 2022-09-13      196  227          3   39005.0\n",
      "3      AOK457989 2022-09-14      189  226          5  111895.0\n",
      "4      XZF813575 2022-09-05      179  235         11  223440.0\n",
      "...          ...        ...      ...  ...        ...       ...\n",
      "1956   DXT747575 2022-09-12      206  228          7  114810.0\n",
      "1957   VOZ592840 2023-01-14       52  104          2   51295.0\n",
      "1958   ZCQ782298 2022-09-13      207  227         20  465100.0\n",
      "1959   YNW866090 2022-09-02      143  238         11  238605.0\n",
      "1960   IFC198488 2022-09-17      189  223          6  174255.0\n",
      "\n",
      "[1960 rows x 6 columns]\n"
     ]
    },
    {
     "name": "stderr",
     "output_type": "stream",
     "text": [
      "/opt/anaconda3/lib/python3.8/site-packages/scipy/special/_logsumexp.py:108: RuntimeWarning: overflow encountered in exp\n",
      "  tmp = b * np.exp(a - a_max)\n"
     ]
    },
    {
     "name": "stdout",
     "output_type": "stream",
     "text": [
      "Percentage of customers that only bought once 0.0 %\n",
      "Percentage of customers that only bought once 0.0 %\n"
     ]
    },
    {
     "data": {
      "text/html": [
       "<div>\n",
       "<style scoped>\n",
       "    .dataframe tbody tr th:only-of-type {\n",
       "        vertical-align: middle;\n",
       "    }\n",
       "\n",
       "    .dataframe tbody tr th {\n",
       "        vertical-align: top;\n",
       "    }\n",
       "\n",
       "    .dataframe thead th {\n",
       "        text-align: right;\n",
       "    }\n",
       "</style>\n",
       "<table border=\"1\" class=\"dataframe\">\n",
       "  <thead>\n",
       "    <tr style=\"text-align: right;\">\n",
       "      <th></th>\n",
       "      <th>customer_id</th>\n",
       "      <th>min_date</th>\n",
       "      <th>recency</th>\n",
       "      <th>T</th>\n",
       "      <th>frequency</th>\n",
       "      <th>monetary</th>\n",
       "    </tr>\n",
       "  </thead>\n",
       "  <tbody>\n",
       "    <tr>\n",
       "      <th>0</th>\n",
       "      <td>KVO444312</td>\n",
       "      <td>2022-09-13</td>\n",
       "      <td>163</td>\n",
       "      <td>227</td>\n",
       "      <td>14</td>\n",
       "      <td>255590.0</td>\n",
       "    </tr>\n",
       "    <tr>\n",
       "      <th>1</th>\n",
       "      <td>VBV804469</td>\n",
       "      <td>2022-09-04</td>\n",
       "      <td>200</td>\n",
       "      <td>236</td>\n",
       "      <td>14</td>\n",
       "      <td>310880.0</td>\n",
       "    </tr>\n",
       "    <tr>\n",
       "      <th>2</th>\n",
       "      <td>BAE240832</td>\n",
       "      <td>2022-09-13</td>\n",
       "      <td>196</td>\n",
       "      <td>227</td>\n",
       "      <td>3</td>\n",
       "      <td>39005.0</td>\n",
       "    </tr>\n",
       "    <tr>\n",
       "      <th>3</th>\n",
       "      <td>AOK457989</td>\n",
       "      <td>2022-09-14</td>\n",
       "      <td>189</td>\n",
       "      <td>226</td>\n",
       "      <td>5</td>\n",
       "      <td>111895.0</td>\n",
       "    </tr>\n",
       "    <tr>\n",
       "      <th>4</th>\n",
       "      <td>XZF813575</td>\n",
       "      <td>2022-09-05</td>\n",
       "      <td>179</td>\n",
       "      <td>235</td>\n",
       "      <td>11</td>\n",
       "      <td>223440.0</td>\n",
       "    </tr>\n",
       "    <tr>\n",
       "      <th>...</th>\n",
       "      <td>...</td>\n",
       "      <td>...</td>\n",
       "      <td>...</td>\n",
       "      <td>...</td>\n",
       "      <td>...</td>\n",
       "      <td>...</td>\n",
       "    </tr>\n",
       "    <tr>\n",
       "      <th>1956</th>\n",
       "      <td>DXT747575</td>\n",
       "      <td>2022-09-12</td>\n",
       "      <td>206</td>\n",
       "      <td>228</td>\n",
       "      <td>7</td>\n",
       "      <td>114810.0</td>\n",
       "    </tr>\n",
       "    <tr>\n",
       "      <th>1957</th>\n",
       "      <td>VOZ592840</td>\n",
       "      <td>2023-01-14</td>\n",
       "      <td>52</td>\n",
       "      <td>104</td>\n",
       "      <td>2</td>\n",
       "      <td>51295.0</td>\n",
       "    </tr>\n",
       "    <tr>\n",
       "      <th>1958</th>\n",
       "      <td>ZCQ782298</td>\n",
       "      <td>2022-09-13</td>\n",
       "      <td>207</td>\n",
       "      <td>227</td>\n",
       "      <td>20</td>\n",
       "      <td>465100.0</td>\n",
       "    </tr>\n",
       "    <tr>\n",
       "      <th>1959</th>\n",
       "      <td>YNW866090</td>\n",
       "      <td>2022-09-02</td>\n",
       "      <td>143</td>\n",
       "      <td>238</td>\n",
       "      <td>11</td>\n",
       "      <td>238605.0</td>\n",
       "    </tr>\n",
       "    <tr>\n",
       "      <th>1960</th>\n",
       "      <td>IFC198488</td>\n",
       "      <td>2022-09-17</td>\n",
       "      <td>189</td>\n",
       "      <td>223</td>\n",
       "      <td>6</td>\n",
       "      <td>174255.0</td>\n",
       "    </tr>\n",
       "  </tbody>\n",
       "</table>\n",
       "<p>1960 rows × 6 columns</p>\n",
       "</div>"
      ],
      "text/plain": [
       "     customer_id   min_date  recency    T  frequency  monetary\n",
       "0      KVO444312 2022-09-13      163  227         14  255590.0\n",
       "1      VBV804469 2022-09-04      200  236         14  310880.0\n",
       "2      BAE240832 2022-09-13      196  227          3   39005.0\n",
       "3      AOK457989 2022-09-14      189  226          5  111895.0\n",
       "4      XZF813575 2022-09-05      179  235         11  223440.0\n",
       "...          ...        ...      ...  ...        ...       ...\n",
       "1956   DXT747575 2022-09-12      206  228          7  114810.0\n",
       "1957   VOZ592840 2023-01-14       52  104          2   51295.0\n",
       "1958   ZCQ782298 2022-09-13      207  227         20  465100.0\n",
       "1959   YNW866090 2022-09-02      143  238         11  238605.0\n",
       "1960   IFC198488 2022-09-17      189  223          6  174255.0\n",
       "\n",
       "[1960 rows x 6 columns]"
      ]
     },
     "execution_count": 2,
     "metadata": {},
     "output_type": "execute_result"
    }
   ],
   "source": [
    "from zenq.clvmodels.pareto import Model\n",
    "model = Model()\n",
    "\n",
    "result = model.cltv_df()\n",
    "# print('Length of df_data_group:', len(result))\n",
    "\n",
    "result\n"
   ]
  },
  {
   "cell_type": "code",
   "execution_count": 3,
   "metadata": {},
   "outputs": [
    {
     "name": "stdout",
     "output_type": "stream",
     "text": [
      "Percentage of customers that only bought once 0.0 %\n",
      "Percentage of customers that only bought once 0.0 %\n",
      "     customer_id   min_date  recency    T  frequency  monetary\n",
      "0      KVO444312 2022-09-13      163  227         14  255590.0\n",
      "1      VBV804469 2022-09-04      200  236         14  310880.0\n",
      "2      BAE240832 2022-09-13      196  227          3   39005.0\n",
      "3      AOK457989 2022-09-14      189  226          5  111895.0\n",
      "4      XZF813575 2022-09-05      179  235         11  223440.0\n",
      "...          ...        ...      ...  ...        ...       ...\n",
      "1956   DXT747575 2022-09-12      206  228          7  114810.0\n",
      "1957   VOZ592840 2023-01-14       52  104          2   51295.0\n",
      "1958   ZCQ782298 2022-09-13      207  227         20  465100.0\n",
      "1959   YNW866090 2022-09-02      143  238         11  238605.0\n",
      "1960   IFC198488 2022-09-17      189  223          6  174255.0\n",
      "\n",
      "[1960 rows x 6 columns]\n"
     ]
    },
    {
     "name": "stderr",
     "output_type": "stream",
     "text": [
      "/opt/anaconda3/lib/python3.8/site-packages/scipy/special/_logsumexp.py:108: RuntimeWarning: overflow encountered in exp\n",
      "  tmp = b * np.exp(a - a_max)\n"
     ]
    },
    {
     "name": "stdout",
     "output_type": "stream",
     "text": [
      "Percentage of customers that only bought once 0.0 %\n",
      "Percentage of customers that only bought once 0.0 %\n",
      "     customer_id   min_date  recency    T  frequency  monetary\n",
      "0      KVO444312 2022-09-13      163  227         14  255590.0\n",
      "1      VBV804469 2022-09-04      200  236         14  310880.0\n",
      "2      BAE240832 2022-09-13      196  227          3   39005.0\n",
      "3      AOK457989 2022-09-14      189  226          5  111895.0\n",
      "4      XZF813575 2022-09-05      179  235         11  223440.0\n",
      "...          ...        ...      ...  ...        ...       ...\n",
      "1956   DXT747575 2022-09-12      206  228          7  114810.0\n",
      "1957   VOZ592840 2023-01-14       52  104          2   51295.0\n",
      "1958   ZCQ782298 2022-09-13      207  227         20  465100.0\n",
      "1959   YNW866090 2022-09-02      143  238         11  238605.0\n",
      "1960   IFC198488 2022-09-17      189  223          6  174255.0\n",
      "\n",
      "[1960 rows x 6 columns]\n"
     ]
    },
    {
     "name": "stderr",
     "output_type": "stream",
     "text": [
      "/opt/anaconda3/lib/python3.8/site-packages/scipy/special/_logsumexp.py:108: RuntimeWarning: overflow encountered in exp\n",
      "  tmp = b * np.exp(a - a_max)\n"
     ]
    },
    {
     "name": "stdout",
     "output_type": "stream",
     "text": [
      "Percentage of customers that only bought once 0.0 %\n",
      "Percentage of customers that only bought once 0.0 %\n",
      "     customer_id   min_date  recency    T  frequency  monetary\n",
      "0      KVO444312 2022-09-13      163  227         14  255590.0\n",
      "1      VBV804469 2022-09-04      200  236         14  310880.0\n",
      "2      BAE240832 2022-09-13      196  227          3   39005.0\n",
      "3      AOK457989 2022-09-14      189  226          5  111895.0\n",
      "4      XZF813575 2022-09-05      179  235         11  223440.0\n",
      "...          ...        ...      ...  ...        ...       ...\n",
      "1956   DXT747575 2022-09-12      206  228          7  114810.0\n",
      "1957   VOZ592840 2023-01-14       52  104          2   51295.0\n",
      "1958   ZCQ782298 2022-09-13      207  227         20  465100.0\n",
      "1959   YNW866090 2022-09-02      143  238         11  238605.0\n",
      "1960   IFC198488 2022-09-17      189  223          6  174255.0\n",
      "\n",
      "[1960 rows x 6 columns]\n"
     ]
    },
    {
     "name": "stderr",
     "output_type": "stream",
     "text": [
      "/opt/anaconda3/lib/python3.8/site-packages/scipy/special/_logsumexp.py:108: RuntimeWarning: overflow encountered in exp\n",
      "  tmp = b * np.exp(a - a_max)\n"
     ]
    },
    {
     "name": "stdout",
     "output_type": "stream",
     "text": [
      "Percentage of customers that only bought once 0.0 %\n",
      "Percentage of customers that only bought once 0.0 %\n",
      "     customer_id   min_date  recency    T  frequency  monetary\n",
      "0      KVO444312 2022-09-13      163  227         14  255590.0\n",
      "1      VBV804469 2022-09-04      200  236         14  310880.0\n",
      "2      BAE240832 2022-09-13      196  227          3   39005.0\n",
      "3      AOK457989 2022-09-14      189  226          5  111895.0\n",
      "4      XZF813575 2022-09-05      179  235         11  223440.0\n",
      "...          ...        ...      ...  ...        ...       ...\n",
      "1956   DXT747575 2022-09-12      206  228          7  114810.0\n",
      "1957   VOZ592840 2023-01-14       52  104          2   51295.0\n",
      "1958   ZCQ782298 2022-09-13      207  227         20  465100.0\n",
      "1959   YNW866090 2022-09-02      143  238         11  238605.0\n",
      "1960   IFC198488 2022-09-17      189  223          6  174255.0\n",
      "\n",
      "[1960 rows x 6 columns]\n"
     ]
    },
    {
     "name": "stderr",
     "output_type": "stream",
     "text": [
      "/opt/anaconda3/lib/python3.8/site-packages/scipy/special/_logsumexp.py:108: RuntimeWarning: overflow encountered in exp\n",
      "  tmp = b * np.exp(a - a_max)\n"
     ]
    },
    {
     "data": {
      "text/plain": [
       "r             7.143123\n",
       "alpha       131.277169\n",
       "s           340.404693\n",
       "beta     420524.246380\n",
       "dtype: float64"
      ]
     },
     "execution_count": 3,
     "metadata": {},
     "output_type": "execute_result"
    }
   ],
   "source": [
    "from lifetimes import ParetoNBDFitter\n",
    "\n",
    "from zenq.clvmodels.pareto import Model\n",
    "model = Model()\n",
    "result = model.fit_paretonbd()\n",
    "# print('Length of df_data_group:', len(result))\n",
    "freq=result.params_ \n",
    "freq"
   ]
  },
  {
   "cell_type": "code",
   "execution_count": null,
   "metadata": {},
   "outputs": [],
   "source": [
    "\n",
    "from lifetimes import ParetoNBDFitter\n",
    "from lifetimes import ParetoNBDFitter \n",
    "from lifetimes.utils import summary_data_from_transaction_data\n",
    "import pandas as pd \n",
    "from zenq.clvmodels.pareto import Model\n",
    "model = Model()\n",
    "\n",
    "result = model.fit_paretonbd()\n",
    "\n",
    "# print('Length of df_data_group:', len(result))\n",
    "\n",
    "result"
   ]
  },
  {
   "cell_type": "code",
   "execution_count": 1,
   "metadata": {},
   "outputs": [
    {
     "name": "stdout",
     "output_type": "stream",
     "text": [
      "Enter your database credentials\n",
      "Username: aua\n",
      "Password: mysecretpassword\n",
      "Database name: GLOBBING\n",
      "Percentage of customers that only bought once 0.0 %\n",
      "Percentage of customers that only bought once 0.0 %\n",
      "     customer_id   min_date  recency    T  frequency  monetary\n",
      "0      KVO444312 2022-09-13      163  227         14  255590.0\n",
      "1      VBV804469 2022-09-04      200  236         14  310880.0\n",
      "2      BAE240832 2022-09-13      196  227          3   39005.0\n",
      "3      AOK457989 2022-09-14      189  226          5  111895.0\n",
      "4      XZF813575 2022-09-05      179  235         11  223440.0\n",
      "...          ...        ...      ...  ...        ...       ...\n",
      "1956   DXT747575 2022-09-12      206  228          7  114810.0\n",
      "1957   VOZ592840 2023-01-14       52  104          2   51295.0\n",
      "1958   ZCQ782298 2022-09-13      207  227         20  465100.0\n",
      "1959   YNW866090 2022-09-02      143  238         11  238605.0\n",
      "1960   IFC198488 2022-09-17      189  223          6  174255.0\n",
      "\n",
      "[1960 rows x 6 columns]\n"
     ]
    },
    {
     "name": "stderr",
     "output_type": "stream",
     "text": [
      "/opt/anaconda3/lib/python3.8/site-packages/scipy/special/_logsumexp.py:108: RuntimeWarning: overflow encountered in exp\n",
      "  tmp = b * np.exp(a - a_max)\n"
     ]
    },
    {
     "name": "stdout",
     "output_type": "stream",
     "text": [
      "Percentage of customers that only bought once 0.0 %\n",
      "Percentage of customers that only bought once 0.0 %\n",
      "     customer_id   min_date  recency    T  frequency  monetary\n",
      "0      KVO444312 2022-09-13      163  227         14  255590.0\n",
      "1      VBV804469 2022-09-04      200  236         14  310880.0\n",
      "2      BAE240832 2022-09-13      196  227          3   39005.0\n",
      "3      AOK457989 2022-09-14      189  226          5  111895.0\n",
      "4      XZF813575 2022-09-05      179  235         11  223440.0\n",
      "...          ...        ...      ...  ...        ...       ...\n",
      "1956   DXT747575 2022-09-12      206  228          7  114810.0\n",
      "1957   VOZ592840 2023-01-14       52  104          2   51295.0\n",
      "1958   ZCQ782298 2022-09-13      207  227         20  465100.0\n",
      "1959   YNW866090 2022-09-02      143  238         11  238605.0\n",
      "1960   IFC198488 2022-09-17      189  223          6  174255.0\n",
      "\n",
      "[1960 rows x 6 columns]\n"
     ]
    },
    {
     "name": "stderr",
     "output_type": "stream",
     "text": [
      "/opt/anaconda3/lib/python3.8/site-packages/scipy/special/_logsumexp.py:108: RuntimeWarning: overflow encountered in exp\n",
      "  tmp = b * np.exp(a - a_max)\n"
     ]
    },
    {
     "name": "stdout",
     "output_type": "stream",
     "text": [
      "Percentage of customers that only bought once 0.0 %\n",
      "Percentage of customers that only bought once 0.0 %\n",
      "     customer_id   min_date  recency    T  frequency  monetary\n",
      "0      KVO444312 2022-09-13      163  227         14  255590.0\n",
      "1      VBV804469 2022-09-04      200  236         14  310880.0\n",
      "2      BAE240832 2022-09-13      196  227          3   39005.0\n",
      "3      AOK457989 2022-09-14      189  226          5  111895.0\n",
      "4      XZF813575 2022-09-05      179  235         11  223440.0\n",
      "...          ...        ...      ...  ...        ...       ...\n",
      "1956   DXT747575 2022-09-12      206  228          7  114810.0\n",
      "1957   VOZ592840 2023-01-14       52  104          2   51295.0\n",
      "1958   ZCQ782298 2022-09-13      207  227         20  465100.0\n",
      "1959   YNW866090 2022-09-02      143  238         11  238605.0\n",
      "1960   IFC198488 2022-09-17      189  223          6  174255.0\n",
      "\n",
      "[1960 rows x 6 columns]\n"
     ]
    },
    {
     "name": "stderr",
     "output_type": "stream",
     "text": [
      "/opt/anaconda3/lib/python3.8/site-packages/scipy/special/_logsumexp.py:108: RuntimeWarning: overflow encountered in exp\n",
      "  tmp = b * np.exp(a - a_max)\n"
     ]
    },
    {
     "name": "stdout",
     "output_type": "stream",
     "text": [
      "Percentage of customers that only bought once 0.0 %\n",
      "Percentage of customers that only bought once 0.0 %\n"
     ]
    },
    {
     "data": {
      "text/html": [
       "<div>\n",
       "<style scoped>\n",
       "    .dataframe tbody tr th:only-of-type {\n",
       "        vertical-align: middle;\n",
       "    }\n",
       "\n",
       "    .dataframe tbody tr th {\n",
       "        vertical-align: top;\n",
       "    }\n",
       "\n",
       "    .dataframe thead th {\n",
       "        text-align: right;\n",
       "    }\n",
       "</style>\n",
       "<table border=\"1\" class=\"dataframe\">\n",
       "  <thead>\n",
       "    <tr style=\"text-align: right;\">\n",
       "      <th></th>\n",
       "      <th>customer_id</th>\n",
       "      <th>recency_score</th>\n",
       "      <th>frequency_score</th>\n",
       "      <th>monetary_score</th>\n",
       "      <th>RFM_SCORE</th>\n",
       "      <th>segment</th>\n",
       "    </tr>\n",
       "  </thead>\n",
       "  <tbody>\n",
       "    <tr>\n",
       "      <th>0</th>\n",
       "      <td>KVO444312</td>\n",
       "      <td>4</td>\n",
       "      <td>4</td>\n",
       "      <td>4</td>\n",
       "      <td>44</td>\n",
       "      <td>LOYAL CUSTOMER</td>\n",
       "    </tr>\n",
       "    <tr>\n",
       "      <th>1</th>\n",
       "      <td>VBV804469</td>\n",
       "      <td>2</td>\n",
       "      <td>4</td>\n",
       "      <td>4</td>\n",
       "      <td>24</td>\n",
       "      <td>AT RISK</td>\n",
       "    </tr>\n",
       "    <tr>\n",
       "      <th>2</th>\n",
       "      <td>BAE240832</td>\n",
       "      <td>2</td>\n",
       "      <td>1</td>\n",
       "      <td>1</td>\n",
       "      <td>21</td>\n",
       "      <td>HIBERNATING</td>\n",
       "    </tr>\n",
       "    <tr>\n",
       "      <th>3</th>\n",
       "      <td>AOK457989</td>\n",
       "      <td>3</td>\n",
       "      <td>1</td>\n",
       "      <td>2</td>\n",
       "      <td>31</td>\n",
       "      <td>ABOUT TO SLEEP</td>\n",
       "    </tr>\n",
       "    <tr>\n",
       "      <th>4</th>\n",
       "      <td>XZF813575</td>\n",
       "      <td>3</td>\n",
       "      <td>3</td>\n",
       "      <td>3</td>\n",
       "      <td>33</td>\n",
       "      <td>NEED ATTENTION</td>\n",
       "    </tr>\n",
       "    <tr>\n",
       "      <th>...</th>\n",
       "      <td>...</td>\n",
       "      <td>...</td>\n",
       "      <td>...</td>\n",
       "      <td>...</td>\n",
       "      <td>...</td>\n",
       "      <td>...</td>\n",
       "    </tr>\n",
       "    <tr>\n",
       "      <th>1956</th>\n",
       "      <td>DXT747575</td>\n",
       "      <td>1</td>\n",
       "      <td>2</td>\n",
       "      <td>2</td>\n",
       "      <td>12</td>\n",
       "      <td>HIBERNATING</td>\n",
       "    </tr>\n",
       "    <tr>\n",
       "      <th>1957</th>\n",
       "      <td>VOZ592840</td>\n",
       "      <td>5</td>\n",
       "      <td>1</td>\n",
       "      <td>1</td>\n",
       "      <td>51</td>\n",
       "      <td>NEW CUSTOMERS</td>\n",
       "    </tr>\n",
       "    <tr>\n",
       "      <th>1958</th>\n",
       "      <td>ZCQ782298</td>\n",
       "      <td>1</td>\n",
       "      <td>5</td>\n",
       "      <td>5</td>\n",
       "      <td>15</td>\n",
       "      <td>CANT LOSE</td>\n",
       "    </tr>\n",
       "    <tr>\n",
       "      <th>1959</th>\n",
       "      <td>YNW866090</td>\n",
       "      <td>4</td>\n",
       "      <td>3</td>\n",
       "      <td>3</td>\n",
       "      <td>43</td>\n",
       "      <td>POTENTIAL LOYALIST</td>\n",
       "    </tr>\n",
       "    <tr>\n",
       "      <th>1960</th>\n",
       "      <td>IFC198488</td>\n",
       "      <td>3</td>\n",
       "      <td>2</td>\n",
       "      <td>2</td>\n",
       "      <td>32</td>\n",
       "      <td>ABOUT TO SLEEP</td>\n",
       "    </tr>\n",
       "  </tbody>\n",
       "</table>\n",
       "<p>1960 rows × 6 columns</p>\n",
       "</div>"
      ],
      "text/plain": [
       "     customer_id recency_score frequency_score monetary_score RFM_SCORE  \\\n",
       "0      KVO444312             4               4              4        44   \n",
       "1      VBV804469             2               4              4        24   \n",
       "2      BAE240832             2               1              1        21   \n",
       "3      AOK457989             3               1              2        31   \n",
       "4      XZF813575             3               3              3        33   \n",
       "...          ...           ...             ...            ...       ...   \n",
       "1956   DXT747575             1               2              2        12   \n",
       "1957   VOZ592840             5               1              1        51   \n",
       "1958   ZCQ782298             1               5              5        15   \n",
       "1959   YNW866090             4               3              3        43   \n",
       "1960   IFC198488             3               2              2        32   \n",
       "\n",
       "                 segment  \n",
       "0         LOYAL CUSTOMER  \n",
       "1                AT RISK  \n",
       "2            HIBERNATING  \n",
       "3         ABOUT TO SLEEP  \n",
       "4         NEED ATTENTION  \n",
       "...                  ...  \n",
       "1956         HIBERNATING  \n",
       "1957       NEW CUSTOMERS  \n",
       "1958           CANT LOSE  \n",
       "1959  POTENTIAL LOYALIST  \n",
       "1960      ABOUT TO SLEEP  \n",
       "\n",
       "[1960 rows x 6 columns]"
      ]
     },
     "execution_count": 1,
     "metadata": {},
     "output_type": "execute_result"
    }
   ],
   "source": [
    "\n",
    "from lifetimes import ParetoNBDFitter\n",
    "from lifetimes import ParetoNBDFitter \n",
    "from lifetimes.utils import summary_data_from_transaction_data\n",
    "import pandas as pd \n",
    "from zenq.clvmodels.pareto import Model\n",
    "uf = Model()\n",
    "\n",
    "result = uf.rfm()\n",
    "\n",
    "# print('Length of df_data_group:', len(result))\n",
    "\n",
    "result"
   ]
  },
  {
   "cell_type": "code",
   "execution_count": null,
   "metadata": {},
   "outputs": [
    {
     "name": "stdout",
     "output_type": "stream",
     "text": [
      "Percentage of customers that only bought once 0.0 %\n",
      "Percentage of customers that only bought once 0.0 %\n",
      "     customer_id   min_date  recency    T  frequency  monetary\n",
      "0      KVO444312 2022-09-13      163  227         14  255590.0\n",
      "1      VBV804469 2022-09-04      200  236         14  310880.0\n",
      "2      BAE240832 2022-09-13      196  227          3   39005.0\n",
      "3      AOK457989 2022-09-14      189  226          5  111895.0\n",
      "4      XZF813575 2022-09-05      179  235         11  223440.0\n",
      "...          ...        ...      ...  ...        ...       ...\n",
      "1956   DXT747575 2022-09-12      206  228          7  114810.0\n",
      "1957   VOZ592840 2023-01-14       52  104          2   51295.0\n",
      "1958   ZCQ782298 2022-09-13      207  227         20  465100.0\n",
      "1959   YNW866090 2022-09-02      143  238         11  238605.0\n",
      "1960   IFC198488 2022-09-17      189  223          6  174255.0\n",
      "\n",
      "[1960 rows x 6 columns]\n"
     ]
    },
    {
     "name": "stderr",
     "output_type": "stream",
     "text": [
      "/opt/anaconda3/lib/python3.8/site-packages/scipy/special/_logsumexp.py:108: RuntimeWarning: overflow encountered in exp\n",
      "  tmp = b * np.exp(a - a_max)\n"
     ]
    },
    {
     "name": "stdout",
     "output_type": "stream",
     "text": [
      "Percentage of customers that only bought once 0.0 %\n"
     ]
    }
   ],
   "source": [
    "\n",
    "from lifetimes import ParetoNBDFitter\n",
    "from lifetimes import ParetoNBDFitter \n",
    "from lifetimes.utils import summary_data_from_transaction_data\n",
    "import pandas as pd \n",
    "from zenq.clvmodels.pareto import Model\n",
    "uf = Model()\n",
    "\n",
    "result = uf.rfm()\n",
    "\n",
    "# print('Length of df_data_group:', len(result))\n",
    "\n",
    "result\n",
    " "
   ]
  },
  {
   "cell_type": "code",
   "execution_count": 12,
   "metadata": {},
   "outputs": [
    {
     "data": {
      "image/png": "[encoded data removed]",
      "text/plain": [
       "<Figure size 800x600 with 1 Axes>"
      ]
     },
     "metadata": {},
     "output_type": "display_data"
    }
   ],
   "source": [
    "from zenq.visualizations.plot import Visuals\n",
    "uf = Visuals()\n",
    "\n",
    "# result = uf.total_sales_by_location()\n",
    "\n",
    "\n",
    "# result = uf.price_distribution()\n",
    "# result = uf.time_series()\n",
    "# result = uf.gender_price()\n",
    "# result = uf.rfm_treemap()\n",
    "# result = uf.top_customers_90days()\n",
    "\n",
    "\n",
    "result = uf.customer_aliveness()\n",
    "# result = uf.customer_aliveness()\n",
    "\n",
    "\n",
    "result\n"
   ]
  },
  {
   "cell_type": "code",
   "execution_count": null,
   "metadata": {},
   "outputs": [],
   "source": []
  },
  {
   "cell_type": "code",
   "execution_count": null,
   "metadata": {},
   "outputs": [],
   "source": []
  }
 ],
 "metadata": {
  "kernelspec": {
   "display_name": "Python 3 (ipykernel)",
   "language": "python",
   "name": "python3"
  },
  "language_info": {
   "codemirror_mode": {
    "name": "ipython",
    "version": 3
   },
   "file_extension": ".py",
   "mimetype": "text/x-python",
   "name": "python",
   "nbconvert_exporter": "python",
   "pygments_lexer": "ipython3",
   "version": "3.8.8"
  },
  "vscode": {
   "interpreter": {
    "hash": "8a5edab282632443219e051e4ade2d1d5bbc671c781051bf1437897cbdfea0f1"
   }
  }
 },
 "nbformat": 4,
 "nbformat_minor": 2
}
