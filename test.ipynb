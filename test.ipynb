{
 "cells": [
  {
   "cell_type": "markdown",
   "metadata": {},
   "source": [
    "### RUN IN TERMINAL FOR DATABASE CREATION\n",
    "\n",
    "docker ps (to see the running containers)\n",
    "\n",
    "docker stop id (write instead of id what you want to delete)\n",
    "\n",
    "docker rm -f $(docker ps -aq) (delete every running container)\n",
    "\n",
    "docker run --name my-postgres-db -e POSTGRES_USER=master -e POSTGRES_PASSWORD=pass -e POSTGRES_DB=GLOBBING -p 5432:5432 -d postgres"
   ]
  },
  {
   "cell_type": "markdown",
   "metadata": {},
   "source": [
    "# Initialize the database by creating the tables"
   ]
  },
  {
   "cell_type": "code",
   "execution_count": 1,
   "metadata": {},
   "outputs": [
    {
     "name": "stderr",
     "output_type": "stream",
     "text": [
      "\u001b[38;20m2023-05-01 23:17:22,487 - prepare_db.py - INFO - db (prepare_db.py:37)\u001b[0m\n",
      "2023-05-01 23:17:22,487 main db\n"
     ]
    },
    {
     "name": "stdout",
     "output_type": "stream",
     "text": [
      "Initializing the database.. done\n"
     ]
    }
   ],
   "source": [
    "from zenq.api.prepare_db import db\n",
    "m=db()\n",
    "m.main()"
   ]
  },
  {
   "cell_type": "markdown",
   "metadata": {},
   "source": [
    "# Data Preparation"
   ]
  },
  {
   "cell_type": "code",
   "execution_count": 2,
   "metadata": {},
   "outputs": [],
   "source": [
    "from zenq.datapreparation.preparation import data_prep\n",
    "prep = data_prep()"
   ]
  },
  {
   "cell_type": "code",
   "execution_count": 3,
   "metadata": {},
   "outputs": [
    {
     "data": {
      "text/html": [
       "<div>\n",
       "<style scoped>\n",
       "    .dataframe tbody tr th:only-of-type {\n",
       "        vertical-align: middle;\n",
       "    }\n",
       "\n",
       "    .dataframe tbody tr th {\n",
       "        vertical-align: top;\n",
       "    }\n",
       "\n",
       "    .dataframe thead th {\n",
       "        text-align: right;\n",
       "    }\n",
       "</style>\n",
       "<table border=\"1\" class=\"dataframe\">\n",
       "  <thead>\n",
       "    <tr style=\"text-align: right;\">\n",
       "      <th></th>\n",
       "      <th>Customer</th>\n",
       "      <th>Date</th>\n",
       "      <th>Product_weight</th>\n",
       "      <th>Product_price</th>\n",
       "      <th>Gender</th>\n",
       "      <th>Branch/Locker</th>\n",
       "      <th>Location</th>\n",
       "      <th>InvoiceId</th>\n",
       "    </tr>\n",
       "  </thead>\n",
       "  <tbody>\n",
       "    <tr>\n",
       "      <th>0</th>\n",
       "      <td>RXZ350571</td>\n",
       "      <td>2022-09-01</td>\n",
       "      <td>4.40</td>\n",
       "      <td>24200.0</td>\n",
       "      <td>M</td>\n",
       "      <td>G-Location 1</td>\n",
       "      <td>Yerevan</td>\n",
       "      <td>INV-101</td>\n",
       "    </tr>\n",
       "    <tr>\n",
       "      <th>1</th>\n",
       "      <td>ZFZ316415</td>\n",
       "      <td>2022-09-01</td>\n",
       "      <td>5.86</td>\n",
       "      <td>35160.0</td>\n",
       "      <td>M</td>\n",
       "      <td>G-Location 2</td>\n",
       "      <td>Yerevan</td>\n",
       "      <td>INV-102</td>\n",
       "    </tr>\n",
       "    <tr>\n",
       "      <th>2</th>\n",
       "      <td>KPR936365</td>\n",
       "      <td>2022-09-01</td>\n",
       "      <td>3.76</td>\n",
       "      <td>30080.0</td>\n",
       "      <td>M</td>\n",
       "      <td>G-Location 2</td>\n",
       "      <td>Yerevan</td>\n",
       "      <td>INV-103</td>\n",
       "    </tr>\n",
       "    <tr>\n",
       "      <th>3</th>\n",
       "      <td>PBI351070</td>\n",
       "      <td>2022-09-01</td>\n",
       "      <td>2.74</td>\n",
       "      <td>21920.0</td>\n",
       "      <td>F</td>\n",
       "      <td>G-Location 3</td>\n",
       "      <td>Yerevan</td>\n",
       "      <td>INV-104</td>\n",
       "    </tr>\n",
       "    <tr>\n",
       "      <th>4</th>\n",
       "      <td>RFI100548</td>\n",
       "      <td>2022-09-01</td>\n",
       "      <td>5.99</td>\n",
       "      <td>35940.0</td>\n",
       "      <td>M</td>\n",
       "      <td>G-Location 2</td>\n",
       "      <td>Yerevan</td>\n",
       "      <td>INV-105</td>\n",
       "    </tr>\n",
       "  </tbody>\n",
       "</table>\n",
       "</div>"
      ],
      "text/plain": [
       "    Customer        Date  Product_weight  Product_price Gender Branch/Locker  \\\n",
       "0  RXZ350571  2022-09-01            4.40        24200.0      M  G-Location 1   \n",
       "1  ZFZ316415  2022-09-01            5.86        35160.0      M  G-Location 2   \n",
       "2  KPR936365  2022-09-01            3.76        30080.0      M  G-Location 2   \n",
       "3  PBI351070  2022-09-01            2.74        21920.0      F  G-Location 3   \n",
       "4  RFI100548  2022-09-01            5.99        35940.0      M  G-Location 2   \n",
       "\n",
       "  Location InvoiceId  \n",
       "0  Yerevan   INV-101  \n",
       "1  Yerevan   INV-102  \n",
       "2  Yerevan   INV-103  \n",
       "3  Yerevan   INV-104  \n",
       "4  Yerevan   INV-105  "
      ]
     },
     "execution_count": 3,
     "metadata": {},
     "output_type": "execute_result"
    }
   ],
   "source": [
    "prep.read_data('globbing.csv')"
   ]
  },
  {
   "cell_type": "markdown",
   "metadata": {},
   "source": [
    "## Shape of data"
   ]
  },
  {
   "cell_type": "code",
   "execution_count": 4,
   "metadata": {},
   "outputs": [
    {
     "data": {
      "text/plain": [
       "((22000, 8),\n",
       " ['Customer',\n",
       "  'Date',\n",
       "  'Product_weight',\n",
       "  'Product_price',\n",
       "  'Gender',\n",
       "  'Branch/Locker',\n",
       "  'Location',\n",
       "  'InvoiceId'])"
      ]
     },
     "execution_count": 4,
     "metadata": {},
     "output_type": "execute_result"
    }
   ],
   "source": [
    "prep.shape()"
   ]
  },
  {
   "cell_type": "markdown",
   "metadata": {},
   "source": [
    "## Info of data"
   ]
  },
  {
   "cell_type": "code",
   "execution_count": 5,
   "metadata": {},
   "outputs": [
    {
     "name": "stdout",
     "output_type": "stream",
     "text": [
      "<class 'pandas.core.frame.DataFrame'>\n",
      "RangeIndex: 22000 entries, 0 to 21999\n",
      "Data columns (total 8 columns):\n",
      " #   Column          Non-Null Count  Dtype  \n",
      "---  ------          --------------  -----  \n",
      " 0   Customer        22000 non-null  object \n",
      " 1   Date            22000 non-null  object \n",
      " 2   Product_weight  22000 non-null  float64\n",
      " 3   Product_price   22000 non-null  float64\n",
      " 4   Gender          22000 non-null  object \n",
      " 5   Branch/Locker   22000 non-null  object \n",
      " 6   Location        22000 non-null  object \n",
      " 7   InvoiceId       22000 non-null  object \n",
      "dtypes: float64(2), object(6)\n",
      "memory usage: 1.3+ MB\n"
     ]
    }
   ],
   "source": [
    "prep.info()"
   ]
  },
  {
   "cell_type": "markdown",
   "metadata": {},
   "source": [
    "## Number of duplicates"
   ]
  },
  {
   "cell_type": "code",
   "execution_count": 6,
   "metadata": {},
   "outputs": [
    {
     "data": {
      "text/plain": [
       "0"
      ]
     },
     "execution_count": 6,
     "metadata": {},
     "output_type": "execute_result"
    }
   ],
   "source": [
    "prep.num_of_duplicate()"
   ]
  },
  {
   "cell_type": "markdown",
   "metadata": {},
   "source": [
    "## Number of null values"
   ]
  },
  {
   "cell_type": "code",
   "execution_count": 7,
   "metadata": {},
   "outputs": [
    {
     "data": {
      "text/plain": [
       "Customer          0\n",
       "Date              0\n",
       "Product_weight    0\n",
       "Product_price     0\n",
       "Gender            0\n",
       "Branch/Locker     0\n",
       "Location          0\n",
       "InvoiceId         0\n",
       "dtype: int64"
      ]
     },
     "execution_count": 7,
     "metadata": {},
     "output_type": "execute_result"
    }
   ],
   "source": [
    "prep.num_of_null()"
   ]
  },
  {
   "cell_type": "markdown",
   "metadata": {},
   "source": [
    "## Number of unique values in specified column"
   ]
  },
  {
   "cell_type": "code",
   "execution_count": 8,
   "metadata": {},
   "outputs": [
    {
     "name": "stderr",
     "output_type": "stream",
     "text": [
      "\u001b[31;20m2023-05-01 23:11:41,385 - preparation.py - ERROR - num_of_unique_in_column (preparation.py:52)\u001b[0m\n",
      "2023-05-01 23:11:41,385 num_of_unique_in_column num_of_unique_in_column\n"
     ]
    },
    {
     "data": {
      "text/plain": [
       "2"
      ]
     },
     "execution_count": 8,
     "metadata": {},
     "output_type": "execute_result"
    }
   ],
   "source": [
    "prep.num_of_unique_in_column('Gender')\n"
   ]
  },
  {
   "cell_type": "markdown",
   "metadata": {},
   "source": [
    "## Final Data"
   ]
  },
  {
   "cell_type": "code",
   "execution_count": 9,
   "metadata": {},
   "outputs": [
    {
     "name": "stderr",
     "output_type": "stream",
     "text": [
      "2023-05-01 23:11:49,039 _init_num_threads NumExpr defaulting to 8 threads.\n",
      "\u001b[31;20m2023-05-01 23:11:49,047 - preparation.py - ERROR - final_data (preparation.py:65)\u001b[0m\n",
      "2023-05-01 23:11:49,047 final_data final_data\n",
      "\u001b[33;20m2023-05-01 23:11:49,049 - preparation.py - WARNING - final_data (preparation.py:66)\u001b[0m\n",
      "2023-05-01 23:11:49,049 final_data final_data\n"
     ]
    },
    {
     "data": {
      "text/html": [
       "<div>\n",
       "<style scoped>\n",
       "    .dataframe tbody tr th:only-of-type {\n",
       "        vertical-align: middle;\n",
       "    }\n",
       "\n",
       "    .dataframe tbody tr th {\n",
       "        vertical-align: top;\n",
       "    }\n",
       "\n",
       "    .dataframe thead th {\n",
       "        text-align: right;\n",
       "    }\n",
       "</style>\n",
       "<table border=\"1\" class=\"dataframe\">\n",
       "  <thead>\n",
       "    <tr style=\"text-align: right;\">\n",
       "      <th></th>\n",
       "      <th>Customer</th>\n",
       "      <th>Date</th>\n",
       "      <th>Product_weight</th>\n",
       "      <th>Product_price</th>\n",
       "      <th>Gender</th>\n",
       "      <th>Branch/Locker</th>\n",
       "      <th>Location</th>\n",
       "      <th>InvoiceId</th>\n",
       "    </tr>\n",
       "  </thead>\n",
       "  <tbody>\n",
       "    <tr>\n",
       "      <th>0</th>\n",
       "      <td>RXZ350571</td>\n",
       "      <td>2022-09-01</td>\n",
       "      <td>4.40</td>\n",
       "      <td>24200.0</td>\n",
       "      <td>M</td>\n",
       "      <td>G-Location 1</td>\n",
       "      <td>Yerevan</td>\n",
       "      <td>INV-101</td>\n",
       "    </tr>\n",
       "    <tr>\n",
       "      <th>1</th>\n",
       "      <td>ZFZ316415</td>\n",
       "      <td>2022-09-01</td>\n",
       "      <td>5.86</td>\n",
       "      <td>35160.0</td>\n",
       "      <td>M</td>\n",
       "      <td>G-Location 2</td>\n",
       "      <td>Yerevan</td>\n",
       "      <td>INV-102</td>\n",
       "    </tr>\n",
       "    <tr>\n",
       "      <th>2</th>\n",
       "      <td>KPR936365</td>\n",
       "      <td>2022-09-01</td>\n",
       "      <td>3.76</td>\n",
       "      <td>30080.0</td>\n",
       "      <td>M</td>\n",
       "      <td>G-Location 2</td>\n",
       "      <td>Yerevan</td>\n",
       "      <td>INV-103</td>\n",
       "    </tr>\n",
       "    <tr>\n",
       "      <th>3</th>\n",
       "      <td>PBI351070</td>\n",
       "      <td>2022-09-01</td>\n",
       "      <td>2.74</td>\n",
       "      <td>21920.0</td>\n",
       "      <td>F</td>\n",
       "      <td>G-Location 3</td>\n",
       "      <td>Yerevan</td>\n",
       "      <td>INV-104</td>\n",
       "    </tr>\n",
       "    <tr>\n",
       "      <th>4</th>\n",
       "      <td>RFI100548</td>\n",
       "      <td>2022-09-01</td>\n",
       "      <td>5.99</td>\n",
       "      <td>35940.0</td>\n",
       "      <td>M</td>\n",
       "      <td>G-Location 2</td>\n",
       "      <td>Yerevan</td>\n",
       "      <td>INV-105</td>\n",
       "    </tr>\n",
       "    <tr>\n",
       "      <th>...</th>\n",
       "      <td>...</td>\n",
       "      <td>...</td>\n",
       "      <td>...</td>\n",
       "      <td>...</td>\n",
       "      <td>...</td>\n",
       "      <td>...</td>\n",
       "      <td>...</td>\n",
       "      <td>...</td>\n",
       "    </tr>\n",
       "    <tr>\n",
       "      <th>21995</th>\n",
       "      <td>QAC630422</td>\n",
       "      <td>2023-04-08</td>\n",
       "      <td>4.09</td>\n",
       "      <td>22495.0</td>\n",
       "      <td>F</td>\n",
       "      <td>G-Location 5</td>\n",
       "      <td>Yerevan</td>\n",
       "      <td>INV-22096</td>\n",
       "    </tr>\n",
       "    <tr>\n",
       "      <th>21996</th>\n",
       "      <td>MUN988629</td>\n",
       "      <td>2023-04-08</td>\n",
       "      <td>4.34</td>\n",
       "      <td>26040.0</td>\n",
       "      <td>F</td>\n",
       "      <td>G-Location 5</td>\n",
       "      <td>Yerevan</td>\n",
       "      <td>INV-22097</td>\n",
       "    </tr>\n",
       "    <tr>\n",
       "      <th>21997</th>\n",
       "      <td>QRO989642</td>\n",
       "      <td>2023-04-08</td>\n",
       "      <td>5.16</td>\n",
       "      <td>10320.0</td>\n",
       "      <td>M</td>\n",
       "      <td>G-Location 2</td>\n",
       "      <td>Yerevan</td>\n",
       "      <td>INV-22098</td>\n",
       "    </tr>\n",
       "    <tr>\n",
       "      <th>21998</th>\n",
       "      <td>NTW716871</td>\n",
       "      <td>2023-04-08</td>\n",
       "      <td>1.39</td>\n",
       "      <td>8340.0</td>\n",
       "      <td>F</td>\n",
       "      <td>G-Location 1</td>\n",
       "      <td>Yerevan</td>\n",
       "      <td>INV-22099</td>\n",
       "    </tr>\n",
       "    <tr>\n",
       "      <th>21999</th>\n",
       "      <td>FYN433456</td>\n",
       "      <td>2023-04-08</td>\n",
       "      <td>1.93</td>\n",
       "      <td>10615.0</td>\n",
       "      <td>F</td>\n",
       "      <td>G-Location 3</td>\n",
       "      <td>Yerevan</td>\n",
       "      <td>INV-22100</td>\n",
       "    </tr>\n",
       "  </tbody>\n",
       "</table>\n",
       "<p>22000 rows × 8 columns</p>\n",
       "</div>"
      ],
      "text/plain": [
       "        Customer        Date  Product_weight  Product_price Gender  \\\n",
       "0      RXZ350571  2022-09-01            4.40        24200.0      M   \n",
       "1      ZFZ316415  2022-09-01            5.86        35160.0      M   \n",
       "2      KPR936365  2022-09-01            3.76        30080.0      M   \n",
       "3      PBI351070  2022-09-01            2.74        21920.0      F   \n",
       "4      RFI100548  2022-09-01            5.99        35940.0      M   \n",
       "...          ...         ...             ...            ...    ...   \n",
       "21995  QAC630422  2023-04-08            4.09        22495.0      F   \n",
       "21996  MUN988629  2023-04-08            4.34        26040.0      F   \n",
       "21997  QRO989642  2023-04-08            5.16        10320.0      M   \n",
       "21998  NTW716871  2023-04-08            1.39         8340.0      F   \n",
       "21999  FYN433456  2023-04-08            1.93        10615.0      F   \n",
       "\n",
       "      Branch/Locker Location  InvoiceId  \n",
       "0      G-Location 1  Yerevan    INV-101  \n",
       "1      G-Location 2  Yerevan    INV-102  \n",
       "2      G-Location 2  Yerevan    INV-103  \n",
       "3      G-Location 3  Yerevan    INV-104  \n",
       "4      G-Location 2  Yerevan    INV-105  \n",
       "...             ...      ...        ...  \n",
       "21995  G-Location 5  Yerevan  INV-22096  \n",
       "21996  G-Location 5  Yerevan  INV-22097  \n",
       "21997  G-Location 2  Yerevan  INV-22098  \n",
       "21998  G-Location 1  Yerevan  INV-22099  \n",
       "21999  G-Location 3  Yerevan  INV-22100  \n",
       "\n",
       "[22000 rows x 8 columns]"
      ]
     },
     "execution_count": 9,
     "metadata": {},
     "output_type": "execute_result"
    }
   ],
   "source": [
    "prep.final_data()"
   ]
  },
  {
   "cell_type": "markdown",
   "metadata": {},
   "source": [
    "# Insert Facts into database"
   ]
  },
  {
   "cell_type": "code",
   "execution_count": 5,
   "metadata": {},
   "outputs": [
    {
     "name": "stderr",
     "output_type": "stream",
     "text": [
      "\u001b[31;20m2023-05-01 23:21:55,323 - preparation.py - ERROR - final_data (preparation.py:65)\u001b[0m\n",
      "2023-05-01 23:21:55,323 final_data final_data\n",
      "\u001b[33;20m2023-05-01 23:21:55,325 - preparation.py - WARNING - final_data (preparation.py:66)\u001b[0m\n",
      "2023-05-01 23:21:55,325 final_data final_data\n"
     ]
    },
    {
     "name": "stdout",
     "output_type": "stream",
     "text": [
      "Inserting facts for Customer from file csv\n"
     ]
    },
    {
     "name": "stderr",
     "output_type": "stream",
     "text": [
      "\u001b[31;20m2023-05-01 23:23:09,849 - endpoints.py - ERROR - insert_facts (endpoints.py:76)\u001b[0m\n",
      "2023-05-01 23:23:09,849 insert_facts insert_facts\n",
      "\u001b[33;20m2023-05-01 23:23:09,851 - endpoints.py - WARNING - insert_facts (endpoints.py:77)\u001b[0m\n",
      "2023-05-01 23:23:09,851 insert_facts insert_facts\n",
      "\u001b[38;20m2023-05-01 23:23:09,852 - endpoints.py - INFO - insert_facts (endpoints.py:78)\u001b[0m\n",
      "2023-05-01 23:23:09,852 insert_facts insert_facts\n"
     ]
    },
    {
     "name": "stdout",
     "output_type": "stream",
     "text": [
      "Finished inserting facts\n"
     ]
    }
   ],
   "source": [
    "from zenq.api.endpoints import insert_facts\n",
    "insert_facts('globbing.csv', 'Customer', 'Gender', 'InvoiceId', 'Date', 'Product_weight', 'Product_weight')"
   ]
  },
  {
   "cell_type": "markdown",
   "metadata": {},
   "source": [
    "# Define the Model and input data in result schema of database"
   ]
  },
  {
   "cell_type": "code",
   "execution_count": 6,
   "metadata": {},
   "outputs": [],
   "source": [
    "from zenq.clvmodels.pareto import Model\n",
    "model = Model()"
   ]
  },
  {
   "cell_type": "markdown",
   "metadata": {},
   "source": [
    "## Compute key metrics for CLV"
   ]
  },
  {
   "cell_type": "code",
   "execution_count": 7,
   "metadata": {},
   "outputs": [
    {
     "name": "stderr",
     "output_type": "stream",
     "text": [
      "\u001b[38;20m2023-05-01 23:29:11,303 - pareto.py - INFO - cltv_df (pareto.py:61)\u001b[0m\n",
      "2023-05-01 23:29:11,303 cltv_df cltv_df\n"
     ]
    },
    {
     "data": {
      "text/html": [
       "<div>\n",
       "<style scoped>\n",
       "    .dataframe tbody tr th:only-of-type {\n",
       "        vertical-align: middle;\n",
       "    }\n",
       "\n",
       "    .dataframe tbody tr th {\n",
       "        vertical-align: top;\n",
       "    }\n",
       "\n",
       "    .dataframe thead th {\n",
       "        text-align: right;\n",
       "    }\n",
       "</style>\n",
       "<table border=\"1\" class=\"dataframe\">\n",
       "  <thead>\n",
       "    <tr style=\"text-align: right;\">\n",
       "      <th></th>\n",
       "      <th>customer_id</th>\n",
       "      <th>min_date</th>\n",
       "      <th>recency</th>\n",
       "      <th>T</th>\n",
       "      <th>frequency</th>\n",
       "      <th>monetary</th>\n",
       "    </tr>\n",
       "  </thead>\n",
       "  <tbody>\n",
       "    <tr>\n",
       "      <th>0</th>\n",
       "      <td>KVO444312</td>\n",
       "      <td>2022-09-13</td>\n",
       "      <td>163</td>\n",
       "      <td>230</td>\n",
       "      <td>14</td>\n",
       "      <td>62.43</td>\n",
       "    </tr>\n",
       "    <tr>\n",
       "      <th>1</th>\n",
       "      <td>VBV804469</td>\n",
       "      <td>2022-09-04</td>\n",
       "      <td>200</td>\n",
       "      <td>239</td>\n",
       "      <td>14</td>\n",
       "      <td>58.16</td>\n",
       "    </tr>\n",
       "    <tr>\n",
       "      <th>2</th>\n",
       "      <td>BAE240832</td>\n",
       "      <td>2022-09-13</td>\n",
       "      <td>196</td>\n",
       "      <td>230</td>\n",
       "      <td>3</td>\n",
       "      <td>8.97</td>\n",
       "    </tr>\n",
       "    <tr>\n",
       "      <th>3</th>\n",
       "      <td>AOK457989</td>\n",
       "      <td>2022-09-14</td>\n",
       "      <td>189</td>\n",
       "      <td>229</td>\n",
       "      <td>5</td>\n",
       "      <td>25.09</td>\n",
       "    </tr>\n",
       "    <tr>\n",
       "      <th>4</th>\n",
       "      <td>XZF813575</td>\n",
       "      <td>2022-09-05</td>\n",
       "      <td>179</td>\n",
       "      <td>238</td>\n",
       "      <td>11</td>\n",
       "      <td>42.98</td>\n",
       "    </tr>\n",
       "    <tr>\n",
       "      <th>...</th>\n",
       "      <td>...</td>\n",
       "      <td>...</td>\n",
       "      <td>...</td>\n",
       "      <td>...</td>\n",
       "      <td>...</td>\n",
       "      <td>...</td>\n",
       "    </tr>\n",
       "    <tr>\n",
       "      <th>1956</th>\n",
       "      <td>DXT747575</td>\n",
       "      <td>2022-09-12</td>\n",
       "      <td>206</td>\n",
       "      <td>231</td>\n",
       "      <td>7</td>\n",
       "      <td>28.18</td>\n",
       "    </tr>\n",
       "    <tr>\n",
       "      <th>1957</th>\n",
       "      <td>VOZ592840</td>\n",
       "      <td>2023-01-14</td>\n",
       "      <td>52</td>\n",
       "      <td>107</td>\n",
       "      <td>2</td>\n",
       "      <td>9.99</td>\n",
       "    </tr>\n",
       "    <tr>\n",
       "      <th>1958</th>\n",
       "      <td>ZCQ782298</td>\n",
       "      <td>2022-09-13</td>\n",
       "      <td>207</td>\n",
       "      <td>230</td>\n",
       "      <td>20</td>\n",
       "      <td>79.30</td>\n",
       "    </tr>\n",
       "    <tr>\n",
       "      <th>1959</th>\n",
       "      <td>YNW866090</td>\n",
       "      <td>2022-09-02</td>\n",
       "      <td>143</td>\n",
       "      <td>241</td>\n",
       "      <td>11</td>\n",
       "      <td>47.75</td>\n",
       "    </tr>\n",
       "    <tr>\n",
       "      <th>1960</th>\n",
       "      <td>IFC198488</td>\n",
       "      <td>2022-09-17</td>\n",
       "      <td>189</td>\n",
       "      <td>226</td>\n",
       "      <td>6</td>\n",
       "      <td>32.53</td>\n",
       "    </tr>\n",
       "  </tbody>\n",
       "</table>\n",
       "<p>1960 rows × 6 columns</p>\n",
       "</div>"
      ],
      "text/plain": [
       "     customer_id   min_date  recency    T  frequency  monetary\n",
       "0      KVO444312 2022-09-13      163  230         14     62.43\n",
       "1      VBV804469 2022-09-04      200  239         14     58.16\n",
       "2      BAE240832 2022-09-13      196  230          3      8.97\n",
       "3      AOK457989 2022-09-14      189  229          5     25.09\n",
       "4      XZF813575 2022-09-05      179  238         11     42.98\n",
       "...          ...        ...      ...  ...        ...       ...\n",
       "1956   DXT747575 2022-09-12      206  231          7     28.18\n",
       "1957   VOZ592840 2023-01-14       52  107          2      9.99\n",
       "1958   ZCQ782298 2022-09-13      207  230         20     79.30\n",
       "1959   YNW866090 2022-09-02      143  241         11     47.75\n",
       "1960   IFC198488 2022-09-17      189  226          6     32.53\n",
       "\n",
       "[1960 rows x 6 columns]"
      ]
     },
     "execution_count": 7,
     "metadata": {},
     "output_type": "execute_result"
    }
   ],
   "source": [
    "cltv = model.cltv_df()\n",
    "cltv"
   ]
  },
  {
   "cell_type": "markdown",
   "metadata": {},
   "source": [
    "## Categorization of customers based on RFM scores"
   ]
  },
  {
   "cell_type": "code",
   "execution_count": 8,
   "metadata": {},
   "outputs": [
    {
     "name": "stderr",
     "output_type": "stream",
     "text": [
      "\u001b[38;20m2023-05-01 23:29:12,696 - pareto.py - INFO - cltv_df (pareto.py:61)\u001b[0m\n",
      "2023-05-01 23:29:12,696 cltv_df cltv_df\n",
      "\u001b[38;20m2023-05-01 23:29:12,865 - pareto.py - INFO - rfm_score (pareto.py:87)\u001b[0m\n",
      "2023-05-01 23:29:12,865 rfm_score rfm_score\n"
     ]
    },
    {
     "data": {
      "text/html": [
       "<div>\n",
       "<style scoped>\n",
       "    .dataframe tbody tr th:only-of-type {\n",
       "        vertical-align: middle;\n",
       "    }\n",
       "\n",
       "    .dataframe tbody tr th {\n",
       "        vertical-align: top;\n",
       "    }\n",
       "\n",
       "    .dataframe thead th {\n",
       "        text-align: right;\n",
       "    }\n",
       "</style>\n",
       "<table border=\"1\" class=\"dataframe\">\n",
       "  <thead>\n",
       "    <tr style=\"text-align: right;\">\n",
       "      <th></th>\n",
       "      <th>customer_id</th>\n",
       "      <th>recency_score</th>\n",
       "      <th>frequency_score</th>\n",
       "      <th>monetary_score</th>\n",
       "      <th>RFM_SCORE</th>\n",
       "      <th>segment</th>\n",
       "    </tr>\n",
       "  </thead>\n",
       "  <tbody>\n",
       "    <tr>\n",
       "      <th>0</th>\n",
       "      <td>KVO444312</td>\n",
       "      <td>4</td>\n",
       "      <td>4</td>\n",
       "      <td>4</td>\n",
       "      <td>44</td>\n",
       "      <td>LOYAL CUSTOMER</td>\n",
       "    </tr>\n",
       "    <tr>\n",
       "      <th>1</th>\n",
       "      <td>VBV804469</td>\n",
       "      <td>2</td>\n",
       "      <td>4</td>\n",
       "      <td>4</td>\n",
       "      <td>24</td>\n",
       "      <td>AT RISK</td>\n",
       "    </tr>\n",
       "    <tr>\n",
       "      <th>2</th>\n",
       "      <td>BAE240832</td>\n",
       "      <td>2</td>\n",
       "      <td>1</td>\n",
       "      <td>1</td>\n",
       "      <td>21</td>\n",
       "      <td>HIBERNATING</td>\n",
       "    </tr>\n",
       "    <tr>\n",
       "      <th>3</th>\n",
       "      <td>AOK457989</td>\n",
       "      <td>3</td>\n",
       "      <td>1</td>\n",
       "      <td>2</td>\n",
       "      <td>31</td>\n",
       "      <td>ABOUT TO SLEEP</td>\n",
       "    </tr>\n",
       "    <tr>\n",
       "      <th>4</th>\n",
       "      <td>XZF813575</td>\n",
       "      <td>3</td>\n",
       "      <td>3</td>\n",
       "      <td>3</td>\n",
       "      <td>33</td>\n",
       "      <td>NEED ATTENTION</td>\n",
       "    </tr>\n",
       "    <tr>\n",
       "      <th>...</th>\n",
       "      <td>...</td>\n",
       "      <td>...</td>\n",
       "      <td>...</td>\n",
       "      <td>...</td>\n",
       "      <td>...</td>\n",
       "      <td>...</td>\n",
       "    </tr>\n",
       "    <tr>\n",
       "      <th>1956</th>\n",
       "      <td>DXT747575</td>\n",
       "      <td>1</td>\n",
       "      <td>2</td>\n",
       "      <td>2</td>\n",
       "      <td>12</td>\n",
       "      <td>HIBERNATING</td>\n",
       "    </tr>\n",
       "    <tr>\n",
       "      <th>1957</th>\n",
       "      <td>VOZ592840</td>\n",
       "      <td>5</td>\n",
       "      <td>1</td>\n",
       "      <td>1</td>\n",
       "      <td>51</td>\n",
       "      <td>NEW CUSTOMERS</td>\n",
       "    </tr>\n",
       "    <tr>\n",
       "      <th>1958</th>\n",
       "      <td>ZCQ782298</td>\n",
       "      <td>1</td>\n",
       "      <td>5</td>\n",
       "      <td>5</td>\n",
       "      <td>15</td>\n",
       "      <td>CANT LOSE</td>\n",
       "    </tr>\n",
       "    <tr>\n",
       "      <th>1959</th>\n",
       "      <td>YNW866090</td>\n",
       "      <td>4</td>\n",
       "      <td>3</td>\n",
       "      <td>3</td>\n",
       "      <td>43</td>\n",
       "      <td>POTENTIAL LOYALIST</td>\n",
       "    </tr>\n",
       "    <tr>\n",
       "      <th>1960</th>\n",
       "      <td>IFC198488</td>\n",
       "      <td>3</td>\n",
       "      <td>2</td>\n",
       "      <td>2</td>\n",
       "      <td>32</td>\n",
       "      <td>ABOUT TO SLEEP</td>\n",
       "    </tr>\n",
       "  </tbody>\n",
       "</table>\n",
       "<p>1960 rows × 6 columns</p>\n",
       "</div>"
      ],
      "text/plain": [
       "     customer_id recency_score frequency_score monetary_score RFM_SCORE  \\\n",
       "0      KVO444312             4               4              4        44   \n",
       "1      VBV804469             2               4              4        24   \n",
       "2      BAE240832             2               1              1        21   \n",
       "3      AOK457989             3               1              2        31   \n",
       "4      XZF813575             3               3              3        33   \n",
       "...          ...           ...             ...            ...       ...   \n",
       "1956   DXT747575             1               2              2        12   \n",
       "1957   VOZ592840             5               1              1        51   \n",
       "1958   ZCQ782298             1               5              5        15   \n",
       "1959   YNW866090             4               3              3        43   \n",
       "1960   IFC198488             3               2              2        32   \n",
       "\n",
       "                 segment  \n",
       "0         LOYAL CUSTOMER  \n",
       "1                AT RISK  \n",
       "2            HIBERNATING  \n",
       "3         ABOUT TO SLEEP  \n",
       "4         NEED ATTENTION  \n",
       "...                  ...  \n",
       "1956         HIBERNATING  \n",
       "1957       NEW CUSTOMERS  \n",
       "1958           CANT LOSE  \n",
       "1959  POTENTIAL LOYALIST  \n",
       "1960      ABOUT TO SLEEP  \n",
       "\n",
       "[1960 rows x 6 columns]"
      ]
     },
     "execution_count": 8,
     "metadata": {},
     "output_type": "execute_result"
    }
   ],
   "source": [
    "rfm = model.rfm_score()\n",
    "rfm"
   ]
  },
  {
   "cell_type": "markdown",
   "metadata": {},
   "source": [
    "## Fit into Pareto model"
   ]
  },
  {
   "cell_type": "code",
   "execution_count": 9,
   "metadata": {},
   "outputs": [
    {
     "name": "stderr",
     "output_type": "stream",
     "text": [
      "\u001b[38;20m2023-05-01 23:29:14,001 - pareto.py - INFO - cltv_df (pareto.py:61)\u001b[0m\n",
      "2023-05-01 23:29:14,001 cltv_df cltv_df\n",
      "/opt/anaconda3/lib/python3.8/site-packages/scipy/special/_logsumexp.py:108: RuntimeWarning: overflow encountered in exp\n",
      "  tmp = b * np.exp(a - a_max)\n"
     ]
    },
    {
     "data": {
      "text/plain": [
       "<lifetimes.ParetoNBDFitter: fitted with 1960 subjects, alpha: 132.27, beta: 358913.71, r: 7.18, s: 368.55>"
      ]
     },
     "execution_count": 9,
     "metadata": {},
     "output_type": "execute_result"
    }
   ],
   "source": [
    "fit = model.fit_paretonbd()\n",
    "fit"
   ]
  },
  {
   "cell_type": "markdown",
   "metadata": {},
   "source": [
    "## Model parameters"
   ]
  },
  {
   "cell_type": "code",
   "execution_count": 10,
   "metadata": {},
   "outputs": [
    {
     "name": "stderr",
     "output_type": "stream",
     "text": [
      "\u001b[38;20m2023-05-01 23:29:42,746 - pareto.py - INFO - cltv_df (pareto.py:61)\u001b[0m\n",
      "2023-05-01 23:29:42,746 cltv_df cltv_df\n",
      "/opt/anaconda3/lib/python3.8/site-packages/scipy/special/_logsumexp.py:108: RuntimeWarning: overflow encountered in exp\n",
      "  tmp = b * np.exp(a - a_max)\n",
      "\u001b[38;20m2023-05-01 23:30:13,401 - pareto.py - INFO - model_params (pareto.py:114)\u001b[0m\n",
      "2023-05-01 23:30:13,401 model_params model_params\n",
      "\u001b[31;20m2023-05-01 23:30:13,402 - pareto.py - ERROR - model_params (pareto.py:115)\u001b[0m\n",
      "2023-05-01 23:30:13,402 model_params model_params\n"
     ]
    },
    {
     "data": {
      "text/html": [
       "<div>\n",
       "<style scoped>\n",
       "    .dataframe tbody tr th:only-of-type {\n",
       "        vertical-align: middle;\n",
       "    }\n",
       "\n",
       "    .dataframe tbody tr th {\n",
       "        vertical-align: top;\n",
       "    }\n",
       "\n",
       "    .dataframe thead th {\n",
       "        text-align: right;\n",
       "    }\n",
       "</style>\n",
       "<table border=\"1\" class=\"dataframe\">\n",
       "  <thead>\n",
       "    <tr style=\"text-align: right;\">\n",
       "      <th></th>\n",
       "      <th>r</th>\n",
       "      <th>alpha</th>\n",
       "      <th>s</th>\n",
       "      <th>beta</th>\n",
       "    </tr>\n",
       "  </thead>\n",
       "  <tbody>\n",
       "    <tr>\n",
       "      <th>0</th>\n",
       "      <td>7.176777</td>\n",
       "      <td>132.26635</td>\n",
       "      <td>368.556772</td>\n",
       "      <td>358917.400665</td>\n",
       "    </tr>\n",
       "  </tbody>\n",
       "</table>\n",
       "</div>"
      ],
      "text/plain": [
       "          r      alpha           s           beta\n",
       "0  7.176777  132.26635  368.556772  358917.400665"
      ]
     },
     "execution_count": 10,
     "metadata": {},
     "output_type": "execute_result"
    }
   ],
   "source": [
    "parameters = model.model_params()\n",
    "parameters"
   ]
  },
  {
   "cell_type": "markdown",
   "metadata": {},
   "source": [
    "## Predictions for 30,90,180,360 days"
   ]
  },
  {
   "cell_type": "code",
   "execution_count": 11,
   "metadata": {},
   "outputs": [
    {
     "name": "stderr",
     "output_type": "stream",
     "text": [
      "\u001b[38;20m2023-05-01 23:30:13,594 - pareto.py - INFO - cltv_df (pareto.py:61)\u001b[0m\n",
      "2023-05-01 23:30:13,594 cltv_df cltv_df\n",
      "/opt/anaconda3/lib/python3.8/site-packages/scipy/special/_logsumexp.py:108: RuntimeWarning: overflow encountered in exp\n",
      "  tmp = b * np.exp(a - a_max)\n",
      "\u001b[38;20m2023-05-01 23:30:35,232 - pareto.py - INFO - cltv_df (pareto.py:61)\u001b[0m\n",
      "2023-05-01 23:30:35,232 cltv_df cltv_df\n",
      "\u001b[38;20m2023-05-01 23:30:35,725 - pareto.py - INFO - predict_paretonbd (pareto.py:134)\u001b[0m\n",
      "2023-05-01 23:30:35,725 predict_paretonbd predict_paretonbd\n"
     ]
    },
    {
     "data": {
      "text/html": [
       "<div>\n",
       "<style scoped>\n",
       "    .dataframe tbody tr th:only-of-type {\n",
       "        vertical-align: middle;\n",
       "    }\n",
       "\n",
       "    .dataframe tbody tr th {\n",
       "        vertical-align: top;\n",
       "    }\n",
       "\n",
       "    .dataframe thead th {\n",
       "        text-align: right;\n",
       "    }\n",
       "</style>\n",
       "<table border=\"1\" class=\"dataframe\">\n",
       "  <thead>\n",
       "    <tr style=\"text-align: right;\">\n",
       "      <th></th>\n",
       "      <th>Customer</th>\n",
       "      <th>Expected_Purchases_30</th>\n",
       "      <th>Expected_Purchases_90</th>\n",
       "      <th>Expected_Purchases_180</th>\n",
       "      <th>Expected_Purchases_360</th>\n",
       "    </tr>\n",
       "  </thead>\n",
       "  <tbody>\n",
       "    <tr>\n",
       "      <th>0</th>\n",
       "      <td>KVO444312</td>\n",
       "      <td>0.790157</td>\n",
       "      <td>2.299339</td>\n",
       "      <td>4.395875</td>\n",
       "      <td>8.050676</td>\n",
       "    </tr>\n",
       "    <tr>\n",
       "      <th>1</th>\n",
       "      <td>VBV804469</td>\n",
       "      <td>1.449239</td>\n",
       "      <td>4.217258</td>\n",
       "      <td>8.062561</td>\n",
       "      <td>14.765936</td>\n",
       "    </tr>\n",
       "    <tr>\n",
       "      <th>2</th>\n",
       "      <td>BAE240832</td>\n",
       "      <td>0.782352</td>\n",
       "      <td>2.276628</td>\n",
       "      <td>4.352456</td>\n",
       "      <td>7.971158</td>\n",
       "    </tr>\n",
       "    <tr>\n",
       "      <th>3</th>\n",
       "      <td>AOK457989</td>\n",
       "      <td>0.911652</td>\n",
       "      <td>2.652887</td>\n",
       "      <td>5.071788</td>\n",
       "      <td>9.288553</td>\n",
       "    </tr>\n",
       "    <tr>\n",
       "      <th>4</th>\n",
       "      <td>XZF813575</td>\n",
       "      <td>1.012189</td>\n",
       "      <td>2.945450</td>\n",
       "      <td>5.631115</td>\n",
       "      <td>10.312934</td>\n",
       "    </tr>\n",
       "    <tr>\n",
       "      <th>...</th>\n",
       "      <td>...</td>\n",
       "      <td>...</td>\n",
       "      <td>...</td>\n",
       "      <td>...</td>\n",
       "      <td>...</td>\n",
       "    </tr>\n",
       "    <tr>\n",
       "      <th>1956</th>\n",
       "      <td>DXT747575</td>\n",
       "      <td>1.103535</td>\n",
       "      <td>3.211263</td>\n",
       "      <td>6.139293</td>\n",
       "      <td>11.243602</td>\n",
       "    </tr>\n",
       "    <tr>\n",
       "      <th>1957</th>\n",
       "      <td>VOZ592840</td>\n",
       "      <td>0.918896</td>\n",
       "      <td>2.673939</td>\n",
       "      <td>5.111958</td>\n",
       "      <td>9.361853</td>\n",
       "    </tr>\n",
       "    <tr>\n",
       "      <th>1958</th>\n",
       "      <td>ZCQ782298</td>\n",
       "      <td>2.079313</td>\n",
       "      <td>6.050756</td>\n",
       "      <td>11.567832</td>\n",
       "      <td>21.185514</td>\n",
       "    </tr>\n",
       "    <tr>\n",
       "      <th>1959</th>\n",
       "      <td>YNW866090</td>\n",
       "      <td>0.261000</td>\n",
       "      <td>0.759506</td>\n",
       "      <td>1.452025</td>\n",
       "      <td>2.659268</td>\n",
       "    </tr>\n",
       "    <tr>\n",
       "      <th>1960</th>\n",
       "      <td>IFC198488</td>\n",
       "      <td>1.000838</td>\n",
       "      <td>2.912416</td>\n",
       "      <td>5.567953</td>\n",
       "      <td>10.197230</td>\n",
       "    </tr>\n",
       "  </tbody>\n",
       "</table>\n",
       "<p>1960 rows × 5 columns</p>\n",
       "</div>"
      ],
      "text/plain": [
       "       Customer  Expected_Purchases_30  Expected_Purchases_90  \\\n",
       "0     KVO444312               0.790157               2.299339   \n",
       "1     VBV804469               1.449239               4.217258   \n",
       "2     BAE240832               0.782352               2.276628   \n",
       "3     AOK457989               0.911652               2.652887   \n",
       "4     XZF813575               1.012189               2.945450   \n",
       "...         ...                    ...                    ...   \n",
       "1956  DXT747575               1.103535               3.211263   \n",
       "1957  VOZ592840               0.918896               2.673939   \n",
       "1958  ZCQ782298               2.079313               6.050756   \n",
       "1959  YNW866090               0.261000               0.759506   \n",
       "1960  IFC198488               1.000838               2.912416   \n",
       "\n",
       "      Expected_Purchases_180  Expected_Purchases_360  \n",
       "0                   4.395875                8.050676  \n",
       "1                   8.062561               14.765936  \n",
       "2                   4.352456                7.971158  \n",
       "3                   5.071788                9.288553  \n",
       "4                   5.631115               10.312934  \n",
       "...                      ...                     ...  \n",
       "1956                6.139293               11.243602  \n",
       "1957                5.111958                9.361853  \n",
       "1958               11.567832               21.185514  \n",
       "1959                1.452025                2.659268  \n",
       "1960                5.567953               10.197230  \n",
       "\n",
       "[1960 rows x 5 columns]"
      ]
     },
     "execution_count": 11,
     "metadata": {},
     "output_type": "execute_result"
    }
   ],
   "source": [
    "pareto = model.predict_paretonbd()\n",
    "pareto"
   ]
  },
  {
   "cell_type": "markdown",
   "metadata": {},
   "source": [
    "## Customer aliveness"
   ]
  },
  {
   "cell_type": "code",
   "execution_count": null,
   "metadata": {},
   "outputs": [
    {
     "name": "stderr",
     "output_type": "stream",
     "text": [
      "\u001b[38;20m2023-05-01 23:30:35,910 - pareto.py - INFO - cltv_df (pareto.py:61)\u001b[0m\n",
      "2023-05-01 23:30:35,910 cltv_df cltv_df\n",
      "/opt/anaconda3/lib/python3.8/site-packages/scipy/special/_logsumexp.py:108: RuntimeWarning: overflow encountered in exp\n",
      "  tmp = b * np.exp(a - a_max)\n"
     ]
    }
   ],
   "source": [
    "alive = model.customer_is_alive()\n",
    "alive\n"
   ]
  },
  {
   "cell_type": "code",
   "execution_count": null,
   "metadata": {},
   "outputs": [],
   "source": [
    "import pandas as pd\n",
    "\n",
    "# Read the CSV file into a pandas dataframe\n",
    "df = pd.read_csv('globbing.csv')\n",
    "\n",
    "# Group the data by customer and count the number of invoices\n",
    "grouped = df.groupby('Customer').agg({'InvoiceId': 'count'})\n",
    "\n",
    "# Select only the customers with one invoice\n",
    "result = grouped[grouped['InvoiceId'] == 1]\n",
    "\n",
    "# Print the result\n",
    "print(result)\n"
   ]
  },
  {
   "cell_type": "code",
   "execution_count": null,
   "metadata": {},
   "outputs": [],
   "source": []
  },
  {
   "cell_type": "code",
   "execution_count": null,
   "metadata": {},
   "outputs": [],
   "source": []
  },
  {
   "cell_type": "code",
   "execution_count": null,
   "metadata": {},
   "outputs": [],
   "source": []
  },
  {
   "cell_type": "code",
   "execution_count": null,
   "metadata": {},
   "outputs": [],
   "source": []
  },
  {
   "cell_type": "code",
   "execution_count": null,
   "metadata": {},
   "outputs": [],
   "source": []
  },
  {
   "cell_type": "code",
   "execution_count": null,
   "metadata": {},
   "outputs": [],
   "source": []
  }
 ],
 "metadata": {
  "kernelspec": {
   "display_name": "Python 3 (ipykernel)",
   "language": "python",
   "name": "python3"
  },
  "language_info": {
   "codemirror_mode": {
    "name": "ipython",
    "version": 3
   },
   "file_extension": ".py",
   "mimetype": "text/x-python",
   "name": "python",
   "nbconvert_exporter": "python",
   "pygments_lexer": "ipython3",
   "version": "3.8.8"
  },
  "vscode": {
   "interpreter": {
    "hash": "8a5edab282632443219e051e4ade2d1d5bbc671c781051bf1437897cbdfea0f1"
   }
  }
 },
 "nbformat": 4,
 "nbformat_minor": 2
}
