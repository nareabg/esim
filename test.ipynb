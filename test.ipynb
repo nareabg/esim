{
 "cells": [
  {
   "cell_type": "code",
   "execution_count": 2,
   "metadata": {},
   "outputs": [],
   "source": [
    "from zenq.clvmodels import modeling"
   ]
  },
  {
   "cell_type": "code",
   "execution_count": 3,
   "metadata": {},
   "outputs": [],
   "source": [
    "from zenq.api import endpoints"
   ]
  },
  {
   "cell_type": "code",
   "execution_count": 4,
   "metadata": {},
   "outputs": [],
   "source": [
    "from zenq.api import prepare_db\n"
   ]
  },
  {
   "cell_type": "code",
   "execution_count": 5,
   "metadata": {},
   "outputs": [],
   "source": [
    "from zenq.visualizations import plot"
   ]
  },
  {
   "cell_type": "code",
   "execution_count": 6,
   "metadata": {},
   "outputs": [],
   "source": [
    "from zenq import utils"
   ]
  },
  {
   "cell_type": "code",
   "execution_count": 7,
   "metadata": {},
   "outputs": [
    {
     "name": "stdout",
     "output_type": "stream",
     "text": [
      "ok\n",
      "None\n"
     ]
    }
   ],
   "source": [
    "plot.PlotUtils.pu()"
   ]
  },
  {
   "cell_type": "code",
   "execution_count": 8,
   "metadata": {},
   "outputs": [
    {
     "name": "stdout",
     "output_type": "stream",
     "text": [
      "Initializing the database.. done\n"
     ]
    }
   ],
   "source": [
    "from zenq.api.prepare_db import db\n",
    "m=db()\n",
    "m.main()"
   ]
  },
  {
   "cell_type": "markdown",
   "metadata": {},
   "source": [
    "# Database"
   ]
  },
  {
   "cell_type": "markdown",
   "metadata": {},
   "source": [
    " "
   ]
  },
  {
   "cell_type": "code",
   "execution_count": 9,
   "metadata": {},
   "outputs": [],
   "source": [
    "from zenq.logger import CustomFormatter, bcolors\n",
    "import logging "
   ]
  },
  {
   "cell_type": "code",
   "execution_count": 10,
   "metadata": {
    "scrolled": true
   },
   "outputs": [
    {
     "name": "stderr",
     "output_type": "stream",
     "text": [
      "\u001b[38;20m2023-04-21 20:19:38,503 - __main__ - DEBUG - debug message (789279774.py:10)\u001b[0m\n",
      "\u001b[38;20m2023-04-21 20:19:38,505 - __main__ - INFO - \u001b[92m Warning: Email has not been sent......\u001b[92m (789279774.py:11)\u001b[0m\n",
      "\u001b[33;20m2023-04-21 20:19:38,506 - __main__ - WARNING - warning message (789279774.py:12)\u001b[0m\n",
      "\u001b[31;20m2023-04-21 20:19:38,507 - __main__ - ERROR - error message (789279774.py:13)\u001b[0m\n",
      "\u001b[31;1m2023-04-21 20:19:38,508 - __main__ - CRITICAL - critical message (789279774.py:14)\u001b[0m\n"
     ]
    },
    {
     "name": "stdout",
     "output_type": "stream",
     "text": [
      "__main__\n"
     ]
    }
   ],
   "source": [
    "import os \n",
    "print(__name__)\n",
    "logger = logging.getLogger(__name__)\n",
    "logger.setLevel(logging.DEBUG)\n",
    "ch = logging.StreamHandler()\n",
    "ch.setLevel(logging.DEBUG)\n",
    "ch.setFormatter(CustomFormatter())\n",
    "logger.addHandler(ch)\n",
    "\n",
    "logger.debug(\"debug message\")\n",
    "logger.info(f\"{bcolors.OKGREEN} Warning: Email has not been sent......{bcolors.OKGREEN}\")\n",
    "logger.warning(\"warning message\")\n",
    "logger.error(\"error message\")\n",
    "logger.critical(\"critical message\")"
   ]
  },
  {
   "cell_type": "code",
   "execution_count": 1,
   "metadata": {
    "scrolled": false
   },
   "outputs": [
    {
     "name": "stdout",
     "output_type": "stream",
     "text": [
      "Customer\n",
      "CustomerFact\n",
      "Prediction\n",
      "Facts\n",
      "--------------------------------------------------\n",
      "Customer\n",
      "CustomerFact\n",
      "Prediction\n",
      "Facts\n",
      "--------------------------------------------------\n"
     ]
    },
    {
     "data": {
      "application/vnd.jupyter.widget-view+json": {
       "model_id": "62f90c35711c45258f7fe5c0fdf29489",
       "version_major": 2,
       "version_minor": 0
      },
      "text/plain": [
       "Dropdown(description='Map to location_id', options=('Customer', 'Date', 'Product weight', 'Product price', 'Ge…"
      ]
     },
     "metadata": {},
     "output_type": "display_data"
    },
    {
     "data": {
      "application/vnd.jupyter.widget-view+json": {
       "model_id": "4c48db8581fb47f2aaaef196017e826a",
       "version_major": 2,
       "version_minor": 0
      },
      "text/plain": [
       "Dropdown(description='Map to location_name', options=('Customer', 'Date', 'Product weight', 'Product price', '…"
      ]
     },
     "metadata": {},
     "output_type": "display_data"
    },
    {
     "data": {
      "application/vnd.jupyter.widget-view+json": {
       "model_id": "c1634e01fd7c468db9b6cef86d6c6edd",
       "version_major": 2,
       "version_minor": 0
      },
      "text/plain": [
       "Dropdown(description='Map to invoice_id', options=('Customer', 'Date', 'Product weight', 'Product price', 'Gen…"
      ]
     },
     "metadata": {},
     "output_type": "display_data"
    },
    {
     "data": {
      "application/vnd.jupyter.widget-view+json": {
       "model_id": "5770a66781fe476c8c2785d041001976",
       "version_major": 2,
       "version_minor": 0
      },
      "text/plain": [
       "Dropdown(description='Map to date', options=('Customer', 'Date', 'Product weight', 'Product price', 'Gender', …"
      ]
     },
     "metadata": {},
     "output_type": "display_data"
    },
    {
     "data": {
      "application/vnd.jupyter.widget-view+json": {
       "model_id": "1a6971ff088c4495b3aefa1686855409",
       "version_major": 2,
       "version_minor": 0
      },
      "text/plain": [
       "Dropdown(description='Map to quantity', options=('Customer', 'Date', 'Product weight', 'Product price', 'Gende…"
      ]
     },
     "metadata": {},
     "output_type": "display_data"
    },
    {
     "data": {
      "application/vnd.jupyter.widget-view+json": {
       "model_id": "791bc7d98d5e46d791027d925cc3aded",
       "version_major": 2,
       "version_minor": 0
      },
      "text/plain": [
       "Dropdown(description='Map to total_price', options=('Customer', 'Date', 'Product weight', 'Product price', 'Ge…"
      ]
     },
     "metadata": {},
     "output_type": "display_data"
    },
    {
     "data": {
      "application/vnd.jupyter.widget-view+json": {
       "model_id": "ccdd601c5d31452a9d379f56e792182f",
       "version_major": 2,
       "version_minor": 0
      },
      "text/plain": [
       "Button(description='Submit', style=ButtonStyle())"
      ]
     },
     "metadata": {},
     "output_type": "display_data"
    },
    {
     "data": {
      "application/vnd.jupyter.widget-view+json": {
       "model_id": "2e39705d8f6f40cc8f81c496780c67d8",
       "version_major": 2,
       "version_minor": 0
      },
      "text/plain": [
       "Output()"
      ]
     },
     "metadata": {},
     "output_type": "display_data"
    }
   ],
   "source": [
    "from zenq.api.endpoints import points\n",
    "points_instance = points('globbing.csv')\n",
    "\n",
    "points_instance.insert_facts()\n"
   ]
  },
  {
   "cell_type": "code",
   "execution_count": null,
   "metadata": {},
   "outputs": [],
   "source": [
    " \n",
    "from zenq.api.endpoints import points \n",
    "\n",
    "# create an instance of the Points class\n",
    "points_instance = points('globbing.csv')\n",
    "\n",
    "# call the insert_customer method on the instance\n",
    "points_instance.insert_customer_name()\n",
    "\n"
   ]
  },
  {
   "cell_type": "code",
   "execution_count": 1,
   "metadata": {
    "scrolled": true
   },
   "outputs": [
    {
     "name": "stdout",
     "output_type": "stream",
     "text": [
      "Customer\n",
      "CustomerFact\n",
      "Prediction\n",
      "Facts\n",
      "--------------------------------------------------\n",
      "Customer\n",
      "CustomerFact\n",
      "Prediction\n",
      "Facts\n",
      "--------------------------------------------------\n"
     ]
    },
    {
     "data": {
      "application/vnd.jupyter.widget-view+json": {
       "model_id": "9f4b53f594ef418fae8724e89974b078",
       "version_major": 2,
       "version_minor": 0
      },
      "text/plain": [
       "Dropdown(description='Map to location_id', options=('Customer', 'Date', 'Product weight', 'Product price', 'Ge…"
      ]
     },
     "metadata": {},
     "output_type": "display_data"
    },
    {
     "data": {
      "application/vnd.jupyter.widget-view+json": {
       "model_id": "b54a94d914c34016ad2c4ea70e5ddf1e",
       "version_major": 2,
       "version_minor": 0
      },
      "text/plain": [
       "Dropdown(description='Map to location_name', options=('Customer', 'Date', 'Product weight', 'Product price', '…"
      ]
     },
     "metadata": {},
     "output_type": "display_data"
    },
    {
     "data": {
      "application/vnd.jupyter.widget-view+json": {
       "model_id": "05d0968d73ff4094bb6e1b685d1372b5",
       "version_major": 2,
       "version_minor": 0
      },
      "text/plain": [
       "Dropdown(description='Map to invoice_id', options=('Customer', 'Date', 'Product weight', 'Product price', 'Gen…"
      ]
     },
     "metadata": {},
     "output_type": "display_data"
    },
    {
     "data": {
      "application/vnd.jupyter.widget-view+json": {
       "model_id": "a460a0c72c6744ba9d5fdfe892e8f212",
       "version_major": 2,
       "version_minor": 0
      },
      "text/plain": [
       "Dropdown(description='Map to date', options=('Customer', 'Date', 'Product weight', 'Product price', 'Gender', …"
      ]
     },
     "metadata": {},
     "output_type": "display_data"
    },
    {
     "data": {
      "application/vnd.jupyter.widget-view+json": {
       "model_id": "d76d5298a55d41eab92bea1ca8037aa6",
       "version_major": 2,
       "version_minor": 0
      },
      "text/plain": [
       "Dropdown(description='Map to quantity', options=('Customer', 'Date', 'Product weight', 'Product price', 'Gende…"
      ]
     },
     "metadata": {},
     "output_type": "display_data"
    },
    {
     "data": {
      "application/vnd.jupyter.widget-view+json": {
       "model_id": "c74fafa8304a42f3bf4ae78ca0f74d9e",
       "version_major": 2,
       "version_minor": 0
      },
      "text/plain": [
       "Dropdown(description='Map to total_price', options=('Customer', 'Date', 'Product weight', 'Product price', 'Ge…"
      ]
     },
     "metadata": {},
     "output_type": "display_data"
    },
    {
     "data": {
      "application/vnd.jupyter.widget-view+json": {
       "model_id": "03a507ddb6d2421cb65b81a65de617fb",
       "version_major": 2,
       "version_minor": 0
      },
      "text/plain": [
       "Button(description='Submit', style=ButtonStyle())"
      ]
     },
     "metadata": {},
     "output_type": "display_data"
    },
    {
     "data": {
      "application/vnd.jupyter.widget-view+json": {
       "model_id": "536e2ab2eea54a0391a525af0daa7c7b",
       "version_major": 2,
       "version_minor": 0
      },
      "text/plain": [
       "Output()"
      ]
     },
     "metadata": {},
     "output_type": "display_data"
    }
   ],
   "source": [
    " \n",
    "from zenq.api.endpoints import points \n",
    "\n",
    "# create an instance of the Points class\n",
    "points_instance = points('globbing.csv')\n",
    "\n",
    "# call the insert_customer method on the instance\n",
    "points_instance.insert_facts()\n"
   ]
  },
  {
   "cell_type": "code",
   "execution_count": null,
   "metadata": {},
   "outputs": [],
   "source": []
  }
 ],
 "metadata": {
  "kernelspec": {
   "display_name": "Python 3 (ipykernel)",
   "language": "python",
   "name": "python3"
  },
  "language_info": {
   "codemirror_mode": {
    "name": "ipython",
    "version": 3
   },
   "file_extension": ".py",
   "mimetype": "text/x-python",
   "name": "python",
   "nbconvert_exporter": "python",
   "pygments_lexer": "ipython3",
   "version": "3.8.8"
  },
  "vscode": {
   "interpreter": {
    "hash": "8a5edab282632443219e051e4ade2d1d5bbc671c781051bf1437897cbdfea0f1"
   }
  }
 },
 "nbformat": 4,
 "nbformat_minor": 2
}
