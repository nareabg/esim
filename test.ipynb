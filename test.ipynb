{
 "cells": [
  {
   "cell_type": "code",
   "execution_count": 2,
   "metadata": {},
   "outputs": [],
   "source": [
    "from zenq.clvmodels import modeling"
   ]
  },
  {
   "cell_type": "code",
   "execution_count": 3,
   "metadata": {},
   "outputs": [],
   "source": [
    "from zenq.api import endpoints"
   ]
  },
  {
   "cell_type": "code",
   "execution_count": 4,
   "metadata": {},
   "outputs": [],
   "source": [
    "from zenq.api import prepare_db\n"
   ]
  },
  {
   "cell_type": "code",
   "execution_count": 5,
   "metadata": {},
   "outputs": [],
   "source": [
    "from zenq.visualizations import plot"
   ]
  },
  {
   "cell_type": "code",
   "execution_count": 6,
   "metadata": {},
   "outputs": [],
   "source": [
    "from zenq import utils"
   ]
  },
  {
   "cell_type": "code",
   "execution_count": 7,
   "metadata": {},
   "outputs": [
    {
     "name": "stdout",
     "output_type": "stream",
     "text": [
      "ok\n",
      "None\n"
     ]
    }
   ],
   "source": [
    "plot.PlotUtils.pu()"
   ]
  },
  {
   "cell_type": "code",
   "execution_count": 8,
   "metadata": {},
   "outputs": [
    {
     "name": "stdout",
     "output_type": "stream",
     "text": [
      "Initializing the database.. done\n"
     ]
    }
   ],
   "source": [
    "from zenq.api.prepare_db import db\n",
    "m=db()\n",
    "m.main()"
   ]
  },
  {
   "cell_type": "markdown",
   "metadata": {},
   "source": [
    "# Database"
   ]
  },
  {
   "cell_type": "markdown",
   "metadata": {},
   "source": [
    " "
   ]
  },
  {
   "cell_type": "code",
   "execution_count": 9,
   "metadata": {},
   "outputs": [],
   "source": [
    "from zenq.logger import CustomFormatter, bcolors\n",
    "import logging "
   ]
  },
  {
   "cell_type": "code",
   "execution_count": 10,
   "metadata": {},
   "outputs": [
    {
     "name": "stderr",
     "output_type": "stream",
     "text": [
      "\u001b[38;20m2023-04-20 19:49:08,205 - __main__ - DEBUG - debug message (789279774.py:10)\u001b[0m\n",
      "\u001b[38;20m2023-04-20 19:49:08,207 - __main__ - INFO - \u001b[92m Warning: Email has not been sent......\u001b[92m (789279774.py:11)\u001b[0m\n",
      "\u001b[33;20m2023-04-20 19:49:08,208 - __main__ - WARNING - warning message (789279774.py:12)\u001b[0m\n",
      "\u001b[31;20m2023-04-20 19:49:08,209 - __main__ - ERROR - error message (789279774.py:13)\u001b[0m\n",
      "\u001b[31;1m2023-04-20 19:49:08,210 - __main__ - CRITICAL - critical message (789279774.py:14)\u001b[0m\n"
     ]
    },
    {
     "name": "stdout",
     "output_type": "stream",
     "text": [
      "__main__\n"
     ]
    }
   ],
   "source": [
    "import os \n",
    "print(__name__)\n",
    "logger = logging.getLogger(__name__)\n",
    "logger.setLevel(logging.DEBUG)\n",
    "ch = logging.StreamHandler()\n",
    "ch.setLevel(logging.DEBUG)\n",
    "ch.setFormatter(CustomFormatter())\n",
    "logger.addHandler(ch)\n",
    "\n",
    "logger.debug(\"debug message\")\n",
    "logger.info(f\"{bcolors.OKGREEN} Warning: Email has not been sent......{bcolors.OKGREEN}\")\n",
    "logger.warning(\"warning message\")\n",
    "logger.error(\"error message\")\n",
    "logger.critical(\"critical message\")"
   ]
  },
  {
   "cell_type": "code",
   "execution_count": 3,
   "metadata": {},
   "outputs": [
    {
     "ename": "SyntaxError",
     "evalue": "invalid syntax (endpoints.py, line 289)",
     "output_type": "error",
     "traceback": [
      "Traceback \u001b[0;36m(most recent call last)\u001b[0m:\n",
      "\u001b[0m  File \u001b[1;32m/opt/anaconda3/lib/python3.8/site-packages/IPython/core/interactiveshell.py:3505\u001b[0m in \u001b[1;35mrun_code\u001b[0m\n    exec(code_obj, self.user_global_ns, self.user_ns)\u001b[0m\n",
      "\u001b[0m  Cell \u001b[1;32mIn[3], line 1\u001b[0m\n    from zenq.api.endpoints import points\u001b[0m\n",
      "\u001b[0;36m  File \u001b[0;32m~/Desktop/zenq/zenq/api/__init__.py:4\u001b[0;36m\n\u001b[0;31m    from .endpoints import points\u001b[0;36m\n",
      "\u001b[0;36m  File \u001b[0;32m~/Desktop/zenq/zenq/api/endpoints.py:289\u001b[0;36m\u001b[0m\n\u001b[0;31m    for invoice_id, count in duplicate_invoices\u001b[0m\n\u001b[0m                                               ^\u001b[0m\n\u001b[0;31mSyntaxError\u001b[0m\u001b[0;31m:\u001b[0m invalid syntax\n"
     ]
    }
   ],
   "source": [
    "from zenq.api.endpoints import points \n",
    "# create an instance of the Points class\n",
    "p=points('globbing.csv')\n",
    "p.map_columns()"
   ]
  },
  {
   "cell_type": "code",
   "execution_count": 4,
   "metadata": {
    "scrolled": false
   },
   "outputs": [
    {
     "ename": "SyntaxError",
     "evalue": "invalid syntax (endpoints.py, line 289)",
     "output_type": "error",
     "traceback": [
      "Traceback \u001b[0;36m(most recent call last)\u001b[0m:\n",
      "\u001b[0m  File \u001b[1;32m/opt/anaconda3/lib/python3.8/site-packages/IPython/core/interactiveshell.py:3505\u001b[0m in \u001b[1;35mrun_code\u001b[0m\n    exec(code_obj, self.user_global_ns, self.user_ns)\u001b[0m\n",
      "\u001b[0m  Cell \u001b[1;32mIn[4], line 1\u001b[0m\n    from zenq.api.endpoints import points\u001b[0m\n",
      "\u001b[0;36m  File \u001b[0;32m~/Desktop/zenq/zenq/api/__init__.py:4\u001b[0;36m\n\u001b[0;31m    from .endpoints import points\u001b[0;36m\n",
      "\u001b[0;36m  File \u001b[0;32m~/Desktop/zenq/zenq/api/endpoints.py:289\u001b[0;36m\u001b[0m\n\u001b[0;31m    for invoice_id, count in duplicate_invoices\u001b[0m\n\u001b[0m                                               ^\u001b[0m\n\u001b[0;31mSyntaxError\u001b[0m\u001b[0;31m:\u001b[0m invalid syntax\n"
     ]
    }
   ],
   "source": [
    "from zenq.api.endpoints import points\n",
    "points_instance = points('globbing.csv')\n",
    "column_mapping = points_instance.get_column_mapping()\n",
    "points_instance.insert_customer(column_mapping)\n"
   ]
  },
  {
   "cell_type": "code",
   "execution_count": 1,
   "metadata": {},
   "outputs": [
    {
     "name": "stdout",
     "output_type": "stream",
     "text": [
      "Customer\n",
      "CustomerFact\n",
      "Prediction\n",
      "Facts\n",
      "--------------------------------------------------\n",
      "Customer\n",
      "CustomerFact\n",
      "Prediction\n",
      "Facts\n",
      "--------------------------------------------------\n"
     ]
    },
    {
     "data": {
      "application/vnd.jupyter.widget-view+json": {
       "model_id": "01e362b45d574f2f9d6c5d6f857733b1",
       "version_major": 2,
       "version_minor": 0
      },
      "text/plain": [
       "Dropdown(description='Map to customer_id', options=('Customer', 'Date', 'Product weight', 'Product price', 'Ge…"
      ]
     },
     "metadata": {},
     "output_type": "display_data"
    },
    {
     "data": {
      "application/vnd.jupyter.widget-view+json": {
       "model_id": "74a8dbd444064a9582f40250b45fe06f",
       "version_major": 2,
       "version_minor": 0
      },
      "text/plain": [
       "Dropdown(description='Map to gender', options=('Customer', 'Date', 'Product weight', 'Product price', 'Gender'…"
      ]
     },
     "metadata": {},
     "output_type": "display_data"
    },
    {
     "data": {
      "application/vnd.jupyter.widget-view+json": {
       "model_id": "40990846e6124a5c9094c5386652f83d",
       "version_major": 2,
       "version_minor": 0
      },
      "text/plain": [
       "Button(description='Submit', style=ButtonStyle())"
      ]
     },
     "metadata": {},
     "output_type": "display_data"
    },
    {
     "data": {
      "application/vnd.jupyter.widget-view+json": {
       "model_id": "da81e0fc46a1427db1a3cc1fd9b961ea",
       "version_major": 2,
       "version_minor": 0
      },
      "text/plain": [
       "Output()"
      ]
     },
     "metadata": {},
     "output_type": "display_data"
    }
   ],
   "source": [
    " \n",
    "from zenq.api.endpoints import points \n",
    "\n",
    "# create an instance of the Points class\n",
    "points_instance = points('globbing.csv')\n",
    "\n",
    "# call the insert_customer method on the instance\n",
    "points_instance.insert_customer()\n",
    "\n"
   ]
  },
  {
   "cell_type": "code",
   "execution_count": 2,
   "metadata": {},
   "outputs": [
    {
     "data": {
      "application/vnd.jupyter.widget-view+json": {
       "model_id": "b5d663bac0954ea9969f96ff44b633b3",
       "version_major": 2,
       "version_minor": 0
      },
      "text/plain": [
       "Dropdown(description='Map to customer_id', options=('Customer', 'Date', 'Product weight', 'Product price', 'Ge…"
      ]
     },
     "metadata": {},
     "output_type": "display_data"
    },
    {
     "data": {
      "application/vnd.jupyter.widget-view+json": {
       "model_id": "16973783ef7d47a7a5beb74d2314def2",
       "version_major": 2,
       "version_minor": 0
      },
      "text/plain": [
       "Dropdown(description='Map to location_id', options=('Customer', 'Date', 'Product weight', 'Product price', 'Ge…"
      ]
     },
     "metadata": {},
     "output_type": "display_data"
    },
    {
     "data": {
      "application/vnd.jupyter.widget-view+json": {
       "model_id": "ca3e9a70d9c64cb690234c61a3b26da9",
       "version_major": 2,
       "version_minor": 0
      },
      "text/plain": [
       "Dropdown(description='Map to location_name', options=('Customer', 'Date', 'Product weight', 'Product price', '…"
      ]
     },
     "metadata": {},
     "output_type": "display_data"
    },
    {
     "data": {
      "application/vnd.jupyter.widget-view+json": {
       "model_id": "870e460794434446a2e04611d67e3449",
       "version_major": 2,
       "version_minor": 0
      },
      "text/plain": [
       "Dropdown(description='Map to invoice_id', options=('Customer', 'Date', 'Product weight', 'Product price', 'Gen…"
      ]
     },
     "metadata": {},
     "output_type": "display_data"
    },
    {
     "data": {
      "application/vnd.jupyter.widget-view+json": {
       "model_id": "0b89c4f3312e4b14a3d54722df2ccbde",
       "version_major": 2,
       "version_minor": 0
      },
      "text/plain": [
       "Dropdown(description='Map to date', options=('Customer', 'Date', 'Product weight', 'Product price', 'Gender', …"
      ]
     },
     "metadata": {},
     "output_type": "display_data"
    },
    {
     "data": {
      "application/vnd.jupyter.widget-view+json": {
       "model_id": "13074c7e00974d158b4a50c8c1064e04",
       "version_major": 2,
       "version_minor": 0
      },
      "text/plain": [
       "Dropdown(description='Map to quantity', options=('Customer', 'Date', 'Product weight', 'Product price', 'Gende…"
      ]
     },
     "metadata": {},
     "output_type": "display_data"
    },
    {
     "data": {
      "application/vnd.jupyter.widget-view+json": {
       "model_id": "4c5e23479d4548319201ca0ab79f3cca",
       "version_major": 2,
       "version_minor": 0
      },
      "text/plain": [
       "Dropdown(description='Map to total_price', options=('Customer', 'Date', 'Product weight', 'Product price', 'Ge…"
      ]
     },
     "metadata": {},
     "output_type": "display_data"
    },
    {
     "data": {
      "application/vnd.jupyter.widget-view+json": {
       "model_id": "a09e75c39f10474b842c88280b902e10",
       "version_major": 2,
       "version_minor": 0
      },
      "text/plain": [
       "Button(description='Submit', style=ButtonStyle())"
      ]
     },
     "metadata": {},
     "output_type": "display_data"
    }
   ],
   "source": [
    " \n",
    "from zenq.api.endpoints import points \n",
    "\n",
    "# create an instance of the Points class\n",
    "points_instance = points('globbing.csv')\n",
    "\n",
    "# call the insert_customer method on the instance\n",
    "points_instance.insert_facts()\n"
   ]
  },
  {
   "cell_type": "code",
   "execution_count": null,
   "metadata": {},
   "outputs": [],
   "source": []
  }
 ],
 "metadata": {
  "kernelspec": {
   "display_name": "Python 3 (ipykernel)",
   "language": "python",
   "name": "python3"
  },
  "language_info": {
   "codemirror_mode": {
    "name": "ipython",
    "version": 3
   },
   "file_extension": ".py",
   "mimetype": "text/x-python",
   "name": "python",
   "nbconvert_exporter": "python",
   "pygments_lexer": "ipython3",
   "version": "3.8.8"
  },
  "vscode": {
   "interpreter": {
    "hash": "40d3a090f54c6569ab1632332b64b2c03c39dcf918b08424e98f38b5ae0af88f"
   }
  }
 },
 "nbformat": 4,
 "nbformat_minor": 2
}
