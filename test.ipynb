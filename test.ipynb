{
 "cells": [
  {
   "cell_type": "code",
   "execution_count": 11,
   "metadata": {},
   "outputs": [],
   "source": [
    "from zenq.clvmodels import modeling"
   ]
  },
  {
   "cell_type": "code",
   "execution_count": 16,
   "metadata": {},
   "outputs": [],
   "source": [
    "from zenq.api import endpoints"
   ]
  },
  {
   "cell_type": "code",
   "execution_count": 13,
   "metadata": {},
   "outputs": [],
   "source": [
    "from zenq.api import prepare_db"
   ]
  },
  {
   "cell_type": "code",
   "execution_count": 14,
   "metadata": {},
   "outputs": [],
   "source": [
    "from zenq.visualizations import plot"
   ]
  },
  {
   "cell_type": "code",
   "execution_count": 7,
   "metadata": {},
   "outputs": [],
   "source": [
    "from zenq import utils"
   ]
  },
  {
   "cell_type": "code",
   "execution_count": 9,
   "metadata": {},
   "outputs": [
    {
     "name": "stdout",
     "output_type": "stream",
     "text": [
      "ok\n",
      "None\n"
     ]
    }
   ],
   "source": [
    "plot.PlotUtils.pu()"
   ]
  },
  {
   "cell_type": "code",
   "execution_count": 25,
   "metadata": {},
   "outputs": [
    {
     "name": "stdout",
     "output_type": "stream",
     "text": [
      "Initializing the database.. done\n"
     ]
    }
   ],
   "source": [
    "\n",
    "prepare_db.db.main()"
   ]
  },
  {
   "cell_type": "code",
   "execution_count": 63,
   "metadata": {},
   "outputs": [
    {
     "name": "stdout",
     "output_type": "stream",
     "text": [
      "        Customer        Date  Product weight  Product price Gender  \\\n",
      "0      RXZ350571  2022-09-01            4.40        24200.0      M   \n",
      "1      ZFZ316415  2022-09-01            5.86        35160.0      M   \n",
      "2      KPR936365  2022-09-01            3.76        30080.0      M   \n",
      "3      PBI351070  2022-09-01            2.74        21920.0      F   \n",
      "4      RFI100548  2022-09-01            5.99        35940.0      M   \n",
      "...          ...         ...             ...            ...    ...   \n",
      "21995  QAC630422  2023-04-08            4.09        22495.0      F   \n",
      "21996  MUN988629  2023-04-08            4.34        26040.0      F   \n",
      "21997  QRO989642  2023-04-08            5.16        10320.0      M   \n",
      "21998  NTW716871  2023-04-08            1.39         8340.0      F   \n",
      "21999  FYN433456  2023-04-08            1.93        10615.0      F   \n",
      "\n",
      "      Branch/Locker Location InvoiceId  \n",
      "0      G-Location 1  Yerevan     INV-1  \n",
      "1      G-Location 2  Yerevan     INV-2  \n",
      "2      G-Location 2  Yerevan     INV-3  \n",
      "3      G-Location 3  Yerevan     INV-4  \n",
      "4      G-Location 2  Yerevan     INV-5  \n",
      "...             ...      ...       ...  \n",
      "21995  G-Location 5  Yerevan    INV-96  \n",
      "21996  G-Location 5  Yerevan    INV-97  \n",
      "21997  G-Location 2  Yerevan    INV-98  \n",
      "21998  G-Location 1  Yerevan    INV-99  \n",
      "21999  G-Location 3  Yerevan   INV-100  \n",
      "\n",
      "[22000 rows x 8 columns]\n"
     ]
    }
   ],
   "source": [
    "from zenq.api.endpoints import points\n",
    "\n",
    "# create an instance of the points class\n",
    "p = points()\n",
    "\n",
    "# call the read_csv method on the points instance\n",
    "p.read_csv('globbing.csv')\n",
    "print(p.df)\n"
   ]
  },
  {
   "cell_type": "code",
   "execution_count": null,
   "metadata": {},
   "outputs": [],
   "source": []
  },
  {
   "cell_type": "code",
   "execution_count": 67,
   "metadata": {},
   "outputs": [
    {
     "ename": "AttributeError",
     "evalue": "'points' object has no attribute 'insert_location_name'",
     "output_type": "error",
     "traceback": [
      "\u001b[0;31m---------------------------------------------------------------------------\u001b[0m",
      "\u001b[0;31mAttributeError\u001b[0m                            Traceback (most recent call last)",
      "Cell \u001b[0;32mIn[67], line 5\u001b[0m\n\u001b[1;32m      3\u001b[0m \u001b[39m# create an instance of the Points class\u001b[39;00m\n\u001b[1;32m      4\u001b[0m p\u001b[39m=\u001b[39mpoints()\n\u001b[0;32m----> 5\u001b[0m p\u001b[39m.\u001b[39;49minsert_location_name(\u001b[39m'\u001b[39m\u001b[39mglobbing.csv\u001b[39m\u001b[39m'\u001b[39m)\n",
      "\u001b[0;31mAttributeError\u001b[0m: 'points' object has no attribute 'insert_location_name'"
     ]
    }
   ],
   "source": [
    "from zenq.api.endpoints import points\n",
    "\n",
    "# create an instance of the Points class\n",
    "p=points()\n",
    "p.insert_location_name('globbing.csv')\n",
    "\n",
    " "
   ]
  },
  {
   "cell_type": "code",
   "execution_count": 32,
   "metadata": {},
   "outputs": [],
   "source": [
    "#from zenq.api import openapi_main"
   ]
  },
  {
   "cell_type": "code",
   "execution_count": 39,
   "metadata": {},
   "outputs": [
    {
     "ename": "NameError",
     "evalue": "name 'self' is not defined",
     "output_type": "error",
     "traceback": [
      "\u001b[0;31m---------------------------------------------------------------------------\u001b[0m",
      "\u001b[0;31mNameError\u001b[0m                                 Traceback (most recent call last)",
      "Cell \u001b[0;32mIn[39], line 1\u001b[0m\n\u001b[0;32m----> 1\u001b[0m \u001b[39mprint\u001b[39m(\u001b[39mself\u001b[39;49m\u001b[39m.\u001b[39mdf\u001b[39m.\u001b[39mcolumns)\n",
      "\u001b[0;31mNameError\u001b[0m: name 'self' is not defined"
     ]
    }
   ],
   "source": [
    "print(self.df.columns)\n"
   ]
  }
 ],
 "metadata": {
  "kernelspec": {
   "display_name": "base",
   "language": "python",
   "name": "python3"
  },
  "language_info": {
   "codemirror_mode": {
    "name": "ipython",
    "version": 3
   },
   "file_extension": ".py",
   "mimetype": "text/x-python",
   "name": "python",
   "nbconvert_exporter": "python",
   "pygments_lexer": "ipython3",
   "version": "3.8.8"
  },
  "orig_nbformat": 4,
  "vscode": {
   "interpreter": {
    "hash": "40d3a090f54c6569ab1632332b64b2c03c39dcf918b08424e98f38b5ae0af88f"
   }
  }
 },
 "nbformat": 4,
 "nbformat_minor": 2
}
