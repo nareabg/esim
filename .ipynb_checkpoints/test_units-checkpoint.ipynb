{
 "cells": [
  {
   "cell_type": "code",
   "execution_count": 2,
   "metadata": {},
   "outputs": [],
   "source": [
    "#run this twice if you get error because sometimes it brings error first time but not the second time\n",
    "from zenq.clvmodels import modeling"
   ]
  },
  {
   "cell_type": "code",
   "execution_count": 1,
   "metadata": {},
   "outputs": [
    {
     "name": "stdout",
     "output_type": "stream",
     "text": [
      "Customer\n",
      "CustomerFact\n",
      "Prediction\n",
      "Facts\n",
      "--------------------------------------------------\n",
      "Customer\n",
      "CustomerFact\n",
      "Prediction\n",
      "Facts\n",
      "--------------------------------------------------\n"
     ]
    }
   ],
   "source": [
    "from zenq.api import endpoints"
   ]
  },
  {
   "cell_type": "code",
   "execution_count": 3,
   "metadata": {},
   "outputs": [],
   "source": [
    "from zenq.api import prepare_db\n"
   ]
  },
  {
   "cell_type": "code",
   "execution_count": 4,
   "metadata": {},
   "outputs": [],
   "source": [
    "from zenq.visualizations import plot"
   ]
  },
  {
   "cell_type": "code",
   "execution_count": 5,
   "metadata": {},
   "outputs": [],
   "source": [
    "from zenq import utils"
   ]
  },
  {
   "cell_type": "code",
   "execution_count": 6,
   "metadata": {},
   "outputs": [
    {
     "name": "stdout",
     "output_type": "stream",
     "text": [
      "Initializing the database.. done\n"
     ]
    }
   ],
   "source": [
    "from zenq.api.prepare_db import db\n",
    "m=db()\n",
    "m.main()"
   ]
  },
  {
   "cell_type": "code",
   "execution_count": 7,
   "metadata": {},
   "outputs": [],
   "source": [
    "from zenq.logger import CustomFormatter, bcolors\n",
    "import logging "
   ]
  },
  {
   "cell_type": "code",
   "execution_count": 8,
   "metadata": {},
   "outputs": [
    {
     "name": "stderr",
     "output_type": "stream",
     "text": [
      "\u001b[38;20m2023-04-21 23:41:17,735 - __main__ - DEBUG - debug message (789279774.py:10)\u001b[0m\n",
      "\u001b[38;20m2023-04-21 23:41:17,737 - __main__ - INFO - \u001b[92m Warning: Email has not been sent......\u001b[92m (789279774.py:11)\u001b[0m\n",
      "\u001b[33;20m2023-04-21 23:41:17,739 - __main__ - WARNING - warning message (789279774.py:12)\u001b[0m\n",
      "\u001b[31;20m2023-04-21 23:41:17,739 - __main__ - ERROR - error message (789279774.py:13)\u001b[0m\n",
      "\u001b[31;1m2023-04-21 23:41:17,740 - __main__ - CRITICAL - critical message (789279774.py:14)\u001b[0m\n"
     ]
    },
    {
     "name": "stdout",
     "output_type": "stream",
     "text": [
      "__main__\n"
     ]
    }
   ],
   "source": [
    "import os \n",
    "print(__name__)\n",
    "logger = logging.getLogger(__name__)\n",
    "logger.setLevel(logging.DEBUG)\n",
    "ch = logging.StreamHandler()\n",
    "ch.setLevel(logging.DEBUG)\n",
    "ch.setFormatter(CustomFormatter())\n",
    "logger.addHandler(ch)\n",
    "\n",
    "logger.debug(\"debug message\")\n",
    "logger.info(f\"{bcolors.OKGREEN} Warning: Email has not been sent......{bcolors.OKGREEN}\")\n",
    "logger.warning(\"warning message\")\n",
    "logger.error(\"error message\")\n",
    "logger.critical(\"critical message\")"
   ]
  },
  {
   "cell_type": "code",
   "execution_count": 9,
   "metadata": {},
   "outputs": [
    {
     "ename": "ImportError",
     "evalue": "cannot import name 'ParetoNBD_CLV_Model' from 'zenq.clvmodels.modeling' (/Users/nareabgaryan/Desktop/zenq/zenq/clvmodels/modeling.py)",
     "output_type": "error",
     "traceback": [
      "\u001b[0;31m---------------------------------------------------------------------------\u001b[0m",
      "\u001b[0;31mImportError\u001b[0m                               Traceback (most recent call last)",
      "Cell \u001b[0;32mIn[9], line 1\u001b[0m\n\u001b[0;32m----> 1\u001b[0m \u001b[38;5;28;01mfrom\u001b[39;00m \u001b[38;5;21;01mzenq\u001b[39;00m \u001b[38;5;28;01mimport\u001b[39;00m unit_test\n\u001b[1;32m      2\u001b[0m test_clv_model \u001b[38;5;241m=\u001b[39m TestCLVModel()\n\u001b[1;32m      3\u001b[0m test_runner \u001b[38;5;241m=\u001b[39m unittest\u001b[38;5;241m.\u001b[39mTextTestRunner()\n",
      "File \u001b[0;32m~/Desktop/zenq/zenq/unit_test.py:6\u001b[0m\n\u001b[1;32m      4\u001b[0m \u001b[38;5;28;01mfrom\u001b[39;00m \u001b[38;5;21;01msqlalchemy\u001b[39;00m\u001b[38;5;21;01m.\u001b[39;00m\u001b[38;5;21;01morm\u001b[39;00m \u001b[38;5;28;01mimport\u001b[39;00m sessionmaker\n\u001b[1;32m      5\u001b[0m \u001b[38;5;28;01mfrom\u001b[39;00m \u001b[38;5;21;01m.\u001b[39;00m\u001b[38;5;21;01mapi\u001b[39;00m\u001b[38;5;21;01m.\u001b[39;00m\u001b[38;5;21;01mtables\u001b[39;00m \u001b[38;5;28;01mimport\u001b[39;00m Customer, Facts, CustomerFact, Prediction\n\u001b[0;32m----> 6\u001b[0m \u001b[38;5;28;01mfrom\u001b[39;00m \u001b[38;5;21;01m.\u001b[39;00m\u001b[38;5;21;01mclvmodels\u001b[39;00m\u001b[38;5;21;01m.\u001b[39;00m\u001b[38;5;21;01mmodeling\u001b[39;00m \u001b[38;5;28;01mimport\u001b[39;00m ParetoNBD_CLV_Model\n\u001b[1;32m      8\u001b[0m \u001b[38;5;28;01mclass\u001b[39;00m \u001b[38;5;21;01mTestMLSystem\u001b[39;00m(unittest\u001b[38;5;241m.\u001b[39mTestCase):\n\u001b[1;32m     10\u001b[0m     \u001b[38;5;28;01mdef\u001b[39;00m \u001b[38;5;21msetUp\u001b[39m(\u001b[38;5;28mself\u001b[39m):\n",
      "\u001b[0;31mImportError\u001b[0m: cannot import name 'ParetoNBD_CLV_Model' from 'zenq.clvmodels.modeling' (/Users/nareabgaryan/Desktop/zenq/zenq/clvmodels/modeling.py)"
     ]
    }
   ],
   "source": [
    "from zenq import unit_test\n",
    "test_clv_model = TestCLVModel()\n",
    "test_runner = unittest.TextTestRunner()\n",
    "test_runner.run(test_clv_model)\n"
   ]
  },
  {
   "cell_type": "code",
   "execution_count": null,
   "metadata": {},
   "outputs": [],
   "source": [
    "test_get_customer: !pytest -k test_get_customer\n"
   ]
  },
  {
   "cell_type": "code",
   "execution_count": null,
   "metadata": {},
   "outputs": [],
   "source": [
    "test_get_facts: !pytest -k test_get_facts\n",
    "\n"
   ]
  },
  {
   "cell_type": "code",
   "execution_count": null,
   "metadata": {},
   "outputs": [],
   "source": [
    "test_insert_customer_name: !pytest -k test_insert_customer_name\n"
   ]
  },
  {
   "cell_type": "code",
   "execution_count": null,
   "metadata": {},
   "outputs": [],
   "source": [
    "test_insert_facts: !pytest -k test_insert_facts\n"
   ]
  },
  {
   "cell_type": "code",
   "execution_count": null,
   "metadata": {},
   "outputs": [],
   "source": [
    "test_get_customer_fact: !pytest -k test_get_customer_fact\n"
   ]
  },
  {
   "cell_type": "code",
   "execution_count": null,
   "metadata": {},
   "outputs": [],
   "source": [
    "test_get_prediction: !pytest -k test_get_prediction"
   ]
  },
  {
   "cell_type": "code",
   "execution_count": null,
   "metadata": {},
   "outputs": [],
   "source": []
  },
  {
   "cell_type": "code",
   "execution_count": null,
   "metadata": {},
   "outputs": [],
   "source": []
  }
 ],
 "metadata": {
  "kernelspec": {
   "display_name": "Python 3 (ipykernel)",
   "language": "python",
   "name": "python3"
  },
  "language_info": {
   "codemirror_mode": {
    "name": "ipython",
    "version": 3
   },
   "file_extension": ".py",
   "mimetype": "text/x-python",
   "name": "python",
   "nbconvert_exporter": "python",
   "pygments_lexer": "ipython3",
   "version": "3.8.8"
  },
  "vscode": {
   "interpreter": {
    "hash": "8a5edab282632443219e051e4ade2d1d5bbc671c781051bf1437897cbdfea0f1"
   }
  }
 },
 "nbformat": 4,
 "nbformat_minor": 2
}
