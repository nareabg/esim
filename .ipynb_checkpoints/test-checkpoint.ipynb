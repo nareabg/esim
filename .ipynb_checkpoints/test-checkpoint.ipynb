{
 "cells": [
  {
   "cell_type": "code",
   "execution_count": null,
   "metadata": {},
   "outputs": [],
   "source": [
    "from zenq.clvmodels import modeling"
   ]
  },
  {
   "cell_type": "code",
   "execution_count": null,
   "metadata": {},
   "outputs": [],
   "source": [
    "from zenq.api import endpoints"
   ]
  },
  {
   "cell_type": "code",
   "execution_count": null,
   "metadata": {},
   "outputs": [],
   "source": [
    "from zenq.api import prepare_db"
   ]
  },
  {
   "cell_type": "code",
   "execution_count": 1,
   "metadata": {},
   "outputs": [],
   "source": [
    "from zenq.visualizations import plot"
   ]
  },
  {
   "cell_type": "code",
   "execution_count": 2,
   "metadata": {},
   "outputs": [],
   "source": [
    "from zenq import utils"
   ]
  },
  {
   "cell_type": "code",
   "execution_count": 3,
   "metadata": {},
   "outputs": [
    {
     "name": "stdout",
     "output_type": "stream",
     "text": [
      "ok\n",
      "None\n"
     ]
    }
   ],
   "source": [
    "plot.PlotUtils.pu()"
   ]
  },
  {
   "cell_type": "code",
   "execution_count": 3,
   "metadata": {},
   "outputs": [
    {
     "ename": "ImportError",
     "evalue": "cannot import name 'main' from 'zenq.api.prepare_db' (/Users/nareabgaryan/Desktop/zenq/zenq/api/prepare_db.py)",
     "output_type": "error",
     "traceback": [
      "\u001b[0;31m---------------------------------------------------------------------------\u001b[0m",
      "\u001b[0;31mImportError\u001b[0m                               Traceback (most recent call last)",
      "Cell \u001b[0;32mIn[3], line 1\u001b[0m\n\u001b[0;32m----> 1\u001b[0m \u001b[38;5;28;01mfrom\u001b[39;00m \u001b[38;5;21;01mzenq\u001b[39;00m\u001b[38;5;21;01m.\u001b[39;00m\u001b[38;5;21;01mapi\u001b[39;00m\u001b[38;5;21;01m.\u001b[39;00m\u001b[38;5;21;01mprepare_db\u001b[39;00m \u001b[38;5;28;01mimport\u001b[39;00m main\n\u001b[1;32m      2\u001b[0m prepare_db\u001b[38;5;241m.\u001b[39mdb\u001b[38;5;241m.\u001b[39mmain()\n",
      "\u001b[0;31mImportError\u001b[0m: cannot import name 'main' from 'zenq.api.prepare_db' (/Users/nareabgaryan/Desktop/zenq/zenq/api/prepare_db.py)"
     ]
    }
   ],
   "source": [
    "from zenq.api.prepare_db import main\n",
    "prepare_db.db.main()"
   ]
  },
  {
   "cell_type": "code",
   "execution_count": 2,
   "metadata": {},
   "outputs": [
    {
     "name": "stdout",
     "output_type": "stream",
     "text": [
      "        Customer        Date  Product weight  Product price Gender  \\\n",
      "0      RXZ350571  2022-09-01            4.40        24200.0      M   \n",
      "1      ZFZ316415  2022-09-01            5.86        35160.0      M   \n",
      "2      KPR936365  2022-09-01            3.76        30080.0      M   \n",
      "3      PBI351070  2022-09-01            2.74        21920.0      F   \n",
      "4      RFI100548  2022-09-01            5.99        35940.0      M   \n",
      "...          ...         ...             ...            ...    ...   \n",
      "21995  QAC630422  2023-04-08            4.09        22495.0      F   \n",
      "21996  MUN988629  2023-04-08            4.34        26040.0      F   \n",
      "21997  QRO989642  2023-04-08            5.16        10320.0      M   \n",
      "21998  NTW716871  2023-04-08            1.39         8340.0      F   \n",
      "21999  FYN433456  2023-04-08            1.93        10615.0      F   \n",
      "\n",
      "      Branch/Locker Location InvoiceId  \n",
      "0      G-Location 1  Yerevan     INV-1  \n",
      "1      G-Location 2  Yerevan     INV-2  \n",
      "2      G-Location 2  Yerevan     INV-3  \n",
      "3      G-Location 3  Yerevan     INV-4  \n",
      "4      G-Location 2  Yerevan     INV-5  \n",
      "...             ...      ...       ...  \n",
      "21995  G-Location 5  Yerevan    INV-96  \n",
      "21996  G-Location 5  Yerevan    INV-97  \n",
      "21997  G-Location 2  Yerevan    INV-98  \n",
      "21998  G-Location 1  Yerevan    INV-99  \n",
      "21999  G-Location 3  Yerevan   INV-100  \n",
      "\n",
      "[22000 rows x 8 columns]\n"
     ]
    }
   ],
   "source": [
    "from zenq.api.endpoints import points\n",
    "\n",
    "# create an instance of the points class\n",
    "p = points()\n",
    "\n",
    "# call the read_csv method on the points instance\n",
    "p.read_csv('globbing.csv')\n",
    "print(p.df)\n"
   ]
  },
  {
   "cell_type": "code",
   "execution_count": null,
   "metadata": {},
   "outputs": [
    {
     "ename": "",
     "evalue": "",
     "output_type": "error",
     "traceback": [
      "\u001b[1;31mRunning cells with 'base' requires ipykernel package.\n",
      "\u001b[1;31mRun the following command to install 'ipykernel' into the Python environment. \n",
      "\u001b[1;31mCommand: 'conda install -n base ipykernel --update-deps --force-reinstall'"
     ]
    }
   ],
   "source": [
    "from zenq.api.endpoints import points \n",
    "# create an instance of the Points class\n",
    "p=points()\n",
    "p.insert_location_name('globbing.csv')"
   ]
  },
  {
   "cell_type": "code",
   "execution_count": null,
   "metadata": {},
   "outputs": [
    {
     "ename": "",
     "evalue": "",
     "output_type": "error",
     "traceback": [
      "\u001b[1;31mFailed to start the Kernel. \n",
      "\u001b[1;31mActivating extension 'ms-python.python' failed: command 'python.viewOutput' already exists. \n",
      "\u001b[1;31mView Jupyter <a href='command:jupyter.viewOutput'>log</a> for further details."
     ]
    }
   ],
   "source": [
    "from zenq.api.endpoints import points \n",
    "# create an instance of the Points class\n",
    "p=points()\n",
    "p.insert_customer('globbing.csv')"
   ]
  },
  {
   "cell_type": "code",
   "execution_count": null,
   "metadata": {},
   "outputs": [],
   "source": [
    "print(self.df.columns)\n"
   ]
  }
 ],
 "metadata": {
  "kernelspec": {
   "display_name": "Python 3 (ipykernel)",
   "language": "python",
   "name": "python3"
  },
  "language_info": {
   "codemirror_mode": {
    "name": "ipython",
    "version": 3
   },
   "file_extension": ".py",
   "mimetype": "text/x-python",
   "name": "python",
   "nbconvert_exporter": "python",
   "pygments_lexer": "ipython3",
   "version": "3.8.8"
  },
  "vscode": {
   "interpreter": {
    "hash": "8a5edab282632443219e051e4ade2d1d5bbc671c781051bf1437897cbdfea0f1"
   }
  }
 },
 "nbformat": 4,
 "nbformat_minor": 2
}
